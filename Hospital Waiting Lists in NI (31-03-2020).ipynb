{
 "cells": [
  {
   "cell_type": "markdown",
   "metadata": {},
   "source": [
    "# Capstone Project - The Battle of Neighborhoods\n",
    "\n",
    "## Preampble\n",
    "\n",
    "\n"
   ]
  },
  {
   "cell_type": "markdown",
   "metadata": {},
   "source": [
    "#### Initial Directories"
   ]
  },
  {
   "cell_type": "code",
   "execution_count": 94,
   "metadata": {},
   "outputs": [],
   "source": [
    "#pip install pandas"
   ]
  },
  {
   "cell_type": "code",
   "execution_count": 95,
   "metadata": {},
   "outputs": [],
   "source": [
    "#conda install -c conda-forge geopy --yes"
   ]
  },
  {
   "cell_type": "code",
   "execution_count": 96,
   "metadata": {},
   "outputs": [],
   "source": [
    "#pip install seaborn"
   ]
  },
  {
   "cell_type": "code",
   "execution_count": 97,
   "metadata": {},
   "outputs": [],
   "source": [
    "#pip install earthpy"
   ]
  },
  {
   "cell_type": "code",
   "execution_count": 98,
   "metadata": {},
   "outputs": [],
   "source": [
    "#pip install geojsonio"
   ]
  },
  {
   "cell_type": "code",
   "execution_count": 99,
   "metadata": {},
   "outputs": [],
   "source": [
    "#pip install shapely"
   ]
  },
  {
   "cell_type": "code",
   "execution_count": 100,
   "metadata": {},
   "outputs": [],
   "source": [
    "#pip install folium"
   ]
  },
  {
   "cell_type": "code",
   "execution_count": 101,
   "metadata": {},
   "outputs": [],
   "source": [
    "#conda install --channel conda-forge geopandas"
   ]
  },
  {
   "cell_type": "code",
   "execution_count": 102,
   "metadata": {},
   "outputs": [],
   "source": [
    "#pip install IPython"
   ]
  },
  {
   "cell_type": "code",
   "execution_count": 103,
   "metadata": {},
   "outputs": [],
   "source": [
    "#pip install foursquare\n"
   ]
  },
  {
   "cell_type": "code",
   "execution_count": 11,
   "metadata": {},
   "outputs": [],
   "source": [
    "#pip install -U googlemaps"
   ]
  },
  {
   "cell_type": "code",
   "execution_count": 12,
   "metadata": {},
   "outputs": [],
   "source": [
    "#pip install geojson"
   ]
  },
  {
   "cell_type": "code",
   "execution_count": 104,
   "metadata": {},
   "outputs": [],
   "source": [
    "#pip install python -m webbrowser -t"
   ]
  },
  {
   "cell_type": "code",
   "execution_count": 105,
   "metadata": {},
   "outputs": [],
   "source": [
    "#pip install --upgrade pandas"
   ]
  },
  {
   "cell_type": "code",
   "execution_count": 107,
   "metadata": {},
   "outputs": [],
   "source": [
    "#pip install beautifulsoup4"
   ]
  },
  {
   "cell_type": "code",
   "execution_count": 106,
   "metadata": {},
   "outputs": [],
   "source": [
    "#pip install jsonquery"
   ]
  },
  {
   "cell_type": "markdown",
   "metadata": {},
   "source": [
    "#### Import Modules"
   ]
  },
  {
   "cell_type": "code",
   "execution_count": 31,
   "metadata": {},
   "outputs": [],
   "source": [
    "import pandas as pd\n",
    "import numpy as np\n",
    "import scipy as sp\n",
    "import matplotlib.pyplot as plt\n",
    "import seaborn as sns\n",
    "import pylab as pl\n",
    "import json\n",
    "import folium\n",
    "#import geopandas as gpd\n",
    "#import earthpy as et\n",
    "import IPython\n",
    "import geojson\n",
    "import foursquare as fs\n",
    "#import beautifulsoup4 as bs4\n",
    "#from bs4 import BeautifulSoup\n",
    "#import geopandas as gpd"
   ]
  },
  {
   "cell_type": "markdown",
   "metadata": {},
   "source": [
    "## Introduction/Business Problem\n"
   ]
  },
  {
   "cell_type": "markdown",
   "metadata": {},
   "source": [
    "\n",
    "### Introduction where you discuss the business problem and who would be interested in this project.\n",
    "\n",
    "Hospital Waiting Lists in Northern Ireland \n",
    "\n"
   ]
  },
  {
   "cell_type": "markdown",
   "metadata": {},
   "source": [
    "## Data\n",
    "\n",
    "where you describe the data that will be used to solve the problem and the source of the data.\n",
    "\n",
    "According to the question, I need to find following data to resolve the problem.\n",
    "\n",
    "A. Geographic coordinate of Northern Ireland hospitals\n",
    "I will need to find location data for Northern Ireland hospitals ... I can find data by carrying out a series of searchs using Foursquare Location Venues search on hospitals around a range of locations in Northern Ireland \n",
    "\n",
    "* Belfast Region 54.5973° N, 5.9301° W\n",
    "* Lisburn Region 54.5162° N, 6.0580° W    \n",
    "* Newtownabbey Region 54.6792° N, 5.9591° W\n",
    "* Bangor Region 54.6542° N, 5.6731° W\n",
    "* Antrim Region 54.7195° N, 6.2072\n",
    "* Ballycastle Region 55.2047° N, 6.2532\n",
    "* Coleraine Region 55.1326° N, 6.6646° W    \n",
    "* Derry Region 54.9966° N, 7.3086° W\n",
    "* Omagh Region 54.5977° N, 7.3100° W\n",
    "* Enniskillen Region   54.3438° N, 7.6315° W \n",
    "* Newry Region 54.1751° N, 6.3402° W\n",
    "* Armagh Region 54.3503° N, 6.6528° W\n",
    "* Downpatrick Region 54.3288° N, 5.7157° W\n"
   ]
  },
  {
   "cell_type": "markdown",
   "metadata": {},
   "source": [
    "Get Location Data from FOURSQUARE<sup>TM</sup>"
   ]
  },
  {
   "cell_type": "code",
   "execution_count": 70,
   "metadata": {},
   "outputs": [
    {
     "name": "stdout",
     "output_type": "stream",
     "text": [
      "         Region  Latitude  Longitude\n",
      "0       Belfast      54.6       -5.9\n",
      "1       Lisburn      54.5       -6.0\n",
      "2   Newtonabbey      54.7       -6.0\n",
      "3        Bangor      54.7       -5.7\n",
      "4        Antrim      54.7       -6.2\n",
      "5   Ballycastle      55.2       -6.3\n",
      "6     Coleraine      55.1       -6.7\n",
      "7         Derry      55.0       -7.3\n",
      "8         Omagh      54.6       -7.3\n",
      "9    Eniskillen      54.3       -7.6\n",
      "10        Newry      54.2       -6.3\n",
      "11       Armagh      54.4       -6.7\n",
      "12  Downpatrick      54.3       -5.7\n"
     ]
    }
   ],
   "source": [
    "# intialise data of lists.\n",
    "locdata = {'Region':['Belfast', 'Lisburn', 'Newtonabbey', 'Bangor', 'Antrim', 'Ballycastle', 'Coleraine', 'Derry', 'Omagh', 'Eniskillen', 'Newry', 'Armagh', 'Downpatrick'], 'Latitude':[54.6, 54.5, 54.7, 54.7, 54.7, 55.2, 55.1, 55.0, 54.6, 54.3, 54.2, 54.4, 54.3],'Longitude':[-5.9, -6.0, -6.0, -5.7, -6.2, -6.3, -6.7, -7.3, -7.3, -7.6, -6.3, -6.7, -5.7]}\n",
    "# intialise data of lists.\n",
    "locdf = pd.DataFrame(locdata) \n",
    "# Print the output. \n",
    "\n",
    "print(locdf)"
   ]
  },
  {
   "cell_type": "code",
   "execution_count": 110,
   "metadata": {},
   "outputs": [],
   "source": [
    "#url2='https://api.foursquare.com/v2/venues/search?ll=54.6,-5.9&categoryId=4bf58dd8d48988d196941735&client_id=E1DFI4SYQLTFLMNIUXB2BYBAT1WZFR3FIGIUP1QECWCAMVPN&client_secret=5J1XJPE51YXN3NORX1TAUOY53DXOUW0GCSQDMWDR3VMVZ402&limit=100&v=20180628'\n",
    "\n",
    "#Belfast Region\n",
    "url1='https://api.foursquare.com/v2/venues/search?ll=54.6,-5.9&categoryId=4bf58dd8d48988d196941735&client_id=E1DFI4SYQLTFLMNIUXB2BYBAT1WZFR3FIGIUP1QECWCAMVPN&client_secret=5J1XJPE51YXN3NORX1TAUOY53DXOUW0GCSQDMWDR3VMVZ402&limit=1&v=20180628'\n",
    "\n",
    "#Lisburn Region 54.5162° N, 6.0580° W    \n",
    "url2='https://api.foursquare.com/v2/venues/search?ll=54.5,-6.06&categoryId=4bf58dd8d48988d196941735&client_id=E1DFI4SYQLTFLMNIUXB2BYBAT1WZFR3FIGIUP1QECWCAMVPN&client_secret=5J1XJPE51YXN3NORX1TAUOY53DXOUW0GCSQDMWDR3VMVZ402&limit=20&v=20180628'\n",
    "\n",
    "#Newtownabbey Region 54.6792° N, 5.9591° W\n",
    "url3='https://api.foursquare.com/v2/venues/search?ll=54.67,-5.96&categoryId=4bf58dd8d48988d196941735&client_id=E1DFI4SYQLTFLMNIUXB2BYBAT1WZFR3FIGIUP1QECWCAMVPN&client_secret=5J1XJPE51YXN3NORX1TAUOY53DXOUW0GCSQDMWDR3VMVZ402&limit=20&v=20180628'\n",
    " \n",
    "#Bangor Region 54.6542° N, 5.6731° W\n",
    "url4='https://api.foursquare.com/v2/venues/search?ll=54.65,-5.67&categoryId=4bf58dd8d48988d196941735&client_id=E1DFI4SYQLTFLMNIUXB2BYBAT1WZFR3FIGIUP1QECWCAMVPN&client_secret=5J1XJPE51YXN3NORX1TAUOY53DXOUW0GCSQDMWDR3VMVZ402&limit=20&v=20180628'\n",
    "    \n",
    "#Antrim Region 54.7195° N, 6.2072\n",
    "url5='https://api.foursquare.com/v2/venues/search?ll=54.6,-5.9&categoryId=4bf58dd8d48988d196941735&client_id=E1DFI4SYQLTFLMNIUXB2BYBAT1WZFR3FIGIUP1QECWCAMVPN&client_secret=5J1XJPE51YXN3NORX1TAUOY53DXOUW0GCSQDMWDR3VMVZ402&limit=50&v=20180628'\n",
    "\n",
    "#Ballycastle Region 55.2047° N, 6.2532\n",
    "url6='https://api.foursquare.com/v2/venues/search?ll=55.2,-6.25&categoryId=4bf58dd8d48988d196941735&client_id=E1DFI4SYQLTFLMNIUXB2BYBAT1WZFR3FIGIUP1QECWCAMVPN&client_secret=5J1XJPE51YXN3NORX1TAUOY53DXOUW0GCSQDMWDR3VMVZ402&limit=50&v=20180628'\n",
    "\n",
    "#Coleraine #55.1326° N, 6.6646° W\n",
    "url7='https://api.foursquare.com/v2/venues/search?ll=55.13,-6.66&categoryId=4bf58dd8d48988d196941735&client_id=E1DFI4SYQLTFLMNIUXB2BYBAT1WZFR3FIGIUP1QECWCAMVPN&client_secret=5J1XJPE51YXN3NORX1TAUOY53DXOUW0GCSQDMWDR3VMVZ402&limit=20&v=20180628'\n",
    "    \n",
    "#Derry Region    \n",
    "url8='https://api.foursquare.com/v2/venues/search?ll=55.0,-7.3&categoryId=4bf58dd8d48988d196941735&client_id=E1DFI4SYQLTFLMNIUXB2BYBAT1WZFR3FIGIUP1QECWCAMVPN&client_secret=5J1XJPE51YXN3NORX1TAUOY53DXOUW0GCSQDMWDR3VMVZ402&limit=50&v=20180628'\n",
    "\n",
    "#Omagh Region\n",
    "url9='https://api.foursquare.com/v2/venues/search?ll=54.6,-7.7&categoryId=4bf58dd8d48988d196941735&client_id=E1DFI4SYQLTFLMNIUXB2BYBAT1WZFR3FIGIUP1QECWCAMVPN&client_secret=5J1XJPE51YXN3NORX1TAUOY53DXOUW0GCSQDMWDR3VMVZ402&limit=50&v=20180628'\n",
    "\n",
    "#Enniskillen Region   54.3438° N, 7.6315° W \n",
    "url10='https://api.foursquare.com/v2/venues/search?ll=54.34,-7.6&categoryId=4bf58dd8d48988d196941735&client_id=E1DFI4SYQLTFLMNIUXB2BYBAT1WZFR3FIGIUP1QECWCAMVPN&client_secret=5J1XJPE51YXN3NORX1TAUOY53DXOUW0GCSQDMWDR3VMVZ402&limit=50&v=20180628'\n",
    "\n",
    "#Newry Region 54.1751° N, 6.3402° W\n",
    "url11='https://api.foursquare.com/v2/venues/search?ll=54.17,-6.34&categoryId=4bf58dd8d48988d196941735&client_id=E1DFI4SYQLTFLMNIUXB2BYBAT1WZFR3FIGIUP1QECWCAMVPN&client_secret=5J1XJPE51YXN3NORX1TAUOY53DXOUW0GCSQDMWDR3VMVZ402&limit=50&v=20180628' \n",
    "\n",
    "#Armagh Region 54.3503° N, 6.6528° W\n",
    "url12='https://api.foursquare.com/v2/venues/search?ll=54.3,-6.6&categoryId=4bf58dd8d48988d196941735&client_id=E1DFI4SYQLTFLMNIUXB2BYBAT1WZFR3FIGIUP1QECWCAMVPN&client_secret=5J1XJPE51YXN3NORX1TAUOY53DXOUW0GCSQDMWDR3VMVZ402&limit=50&v=20180628'\n",
    "\n",
    "#Downpatrick Region\n",
    "url13='https://api.foursquare.com/v2/venues/search?ll=54.3,-6.6&categoryId=4bf58dd8d48988d196941735&client_id=E1DFI4SYQLTFLMNIUXB2BYBAT1WZFR3FIGIUP1QECWCAMVPN&client_secret=5J1XJPE51YXN3NORX1TAUOY53DXOUW0GCSQDMWDR3VMVZ402&limit=50&v=20180628'\n"
   ]
  },
  {
   "cell_type": "code",
   "execution_count": 62,
   "metadata": {},
   "outputs": [],
   "source": [
    "url2='https://api.foursquare.com/v2/venues/search?ll=54.6,-5.9&categoryId=4bf58dd8d48988d196941735&client_id=E1DFI4SYQLTFLMNIUXB2BYBAT1WZFR3FIGIUP1QECWCAMVPN&client_secret=5J1XJPE51YXN3NORX1TAUOY53DXOUW0GCSQDMWDR3VMVZ402&limit=100&v=20180628'\n",
    "\n",
    "#count = 0\n",
    "#while (count < 13):     \n",
    "#    JSC = requests.get(url1).json()\n",
    "#    print(\"Hello Geek\") \n",
    "#    venues = JSC['response']['venues']\n",
    "\n",
    "    \n",
    "#Belfasth=requests.get(url1).json()\n",
    "#Lisburnh=requests.get(url2).json()\n",
    "#Newtonabbeyh=requests.get(url3).json()\n",
    "#Bangorh=requests.get(url4).json()\n",
    "#Antrimh=requests.get(url5).json()\n",
    "#Ballycastleh=requests.get(url6).json()\n",
    "#Coleraineh=requests.get(url7).json()\n",
    "#Derryh=requests.get(url8).json()\n",
    "#Omaghh=requests.get(url9).json()\n",
    "#Eniskillenh=requests.get(url10).json()\n",
    "#Newryh=requests.get(url11).json()\n",
    "#Armaghh=requests.get(url12).json()\n",
    "#Downpatrickh=requests.get(url13).json()\n",
    "#JSONContent = requests.get(urll2).json()\n",
    "\n",
    "\n",
    "#content = json.dumps(Belfasth, indent = 6, sort_keys=True)\n",
    "\n",
    "\n",
    "#assign relevant part of JSON to venues\n",
    "#venues = Belfasth['response']['venues']\n",
    "\n",
    "# tranform venues into a dataframe\n",
    "#dataframe = json_normalize(venues)\n",
    "#dataframe.head()\n",
    "\n",
    "#import webbrowser\n",
    "\n",
    "#webbrowser.open(url)\n",
    "#results = requests.get(url).json()\n",
    "\n",
    "#https://api.foursquare.com/v2/venues/search?ll=54.6,-5.9&categoryId=4bf58dd8d48988d196941735&client_id=E1DFI4SYQLTFLMNIUXB2BYBAT1WZFR3FIGIUP1QECWCAMVPN&client_secret=5J1XJPE51YXN3NORX1TAUOY53DXOUW0GCSQDMWDR3VMVZ402&limit=100&v=20180628\n",
    "\n",
    "    \n",
    "###venues = results['response']\n",
    "#json_normalize(venues)\n",
    "#ll=54.6,-5.9&categoryId=4bf58dd8d48988d196941735&client_id=E1DFI4SYQLTFLMNIUXB2BYBAT1WZFR3FIGIUP1QECWCAMVPN&client_secret=5J1XJPE51YXN3NORX1TAUOY53DXOUW0GCSQDMWDR3VMVZ402&limit=100&v=20180628\n",
    "\n",
    "\n",
    "#print(\"All Data Imported\")"
   ]
  },
  {
   "cell_type": "code",
   "execution_count": 112,
   "metadata": {},
   "outputs": [
    {
     "data": {
      "text/html": [
       "<div>\n",
       "<style scoped>\n",
       "    .dataframe tbody tr th:only-of-type {\n",
       "        vertical-align: middle;\n",
       "    }\n",
       "\n",
       "    .dataframe tbody tr th {\n",
       "        vertical-align: top;\n",
       "    }\n",
       "\n",
       "    .dataframe thead th {\n",
       "        text-align: right;\n",
       "    }\n",
       "</style>\n",
       "<table border=\"1\" class=\"dataframe\">\n",
       "  <thead>\n",
       "    <tr style=\"text-align: right;\">\n",
       "      <th></th>\n",
       "      <th>name</th>\n",
       "      <th>categories</th>\n",
       "      <th>lat</th>\n",
       "      <th>lng</th>\n",
       "      <th>city</th>\n",
       "      <th>country</th>\n",
       "    </tr>\n",
       "  </thead>\n",
       "  <tbody>\n",
       "    <tr>\n",
       "      <th>0</th>\n",
       "      <td>Craigavon Area Hospital</td>\n",
       "      <td>Hospital</td>\n",
       "      <td>54.434523</td>\n",
       "      <td>-6.409912</td>\n",
       "      <td>Craigavon</td>\n",
       "      <td>United Kingdom</td>\n",
       "    </tr>\n",
       "    <tr>\n",
       "      <th>1</th>\n",
       "      <td>St Luke's Hospital</td>\n",
       "      <td>Hospital</td>\n",
       "      <td>54.363271</td>\n",
       "      <td>-6.652340</td>\n",
       "      <td>NaN</td>\n",
       "      <td>United Kingdom</td>\n",
       "    </tr>\n",
       "    <tr>\n",
       "      <th>2</th>\n",
       "      <td>South Tyrone Hospital</td>\n",
       "      <td>Hospital</td>\n",
       "      <td>54.522772</td>\n",
       "      <td>-6.789000</td>\n",
       "      <td>Dungannon</td>\n",
       "      <td>United Kingdom</td>\n",
       "    </tr>\n",
       "    <tr>\n",
       "      <th>3</th>\n",
       "      <td>Podiatry Dept., Lurgan Hospital</td>\n",
       "      <td>Hospital</td>\n",
       "      <td>54.457130</td>\n",
       "      <td>-6.338271</td>\n",
       "      <td>Lurgan</td>\n",
       "      <td>United Kingdom</td>\n",
       "    </tr>\n",
       "    <tr>\n",
       "      <th>4</th>\n",
       "      <td>Daisy Hill Hospital</td>\n",
       "      <td>Hospital</td>\n",
       "      <td>54.179651</td>\n",
       "      <td>-6.350720</td>\n",
       "      <td>Newry</td>\n",
       "      <td>United Kingdom</td>\n",
       "    </tr>\n",
       "    <tr>\n",
       "      <th>5</th>\n",
       "      <td>A&amp;E Craigavon Hospital</td>\n",
       "      <td>Hospital</td>\n",
       "      <td>54.434674</td>\n",
       "      <td>-6.409710</td>\n",
       "      <td>Craigavon</td>\n",
       "      <td>United Kingdom</td>\n",
       "    </tr>\n",
       "    <tr>\n",
       "      <th>6</th>\n",
       "      <td>Day Clinical Centre</td>\n",
       "      <td>Hospital</td>\n",
       "      <td>54.179270</td>\n",
       "      <td>-6.350635</td>\n",
       "      <td>Newry</td>\n",
       "      <td>United Kingdom</td>\n",
       "    </tr>\n",
       "    <tr>\n",
       "      <th>7</th>\n",
       "      <td>CAH Ramone Building</td>\n",
       "      <td>Hospital</td>\n",
       "      <td>54.434472</td>\n",
       "      <td>-6.409973</td>\n",
       "      <td>Craigavon</td>\n",
       "      <td>United Kingdom</td>\n",
       "    </tr>\n",
       "    <tr>\n",
       "      <th>8</th>\n",
       "      <td>Armagh Community Hospital</td>\n",
       "      <td>Hospital</td>\n",
       "      <td>54.350679</td>\n",
       "      <td>-6.642694</td>\n",
       "      <td>NaN</td>\n",
       "      <td>United Kingdom</td>\n",
       "    </tr>\n",
       "    <tr>\n",
       "      <th>9</th>\n",
       "      <td>Day Surgery Unit, Craigavon Area Hospital</td>\n",
       "      <td>Hospital</td>\n",
       "      <td>54.434287</td>\n",
       "      <td>-6.406690</td>\n",
       "      <td>Craigavon</td>\n",
       "      <td>United Kingdom</td>\n",
       "    </tr>\n",
       "    <tr>\n",
       "      <th>10</th>\n",
       "      <td>CAH Elective Surgery Ward</td>\n",
       "      <td>Hospital Ward</td>\n",
       "      <td>54.434410</td>\n",
       "      <td>-6.406862</td>\n",
       "      <td>NaN</td>\n",
       "      <td>United Kingdom</td>\n",
       "    </tr>\n",
       "    <tr>\n",
       "      <th>11</th>\n",
       "      <td>St Davnet's Complex</td>\n",
       "      <td>Hospital</td>\n",
       "      <td>54.248779</td>\n",
       "      <td>-6.968883</td>\n",
       "      <td>Monaghan</td>\n",
       "      <td>Ireland</td>\n",
       "    </tr>\n",
       "    <tr>\n",
       "      <th>12</th>\n",
       "      <td>St Mary's Hospital</td>\n",
       "      <td>Hospital</td>\n",
       "      <td>54.120330</td>\n",
       "      <td>-6.745119</td>\n",
       "      <td>Co Monaghan</td>\n",
       "      <td>Ireland</td>\n",
       "    </tr>\n",
       "    <tr>\n",
       "      <th>13</th>\n",
       "      <td>Lurgan Hospital</td>\n",
       "      <td>Hospital</td>\n",
       "      <td>54.457198</td>\n",
       "      <td>-6.338170</td>\n",
       "      <td>NaN</td>\n",
       "      <td>United Kingdom</td>\n",
       "    </tr>\n",
       "    <tr>\n",
       "      <th>14</th>\n",
       "      <td>Mandeville Cancer Care Unit</td>\n",
       "      <td>Hospital</td>\n",
       "      <td>54.433899</td>\n",
       "      <td>-6.407751</td>\n",
       "      <td>NaN</td>\n",
       "      <td>United Kingdom</td>\n",
       "    </tr>\n",
       "    <tr>\n",
       "      <th>15</th>\n",
       "      <td>South Tyrone Hospital</td>\n",
       "      <td>Hospital</td>\n",
       "      <td>54.510156</td>\n",
       "      <td>-6.768836</td>\n",
       "      <td>Dungannon</td>\n",
       "      <td>United Kingdom</td>\n",
       "    </tr>\n",
       "    <tr>\n",
       "      <th>16</th>\n",
       "      <td>Markethill Health Centre</td>\n",
       "      <td>Hospital</td>\n",
       "      <td>54.296870</td>\n",
       "      <td>-6.519070</td>\n",
       "      <td>NaN</td>\n",
       "      <td>United Kingdom</td>\n",
       "    </tr>\n",
       "    <tr>\n",
       "      <th>17</th>\n",
       "      <td>Monaghan General Hospital</td>\n",
       "      <td>Hospital</td>\n",
       "      <td>54.249337</td>\n",
       "      <td>-6.974511</td>\n",
       "      <td>NaN</td>\n",
       "      <td>Ireland</td>\n",
       "    </tr>\n",
       "  </tbody>\n",
       "</table>\n",
       "</div>"
      ],
      "text/plain": [
       "                                         name     categories        lat  \\\n",
       "0                     Craigavon Area Hospital       Hospital  54.434523   \n",
       "1                          St Luke's Hospital       Hospital  54.363271   \n",
       "2                       South Tyrone Hospital       Hospital  54.522772   \n",
       "3             Podiatry Dept., Lurgan Hospital       Hospital  54.457130   \n",
       "4                         Daisy Hill Hospital       Hospital  54.179651   \n",
       "5                      A&E Craigavon Hospital       Hospital  54.434674   \n",
       "6                         Day Clinical Centre       Hospital  54.179270   \n",
       "7                         CAH Ramone Building       Hospital  54.434472   \n",
       "8                   Armagh Community Hospital       Hospital  54.350679   \n",
       "9   Day Surgery Unit, Craigavon Area Hospital       Hospital  54.434287   \n",
       "10                  CAH Elective Surgery Ward  Hospital Ward  54.434410   \n",
       "11                        St Davnet's Complex       Hospital  54.248779   \n",
       "12                         St Mary's Hospital       Hospital  54.120330   \n",
       "13                            Lurgan Hospital       Hospital  54.457198   \n",
       "14                Mandeville Cancer Care Unit       Hospital  54.433899   \n",
       "15                      South Tyrone Hospital       Hospital  54.510156   \n",
       "16                   Markethill Health Centre       Hospital  54.296870   \n",
       "17                  Monaghan General Hospital       Hospital  54.249337   \n",
       "\n",
       "         lng         city         country  \n",
       "0  -6.409912    Craigavon  United Kingdom  \n",
       "1  -6.652340          NaN  United Kingdom  \n",
       "2  -6.789000    Dungannon  United Kingdom  \n",
       "3  -6.338271       Lurgan  United Kingdom  \n",
       "4  -6.350720        Newry  United Kingdom  \n",
       "5  -6.409710    Craigavon  United Kingdom  \n",
       "6  -6.350635        Newry  United Kingdom  \n",
       "7  -6.409973    Craigavon  United Kingdom  \n",
       "8  -6.642694          NaN  United Kingdom  \n",
       "9  -6.406690    Craigavon  United Kingdom  \n",
       "10 -6.406862          NaN  United Kingdom  \n",
       "11 -6.968883     Monaghan         Ireland  \n",
       "12 -6.745119  Co Monaghan         Ireland  \n",
       "13 -6.338170          NaN  United Kingdom  \n",
       "14 -6.407751          NaN  United Kingdom  \n",
       "15 -6.768836    Dungannon  United Kingdom  \n",
       "16 -6.519070          NaN  United Kingdom  \n",
       "17 -6.974511          NaN         Ireland  "
      ]
     },
     "execution_count": 112,
     "metadata": {},
     "output_type": "execute_result"
    }
   ],
   "source": [
    "\n",
    "import pandas as pd\n",
    "#count = 1\n",
    "#while (count < 13):\n",
    "#    file='url'+str(count)\n",
    "#    print(file)\n",
    "\n",
    "\n",
    "#results = requests.get(url1).json()\n",
    "A = requests.get(url13).json()\n",
    "venues = A['response']['venues']\n",
    "    \n",
    "dataframe = pandas.json_normalize(venues)\n",
    "dataframe.head()\n",
    "\n",
    "    \n",
    "#assign relevant part of JSON to venues\n",
    "\n",
    "#venues = JSC['response']['venues']\n",
    "\n",
    "dataframe = pandas.json_normalize (venues)\n",
    "dataframe.head()\n",
    "\n",
    "# keep only columns that include venue name, and anything that is associated with location\n",
    "filtered_columns = ['name', 'categories'] + [col for col in dataframe.columns if col.startswith('location.')] + ['id']\n",
    "dataframe_filtered = dataframe.loc[:, filtered_columns]\n",
    "\n",
    "\n",
    "# function that extracts the category of the venue\n",
    "def get_category_type(row):\n",
    "    try:\n",
    "        categories_list = row['categories']\n",
    "    except:\n",
    "        categories_list = row['venue.categories']\n",
    "        \n",
    "    if len(categories_list) == 0:\n",
    "            return None\n",
    "    else:\n",
    "         return categories_list[0]['name']\n",
    "\n",
    "# filter the category for each row\n",
    "dataframe_filtered['categories'] = dataframe_filtered.apply(get_category_type, axis=1)\n",
    "\n",
    "# clean column names by keeping only last term\n",
    "dataframe_filtered.columns = [column.split('.')[-1] for column in dataframe_filtered.columns]\n",
    "\n",
    "dataframe_filtered2=dataframe_filtered.drop(columns=['labeledLatLngs', 'distance','postalCode','cc','state','crossStreet','address','id','formattedAddress'])\n",
    "\n",
    "dataframe_filtered2"
   ]
  },
  {
   "cell_type": "code",
   "execution_count": 9,
   "metadata": {},
   "outputs": [
    {
     "ename": "SyntaxError",
     "evalue": "invalid syntax (<ipython-input-9-0575d7736ef7>, line 2)",
     "output_type": "error",
     "traceback": [
      "\u001b[1;36m  File \u001b[1;32m\"<ipython-input-9-0575d7736ef7>\"\u001b[1;36m, line \u001b[1;32m2\u001b[0m\n\u001b[1;33m    CLIENT_SECRET = 5J1XJPE51YXN3NORX1TAUOY53DXOUW0GCSQDMWDR3VMVZ402\u001b[0m\n\u001b[1;37m                      ^\u001b[0m\n\u001b[1;31mSyntaxError\u001b[0m\u001b[1;31m:\u001b[0m invalid syntax\n"
     ]
    }
   ],
   "source": [
    "CLIENT_ID = E1DFI4SYQLTFLMNIUXB2BYBAT1WZFR3FIGIUP1QECWCAMVPN\n",
    "CLIENT_SECRET = 5J1XJPE51YXN3NORX1TAUOY53DXOUW0GCSQDMWDR3VMVZ402\n",
    "VERSION = 20180628\n",
    "LIMIT =50\n",
    "\n",
    "\n",
    "url='https://api.foursquare.com/v2/venues/explore?ll=54.6,-5.9&categoryId=4bf58dd8d48988d196941735&client_id=E1DFI4SYQLTFLMNIUXB2BYBAT1WZFR3FIGIUP1QECWCAMVPN&client_secret=5J1XJPE51YXN3NORX1TAUOY53DXOUW0GCSQDMWDR3VMVZ402&limit=100&v=20180628"
   ]
  },
  {
   "cell_type": "code",
   "execution_count": null,
   "metadata": {},
   "outputs": [],
   "source": []
  },
  {
   "cell_type": "code",
   "execution_count": null,
   "metadata": {},
   "outputs": [],
   "source": [
    "\n"
   ]
  },
  {
   "cell_type": "markdown",
   "metadata": {},
   "source": [
    "## Data Sources for Classification and Analysis"
   ]
  },
  {
   "cell_type": "markdown",
   "metadata": {},
   "source": [
    "Data for this exercise is extracted from https://www.opendatani.gov.uk/group/health <br>\n",
    "Emergency Care Waiting Times https://www.opendatani.gov.uk/dataset/emergency-care-waiting-times<br>\n",
    "Outpatient Waiting Times https://www.opendatani.gov.uk/dataset/outpatient-waiting-times<br>\n",
    "Inpatient Waiting Times https://www.opendatani.gov.uk/dataset/inpatient-waiting-times<br>\n",
    "Diagnostic Waiting Times https://www.opendatani.gov.uk/dataset/diagnostic-waiting-times<br>\n",
    "Cancer Waiting Times https://www.opendatani.gov.uk/dataset/cancer-waiting-times<br>\n",
    "\n",
    " Contains public sector information licensed under the Open Government Licence v3.0."
   ]
  },
  {
   "cell_type": "code",
   "execution_count": 108,
   "metadata": {},
   "outputs": [
    {
     "name": "stdout",
     "output_type": "stream",
     "text": [
      "All Data Imported\n"
     ]
    }
   ],
   "source": [
    "EmergWL = pd.read_csv(r\"https://www.health-ni.gov.uk/sites/default/files/publications/health/hs-niwts-ecwt-tables-q1-18-19.csv\")\n",
    "\n",
    "FirstCOPWL = pd.read_csv(r\"https://www.health-ni.gov.uk/sites/default/files/publications/health/hs-niwts-tables-outpatients-q2-19-20.csv\")\n",
    "\n",
    "CentralCOPWL = pd.read_csv(r\"https://www.health-ni.gov.uk/sites/default/files/publications/health/hs-niwts-tables-outpatients-centralisation-q2-19-20.csv\")\n",
    "ICATSWL=pd.read_csv(r\"https://www.health-ni.gov.uk/sites/default/files/publications/health/hs-niwts-tables-icats-q2-19-20.csv\")\n",
    "DayCaseIPWL=pd.read_csv(r\"https://www.health-ni.gov.uk/sites/default/files/publications/health/hs-niwts-tables-day-cases-q2-19-20.csv\")\n",
    "AdminIPWL=pd.read_csv(r\"https://www.health-ni.gov.uk/sites/default/files/publications/health/hs-niwts-tables-inpatients-q2-19-20.csv\")\n",
    "TotalIPWL=pd.read_csv(r\"https://www.health-ni.gov.uk/sites/default/files/publications/health/hs-niwts-tables-total-waiting-q2-19-20.csv\")\n",
    "\n",
    "DiagnosticWT=pd.read_csv(r\"https://www.health-ni.gov.uk/sites/default/files/publications/health/hs-niwts-tables-diagnostic-waiting-times-q2-19-20.csv\")\n",
    "DiagnosticRTT=pd.read_csv(r\"https://www.health-ni.gov.uk/sites/default/files/publications/health/hs-niwts-tables-diagnostic-reporting-turnaround-q2-19-20.csv\")\n",
    "\n",
    "HSCT62DCWT=pd.read_csv(r\"https://www.health-ni.gov.uk/sites/default/files/publications/health/hs-niwts-cwt-62-day-wait-by-trust-q1-19-20.csv\")\n",
    "TS62DCWT=pd.read_csv(r\"https://www.health-ni.gov.uk/sites/default/files/publications/health/hs-niwts-cwt-62-day-wait-by-tumour-q1-19-20.csv\")\n",
    "HSCT31DCWT=pd.read_csv(r\"https://www.health-ni.gov.uk/sites/default/files/publications/health/hs-niwts-cwt-31-day-wait-by-trust-q1-19-20.csv\")\n",
    "TS62DCWT=pd.read_csv(r\"https://www.health-ni.gov.uk/sites/default/files/publications/health/hs-niwts-cwt-31-day-wait-by-tumour-q1-19-20.csv\")  \n",
    "CWT14D=pd.read_csv(r\"https://www.health-ni.gov.uk/sites/default/files/publications/health/hs-niwts-cwt-14-day-wait-q1-19-20.csv\")\n",
    "TBMpath=\"https://www.opendatani.gov.uk/dataset/0b04b46c-49af-45d5-b277-91b10937a01b/resource/645f8eef-8813-47a9-bb1e-a4932ada721a/download/trustboundaries.geojson\"\n",
    "\n",
    "print(\"All Data Imported\")"
   ]
  },
  {
   "cell_type": "code",
   "execution_count": 109,
   "metadata": {
    "scrolled": true
   },
   "outputs": [
    {
     "data": {
      "text/html": [
       "<div style=\"width:100%;\"><div style=\"position:relative;width:100%;height:0;padding-bottom:60%;\"><iframe src=\"about:blank\" style=\"position:absolute;width:100%;height:100%;left:0;top:0;border:none !important;\" data-html=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 onload=\"this.contentDocument.open();this.contentDocument.write(atob(this.getAttribute('data-html')));this.contentDocument.close();\" allowfullscreen webkitallowfullscreen mozallowfullscreen></iframe></div></div>"
      ],
      "text/plain": [
       "<folium.folium.Map at 0x19e19f775c8>"
      ]
     },
     "execution_count": 109,
     "metadata": {},
     "output_type": "execute_result"
    }
   ],
   "source": [
    "TrustMap = folium.Map(location=[54.6, -7.7], tiles = \"Stamen Terrain\", zoom_start=8.45)\n",
    "#,\n",
    "TrustMap\n"
   ]
  },
  {
   "cell_type": "code",
   "execution_count": null,
   "metadata": {},
   "outputs": [],
   "source": []
  },
  {
   "cell_type": "code",
   "execution_count": null,
   "metadata": {},
   "outputs": [],
   "source": [
    "from IPython.display import GeoJSON\n",
    "\n",
    "GeoJSON({\n",
    "    \"type\": \"Feature\",\n",
    "    \"geometry\": {\n",
    "        \"type\": \"Point\",\n",
    "        \"coordinates\": [54.6, -7.7]\n",
    "    }\n",
    "})\n",
    "#<iframe width=\"700\" height=\"400\" src=\"https://www.opendatani.gov.uk/dataset/department-of-health-trust-boundaries/resource/645f8eef-8813-47a9-bb1e-a4932ada721a/view/eaa70ef4-6e10-492c-a464-e6c6769b0fb8\" frameBorder=\"0\"></iframe>"
   ]
  },
  {
   "cell_type": "code",
   "execution_count": null,
   "metadata": {},
   "outputs": [],
   "source": [
    "IPython.display.JSON(data=None, url=None, filename=None)"
   ]
  },
  {
   "cell_type": "code",
   "execution_count": null,
   "metadata": {},
   "outputs": [],
   "source": [
    "import json\n",
    "\n",
    "with open('https://www.opendatani.gov.uk/dataset/0b04b46c-49af-45d5-b277-91b10937a01b/resource/645f8eef-8813-47a9-bb1e-a4932ada721a/download/trustboundaries.geojson') as f:\n",
    "    data = json.load(f)\n",
    "\n",
    "for feature in data['features']:\n",
    "    print (feature['geometry']['type'])\n",
    "    print (feature['geometry']['coordinates'])\n",
    "    \n",
    "#TrustMap.choropleth(geo_path='TBMpath')\n",
    "#####TrustMap\n"
   ]
  },
  {
   "cell_type": "code",
   "execution_count": null,
   "metadata": {
    "scrolled": true
   },
   "outputs": [],
   "source": [
    "CentralCOPWL.head()"
   ]
  },
  {
   "cell_type": "code",
   "execution_count": null,
   "metadata": {},
   "outputs": [],
   "source": [
    "CentralCOPWL.head()\n",
    "data.CentralCOPWL = pd.to_numeric(data.CentralCOPWL, errors='coerce').fillna(0).astype(int)\n",
    "print (data)\n",
    "\n",
    "# Making a list of missing value types\n",
    "#mdf = CentralCOPWL.replace(''--'',0)\n",
    "#mdf.head()"
   ]
  },
  {
   "cell_type": "code",
   "execution_count": null,
   "metadata": {},
   "outputs": [],
   "source": [
    "#Kmeans Cluster\n",
    "\n",
    "from sklearn.cluster import KMeans\n",
    "kmeans = KMeans(n_clusters=4)\n",
    "kmeans.fit(X)\n",
    "y_kmeans = kmeans.predict(X)"
   ]
  },
  {
   "cell_type": "markdown",
   "metadata": {},
   "source": [
    "## RESULTS\n",
    "- Insert Results here\n",
    "Observations & Recommendations"
   ]
  },
  {
   "cell_type": "markdown",
   "metadata": {},
   "source": [
    "# Appendix 1-  Data definitions\n",
    "\n",
    "### Inpatient and Day Case Activity\n",
    "\n",
    "#### Inpatient Admission\n",
    "Inpatient admissions include both (a) patients admitted electively with the expectation that they will remain in hospital for at least one night, and (b) non-elective admissions (e.g. emergency admissions). A patient who is admitted with this intention but who leaves hospital for any reason without staying overnight is still counted as an inpatient. Day cases and regular attenders are not included.<br>\n",
    "\n",
    "#### Day Case\n",
    "A patient admitted electively during the course of a day with the intention of receiving care who does not require the use of a hospital bed overnight and who returns home as scheduled. If this original intention is not fulfilled and the patient stays overnight, such a patient should be counted as an inpatient.  Regular attenders have been included in day case figures with the exception of the acute programme of care.<br>\n",
    "\n",
    "#### Average Available/Occupied Beds\n",
    "The average number of available and occupied beds during the year in wards that are open overnight, measured at midnight. Hospitals may also have a number of beds in wards that are only open during the day. Beds reserved for day care admission or regular day admission are not included.<br>\n",
    "\n",
    "### Outpatient Activity \n",
    "\n",
    "#### Outpatient\n",
    "A patient who attends a clinic to see a consultant, a member of their team, or a locum for such a member.<br>\n",
    "\n",
    "#### Outpatient Did Not Attend – DNA\n",
    "DNA refers to the number of patients with an appointment who did not attend and failed to give advance warning to the hospital. This includes patients who cancelled their outpatient appointment on the same day on which the appointment was scheduled. The DNA rate is calculated by taking the number of missed appointments (DNAs) as a rate of the sum of the total number of attendances and missed appointments. <br>\n",
    "\n",
    "#### Appointment cancelled by patient – CNA\n",
    "A patient cancellation refers to an appointment that was intended to be held but was cancelled by the patient, with the patient contacting the hospital no later than the day before the appointment is scheduled and informing the hospital that they are unable to attend the scheduled appointment. The CNA rate is calculated by taking the number of patient cancellations (CNAs) as a rate of the sum of the total number of attendances and patient cancellations.<br>\n",
    "\n",
    "#### Appointment cancelled by the hospital\n",
    "An appointment that was intended to be held, but which did not occur, due to circumstances within the hospital. Appointments may be cancelled by the hospital for a variety of reasons. These include, in order to reschedule the appointment to an alternative date and due to the unavailability of the consultant. The hospital cancellation rate is calculated by taking the number of appointments cancelled by hospitals as a rate of the sum of the total number of attendances and appointments cancelled by hospitals.<br>\n",
    "\n",
    "Note: The number of attendances does not equate to the number of individual patients seen, as it is possible for the same person to attend a consultant led outpatient service more than once during the year. This is the same when looking at missed and cancelled appointments, as it is possible for the same person to miss or cancel their appointment or have their appointment cancelled by the hospital more than once during the year.<br>\n",
    "### Regional Assessment and Surgical Centres (RASC)\n",
    "In October 2016 the then Health Minister launched ‘Health and Wellbeing 2026: Delivering Together,’ a strategy which underpins the Northern Ireland Executive’s draft Programme for Government ambition to support people to lead long, healthy and active <br>lives.\n",
    "As part of this strategy, the Elective Care Plan was published in February 2017, which stated that ‘Regional Elective Care Assessment and Treatment Centres will be established to deliver large volumes of assessments and non-complex routine surgery across a broad range of specialties.’ In February 2019, prototype ‘Regional Assessment and Surgical Centres’ became operational for the surgical treatment of Cataracts. Patients waiting for these procedures can now be referred to a RASC for treatment rather than attend the hospital site they may have been referred to previously.<br>\n",
    "\n",
    "### Integrated Clinical Assessment and Treatment Services (ICATS)\n",
    "\n",
    "ICATS is the term used for a range of outpatient services for patients, which are provided by integrated multi-disciplinary teams of health service professionals, including GPs with a special interest, specialist nurses and allied health professionals. They are provided in a variety of primary, community and secondary care settings and they include assessment, treatment, diagnostic and advisory services.<br>\n",
    "\n",
    "### ICATS Appointment<br>\n",
    "An ICATS Tier 2 appointment is a non consultant outpatient appointment. Following ICATS Triage, patients who have not been given either a discharge, advice only or referral incomplete outcome will proceed for either a (i) first outpatient appointment, (ii) a diagnostic test or (iii) an ICATS Tier 2 appointment. Following a first Tier 2 ICATS appointment there are a number of outcomes, including a review Tier 2 ICATS appointment or a referral for a first consultant led outpatient appointment. <br>\n",
    "\n",
    "ICATS Tier 2 appointments attended, those missed by patients (DNA), cancelled by patients (CNA) or cancelled by the hospital (Hospital Cancellations) are defined similarly to those for consultant led outpatient services. Reasons for cancellation of ICATS Tier 2 appointments are not currently collected by the Department.<br>\n",
    "\n",
    "### Virtual Activity<br>\n",
    "A virtual outpatient appointment is a planned contact by a healthcare professional responsible for the care of a patient for the purposes of clinical consultation, advice and treatment planning. Virtual appointments may take the form of a telephone contact, video-link intervention, an email or a letter.<br>\n",
    "\n",
    "This information was collated by Hospital Information Branch, DoH.<br>\n",
    "\n",
    "Further information is available from:<br>\n",
    "\n",
    "Hospital Information Branch<br>\n",
    "Department of Health<br>\n",
    "Annex 2, Castle Buildings<br>\n",
    "Stormont, BT4 3SQ<br>\n",
    "Telephone: 028 90 522800<br>\n",
    "E-mail:  statistics@health-ni.gov.uk<br>\n",
    "\n",
    "5. For media enquiries please contact the DoH Press Office 028 9052 0575 or email pressoffice@health-ni.gov.uk. Out-of-hours please contact the Duty Press Officer on 028 9037 8110.\n",
    "\n"
   ]
  },
  {
   "cell_type": "code",
   "execution_count": null,
   "metadata": {},
   "outputs": [],
   "source": []
  }
 ],
 "metadata": {
  "kernelspec": {
   "display_name": "Python 3",
   "language": "python",
   "name": "python3"
  },
  "language_info": {
   "codemirror_mode": {
    "name": "ipython",
    "version": 3
   },
   "file_extension": ".py",
   "mimetype": "text/x-python",
   "name": "python",
   "nbconvert_exporter": "python",
   "pygments_lexer": "ipython3",
   "version": "3.7.6"
  }
 },
 "nbformat": 4,
 "nbformat_minor": 4
}
