{
 "cells": [
  {
   "cell_type": "markdown",
   "metadata": {},
   "source": [
    "# Capstone Project - The Battle of Neighborhoods\n",
    "\n",
    "## Preampble\n",
    "\n",
    "\n"
   ]
  },
  {
   "cell_type": "markdown",
   "metadata": {},
   "source": [
    "#### Initial Directories"
   ]
  },
  {
   "cell_type": "code",
   "execution_count": 74,
   "metadata": {},
   "outputs": [
    {
     "name": "stdout",
     "output_type": "stream",
     "text": [
      "Requirement already satisfied: geojsonio in c:\\users\\pat\\anaconda3\\lib\\site-packages (0.0.3)\n",
      "Requirement already satisfied: six in c:\\users\\pat\\anaconda3\\lib\\site-packages (from geojsonio) (1.14.0)\n",
      "Requirement already satisfied: github3.py in c:\\users\\pat\\anaconda3\\lib\\site-packages (from geojsonio) (1.3.0)\n",
      "Requirement already satisfied: python-dateutil>=2.6.0 in c:\\users\\pat\\anaconda3\\lib\\site-packages (from github3.py->geojsonio) (2.8.1)\n",
      "Requirement already satisfied: jwcrypto>=0.5.0 in c:\\users\\pat\\anaconda3\\lib\\site-packages (from github3.py->geojsonio) (0.7)\n",
      "Requirement already satisfied: requests>=2.18 in c:\\users\\pat\\anaconda3\\lib\\site-packages (from github3.py->geojsonio) (2.22.0)\n",
      "Requirement already satisfied: uritemplate>=3.0.0 in c:\\users\\pat\\anaconda3\\lib\\site-packages (from github3.py->geojsonio) (3.0.1)\n",
      "Requirement already satisfied: cryptography>=1.5 in c:\\users\\pat\\anaconda3\\lib\\site-packages (from jwcrypto>=0.5.0->github3.py->geojsonio) (2.8)\n",
      "Requirement already satisfied: certifi>=2017.4.17 in c:\\users\\pat\\anaconda3\\lib\\site-packages (from requests>=2.18->github3.py->geojsonio) (2019.11.28)\n",
      "Requirement already satisfied: urllib3!=1.25.0,!=1.25.1,<1.26,>=1.21.1 in c:\\users\\pat\\anaconda3\\lib\\site-packages (from requests>=2.18->github3.py->geojsonio) (1.25.8)\n",
      "Requirement already satisfied: chardet<3.1.0,>=3.0.2 in c:\\users\\pat\\anaconda3\\lib\\site-packages (from requests>=2.18->github3.py->geojsonio) (3.0.4)\n",
      "Requirement already satisfied: idna<2.9,>=2.5 in c:\\users\\pat\\anaconda3\\lib\\site-packages (from requests>=2.18->github3.py->geojsonio) (2.8)\n",
      "Requirement already satisfied: cffi!=1.11.3,>=1.8 in c:\\users\\pat\\anaconda3\\lib\\site-packages (from cryptography>=1.5->jwcrypto>=0.5.0->github3.py->geojsonio) (1.14.0)\n",
      "Requirement already satisfied: pycparser in c:\\users\\pat\\anaconda3\\lib\\site-packages (from cffi!=1.11.3,>=1.8->cryptography>=1.5->jwcrypto>=0.5.0->github3.py->geojsonio) (2.19)\n",
      "Note: you may need to restart the kernel to use updated packages.\n"
     ]
    }
   ],
   "source": [
    "pip install geojsonio"
   ]
  },
  {
   "cell_type": "code",
   "execution_count": 75,
   "metadata": {},
   "outputs": [
    {
     "name": "stdout",
     "output_type": "stream",
     "text": [
      "Requirement already satisfied: shapely in c:\\users\\pat\\anaconda3\\lib\\site-packages (1.7.0)\n",
      "Note: you may need to restart the kernel to use updated packages.\n"
     ]
    }
   ],
   "source": [
    "pip install shapely"
   ]
  },
  {
   "cell_type": "code",
   "execution_count": 78,
   "metadata": {},
   "outputs": [
    {
     "name": "stdout",
     "output_type": "stream",
     "text": [
      "Requirement already satisfied: folium in c:\\users\\pat\\anaconda3\\lib\\site-packages (0.10.1)\n",
      "Requirement already satisfied: branca>=0.3.0 in c:\\users\\pat\\anaconda3\\lib\\site-packages (from folium) (0.4.0)\n",
      "Requirement already satisfied: requests in c:\\users\\pat\\anaconda3\\lib\\site-packages (from folium) (2.22.0)\n",
      "Requirement already satisfied: numpy in c:\\users\\pat\\anaconda3\\lib\\site-packages (from folium) (1.18.1)\n",
      "Requirement already satisfied: jinja2>=2.9 in c:\\users\\pat\\anaconda3\\lib\\site-packages (from folium) (2.11.1)\n",
      "Requirement already satisfied: six in c:\\users\\pat\\anaconda3\\lib\\site-packages (from branca>=0.3.0->folium) (1.14.0)\n",
      "Requirement already satisfied: certifi>=2017.4.17 in c:\\users\\pat\\anaconda3\\lib\\site-packages (from requests->folium) (2019.11.28)\n",
      "Requirement already satisfied: chardet<3.1.0,>=3.0.2 in c:\\users\\pat\\anaconda3\\lib\\site-packages (from requests->folium) (3.0.4)\n",
      "Requirement already satisfied: idna<2.9,>=2.5 in c:\\users\\pat\\anaconda3\\lib\\site-packages (from requests->folium) (2.8)\n",
      "Requirement already satisfied: urllib3!=1.25.0,!=1.25.1,<1.26,>=1.21.1 in c:\\users\\pat\\anaconda3\\lib\\site-packages (from requests->folium) (1.25.8)\n",
      "Requirement already satisfied: MarkupSafe>=0.23 in c:\\users\\pat\\anaconda3\\lib\\site-packages (from jinja2>=2.9->folium) (1.1.1)\n",
      "Note: you may need to restart the kernel to use updated packages.\n"
     ]
    }
   ],
   "source": [
    "pip install folium"
   ]
  },
  {
   "cell_type": "code",
   "execution_count": 77,
   "metadata": {},
   "outputs": [
    {
     "name": "stdout",
     "output_type": "stream",
     "text": [
      "Collecting geopandas\n",
      "  Using cached geopandas-0.7.0-py2.py3-none-any.whl (928 kB)\n",
      "Requirement already satisfied: shapely in c:\\users\\pat\\anaconda3\\lib\\site-packages (from geopandas) (1.7.0)\n",
      "Collecting fiona\n",
      "  Using cached Fiona-1.8.13.post1.tar.gz (1.2 MB)\n",
      "Note: you may need to restart the kernel to use updated packages.\n"
     ]
    },
    {
     "name": "stderr",
     "output_type": "stream",
     "text": [
      "    ERROR: Command errored out with exit status 1:\n",
      "     command: 'C:\\Users\\Pat\\anaconda3\\python.exe' -c 'import sys, setuptools, tokenize; sys.argv[0] = '\"'\"'C:\\\\Users\\\\Pat\\\\AppData\\\\Local\\\\Temp\\\\pip-install-l2rga0sp\\\\fiona\\\\setup.py'\"'\"'; __file__='\"'\"'C:\\\\Users\\\\Pat\\\\AppData\\\\Local\\\\Temp\\\\pip-install-l2rga0sp\\\\fiona\\\\setup.py'\"'\"';f=getattr(tokenize, '\"'\"'open'\"'\"', open)(__file__);code=f.read().replace('\"'\"'\\r\\n'\"'\"', '\"'\"'\\n'\"'\"');f.close();exec(compile(code, __file__, '\"'\"'exec'\"'\"'))' egg_info --egg-base 'C:\\Users\\Pat\\AppData\\Local\\Temp\\pip-install-l2rga0sp\\fiona\\pip-egg-info'\n",
      "         cwd: C:\\Users\\Pat\\AppData\\Local\\Temp\\pip-install-l2rga0sp\\fiona\\\n",
      "    Complete output (1 lines):\n",
      "    A GDAL API version must be specified. Provide a path to gdal-config using a GDAL_CONFIG environment variable or use a GDAL_VERSION environment variable.\n",
      "    ----------------------------------------\n",
      "ERROR: Command errored out with exit status 1: python setup.py egg_info Check the logs for full command output.\n"
     ]
    }
   ],
   "source": [
    "pip install geopandas\n"
   ]
  },
  {
   "cell_type": "markdown",
   "metadata": {},
   "source": [
    "## Introduction/Business Problem\n"
   ]
  },
  {
   "cell_type": "markdown",
   "metadata": {},
   "source": [
    "\n",
    "### Introduction where you discuss the business problem and who would be interested in this project.\n",
    "\n",
    "\"Would you recommend a location in Hong Kong to open a new cinema?\"\n",
    "My boss, the stakeholder wants to open a new cinema as company's new business and ask me this question.\n",
    "\n",
    "He explains that in customer point of view, watching movie is a part of whole afternoon or night activities. Cinema should has many restaurants and shopping places nearby. Transportation is also an important factor. Customer can walk to cinema within 5 minutes from public transport facilities such as bus stop and metro station.\n",
    "\n",
    "He wants me to concentrate on selection of cinema location according to its nearby environment. Cinema facility and rental price is not my concern. He lists out his top 10 favorite cinemas in Hong Kong with rating.\n",
    "\n",
    "I work with my teammates and select 5 possible locations to build the cinema. Which location should be suggested to the stakeholder?\n"
   ]
  },
  {
   "cell_type": "markdown",
   "metadata": {},
   "source": [
    "## Data\n",
    "\n",
    "where you describe the data that will be used to solve the problem and the source of the data.\n",
    "\n",
    "According to the question, I need to find following data to resolve the problem.\n",
    "\n",
    "1. Geographic coordinate of Hong Kong cinemas\n",
    "I need to compare 5 possible locations with current cinemas in Hong Kong. Therefore, I need to find a list of Hong Kong cinema and cinemas' geographic coordinates. Luckily, I can find the list and coordinates from the website https://hkmovie6.com/cinema ."
   ]
  },
  {
   "cell_type": "code",
   "execution_count": null,
   "metadata": {},
   "outputs": [],
   "source": [
    "import pandas as pd\n",
    "import numpy as np\n",
    "import scipy as sp\n",
    "import matplotlib.pyplot as plt\n",
    "import seaborn as sns\n",
    "import pylab as pl\n",
    "import json\n",
    "import os\n",
    "import folium\n",
    "import geopandas as gpd\n",
    "import earthpy as et\n",
    "#import geojson\n",
    "\n",
    "#import geopandas as gpd"
   ]
  },
  {
   "cell_type": "markdown",
   "metadata": {},
   "source": [
    "## Data Sources for Classification and Analysis"
   ]
  },
  {
   "cell_type": "code",
   "execution_count": null,
   "metadata": {},
   "outputs": [],
   "source": [
    "EmergWL = pd.read_csv(r\"https://www.health-ni.gov.uk/sites/default/files/publications/health/hs-niwts-ecwt-tables-q1-18-19.csv\")\n",
    "\n",
    "FirstCOPWL = pd.read_csv(r\"https://www.health-ni.gov.uk/sites/default/files/publications/health/hs-niwts-tables-outpatients-q2-19-20.csv\")\n",
    "\n",
    "CentralCOPWL = pd.read_csv(r\"https://www.health-ni.gov.uk/sites/default/files/publications/health/hs-niwts-tables-outpatients-centralisation-q2-19-20.csv\")\n",
    "ICATSWL=pd.read_csv(r\"https://www.health-ni.gov.uk/sites/default/files/publications/health/hs-niwts-tables-icats-q2-19-20.csv\")\n",
    "DayCaseIPWL=pd.read_csv(r\"https://www.health-ni.gov.uk/sites/default/files/publications/health/hs-niwts-tables-day-cases-q2-19-20.csv\")\n",
    "AdminIPWL=pd.read_csv(r\"https://www.health-ni.gov.uk/sites/default/files/publications/health/hs-niwts-tables-inpatients-q2-19-20.csv\")\n",
    "TotalIPWL=pd.read_csv(r\"https://www.health-ni.gov.uk/sites/default/files/publications/health/hs-niwts-tables-total-waiting-q2-19-20.csv\")\n",
    "\n",
    "DiagnosticWT=pd.read_csv(r\"https://www.health-ni.gov.uk/sites/default/files/publications/health/hs-niwts-tables-diagnostic-waiting-times-q2-19-20.csv\")\n",
    "DiagnosticRTT=pd.read_csv(r\"https://www.health-ni.gov.uk/sites/default/files/publications/health/hs-niwts-tables-diagnostic-reporting-turnaround-q2-19-20.csv\")\n",
    "\n",
    "HSCT62DCWT=pd.read_csv(r\"https://www.health-ni.gov.uk/sites/default/files/publications/health/hs-niwts-cwt-62-day-wait-by-trust-q1-19-20.csv\")\n",
    "TS62DCWT=pd.read_csv(r\"https://www.health-ni.gov.uk/sites/default/files/publications/health/hs-niwts-cwt-62-day-wait-by-tumour-q1-19-20.csv\")\n",
    "HSCT31DCWT=pd.read_csv(r\"https://www.health-ni.gov.uk/sites/default/files/publications/health/hs-niwts-cwt-31-day-wait-by-trust-q1-19-20.csv\")\n",
    "TS62DCWT=pd.read_csv(r\"https://www.health-ni.gov.uk/sites/default/files/publications/health/hs-niwts-cwt-31-day-wait-by-tumour-q1-19-20.csv\")  \n",
    "CWT14D=pd.read_csv(r\"https://www.health-ni.gov.uk/sites/default/files/publications/health/hs-niwts-cwt-14-day-wait-q1-19-20.csv\")\n",
    "TBDirectory=\"https://www.opendatani.gov.uk/dataset/0b04b46c-49af-45d5-b277-91b10937a01b/resource/645f8eef-8813-47a9-bb1e-a4932ada721a/download/trustboundaries.geojson\"\n",
    "\n",
    "print(\"All Data Imported\")"
   ]
  },
  {
   "cell_type": "code",
   "execution_count": null,
   "metadata": {
    "scrolled": true
   },
   "outputs": [],
   "source": [
    "TS62DCWT.head()"
   ]
  },
  {
   "cell_type": "code",
   "execution_count": 72,
   "metadata": {},
   "outputs": [
    {
     "data": {
      "text/html": [
       "<div>\n",
       "<style scoped>\n",
       "    .dataframe tbody tr th:only-of-type {\n",
       "        vertical-align: middle;\n",
       "    }\n",
       "\n",
       "    .dataframe tbody tr th {\n",
       "        vertical-align: top;\n",
       "    }\n",
       "\n",
       "    .dataframe thead th {\n",
       "        text-align: right;\n",
       "    }\n",
       "</style>\n",
       "<table border=\"1\" class=\"dataframe\">\n",
       "  <thead>\n",
       "    <tr style=\"text-align: right;\">\n",
       "      <th></th>\n",
       "      <th>Quarter Ending</th>\n",
       "      <th>HSC Trust</th>\n",
       "      <th>Specialty</th>\n",
       "      <th>Programme of Care</th>\n",
       "      <th>0 - 6 weeks</th>\n",
       "      <th>&gt; 6 - 9 weeks</th>\n",
       "      <th>&gt; 9 - 13 weeks</th>\n",
       "      <th>&gt; 9 - 12 weeks</th>\n",
       "      <th>&gt; 12-15 weeks</th>\n",
       "      <th>&gt; 15-18 weeks</th>\n",
       "      <th>...</th>\n",
       "      <th>&gt;65-78 weeks</th>\n",
       "      <th>&gt;78-91 weeks</th>\n",
       "      <th>&gt;91-104 weeks</th>\n",
       "      <th>&gt;104 weeks</th>\n",
       "      <th>&gt;18 weeks</th>\n",
       "      <th>&gt;18-52 weeks</th>\n",
       "      <th>&gt; 13 - 26 weeks</th>\n",
       "      <th>&gt;52 weeks</th>\n",
       "      <th>&gt; 26 weeks</th>\n",
       "      <th>Total Waiting</th>\n",
       "    </tr>\n",
       "  </thead>\n",
       "  <tbody>\n",
       "    <tr>\n",
       "      <th>0</th>\n",
       "      <td>30-Jun-2008</td>\n",
       "      <td>Belfast</td>\n",
       "      <td>General Surgery</td>\n",
       "      <td>Acute Services</td>\n",
       "      <td>2,152</td>\n",
       "      <td>434</td>\n",
       "      <td>277</td>\n",
       "      <td>--</td>\n",
       "      <td>--</td>\n",
       "      <td>--</td>\n",
       "      <td>...</td>\n",
       "      <td>--</td>\n",
       "      <td>--</td>\n",
       "      <td>--</td>\n",
       "      <td>--</td>\n",
       "      <td>--</td>\n",
       "      <td>--</td>\n",
       "      <td>6</td>\n",
       "      <td>--</td>\n",
       "      <td>0</td>\n",
       "      <td>2,869</td>\n",
       "    </tr>\n",
       "    <tr>\n",
       "      <th>1</th>\n",
       "      <td>30-Jun-2008</td>\n",
       "      <td>Belfast</td>\n",
       "      <td>Urology</td>\n",
       "      <td>Acute Services</td>\n",
       "      <td>464</td>\n",
       "      <td>113</td>\n",
       "      <td>78</td>\n",
       "      <td>--</td>\n",
       "      <td>--</td>\n",
       "      <td>--</td>\n",
       "      <td>...</td>\n",
       "      <td>--</td>\n",
       "      <td>--</td>\n",
       "      <td>--</td>\n",
       "      <td>--</td>\n",
       "      <td>--</td>\n",
       "      <td>--</td>\n",
       "      <td>0</td>\n",
       "      <td>--</td>\n",
       "      <td>0</td>\n",
       "      <td>655</td>\n",
       "    </tr>\n",
       "    <tr>\n",
       "      <th>2</th>\n",
       "      <td>30-Jun-2008</td>\n",
       "      <td>Belfast</td>\n",
       "      <td>T &amp; O Surgery</td>\n",
       "      <td>Acute Services</td>\n",
       "      <td>2,751</td>\n",
       "      <td>1,214</td>\n",
       "      <td>1,114</td>\n",
       "      <td>--</td>\n",
       "      <td>--</td>\n",
       "      <td>--</td>\n",
       "      <td>...</td>\n",
       "      <td>--</td>\n",
       "      <td>--</td>\n",
       "      <td>--</td>\n",
       "      <td>--</td>\n",
       "      <td>--</td>\n",
       "      <td>--</td>\n",
       "      <td>17</td>\n",
       "      <td>--</td>\n",
       "      <td>12</td>\n",
       "      <td>5,108</td>\n",
       "    </tr>\n",
       "    <tr>\n",
       "      <th>3</th>\n",
       "      <td>30-Jun-2008</td>\n",
       "      <td>Belfast</td>\n",
       "      <td>ENT</td>\n",
       "      <td>Acute Services</td>\n",
       "      <td>1,373</td>\n",
       "      <td>427</td>\n",
       "      <td>410</td>\n",
       "      <td>--</td>\n",
       "      <td>--</td>\n",
       "      <td>--</td>\n",
       "      <td>...</td>\n",
       "      <td>--</td>\n",
       "      <td>--</td>\n",
       "      <td>--</td>\n",
       "      <td>--</td>\n",
       "      <td>--</td>\n",
       "      <td>--</td>\n",
       "      <td>0</td>\n",
       "      <td>--</td>\n",
       "      <td>0</td>\n",
       "      <td>2,210</td>\n",
       "    </tr>\n",
       "    <tr>\n",
       "      <th>4</th>\n",
       "      <td>30-Jun-2008</td>\n",
       "      <td>Belfast</td>\n",
       "      <td>Ophthalmology</td>\n",
       "      <td>Acute Services</td>\n",
       "      <td>2,200</td>\n",
       "      <td>637</td>\n",
       "      <td>453</td>\n",
       "      <td>--</td>\n",
       "      <td>--</td>\n",
       "      <td>--</td>\n",
       "      <td>...</td>\n",
       "      <td>--</td>\n",
       "      <td>--</td>\n",
       "      <td>--</td>\n",
       "      <td>--</td>\n",
       "      <td>--</td>\n",
       "      <td>--</td>\n",
       "      <td>2</td>\n",
       "      <td>--</td>\n",
       "      <td>0</td>\n",
       "      <td>3,292</td>\n",
       "    </tr>\n",
       "  </tbody>\n",
       "</table>\n",
       "<p>5 rows × 24 columns</p>\n",
       "</div>"
      ],
      "text/plain": [
       "  Quarter Ending  HSC Trust        Specialty Programme of Care 0 - 6 weeks  \\\n",
       "0     30-Jun-2008   Belfast  General Surgery    Acute Services       2,152   \n",
       "1     30-Jun-2008   Belfast          Urology    Acute Services         464   \n",
       "2     30-Jun-2008   Belfast    T & O Surgery    Acute Services       2,751   \n",
       "3     30-Jun-2008   Belfast              ENT    Acute Services       1,373   \n",
       "4     30-Jun-2008   Belfast    Ophthalmology    Acute Services       2,200   \n",
       "\n",
       "  > 6 - 9 weeks > 9 - 13 weeks > 9 - 12 weeks > 12-15 weeks > 15-18 weeks  \\\n",
       "0           434            277             --            --            --   \n",
       "1           113             78             --            --            --   \n",
       "2         1,214          1,114             --            --            --   \n",
       "3           427            410             --            --            --   \n",
       "4           637            453             --            --            --   \n",
       "\n",
       "   ... >65-78 weeks >78-91 weeks >91-104 weeks >104 weeks >18 weeks  \\\n",
       "0  ...           --           --            --         --        --   \n",
       "1  ...           --           --            --         --        --   \n",
       "2  ...           --           --            --         --        --   \n",
       "3  ...           --           --            --         --        --   \n",
       "4  ...           --           --            --         --        --   \n",
       "\n",
       "  >18-52 weeks > 13 - 26 weeks >52 weeks > 26 weeks Total Waiting   \n",
       "0           --               6        --          0          2,869  \n",
       "1           --               0        --          0            655  \n",
       "2           --              17        --         12          5,108  \n",
       "3           --               0        --          0          2,210  \n",
       "4           --               2        --          0          3,292  \n",
       "\n",
       "[5 rows x 24 columns]"
      ]
     },
     "execution_count": 72,
     "metadata": {},
     "output_type": "execute_result"
    }
   ],
   "source": [
    "outpatientwaitinglist.head()"
   ]
  },
  {
   "cell_type": "code",
   "execution_count": 73,
   "metadata": {},
   "outputs": [
    {
     "ename": "NameError",
     "evalue": "name 'X' is not defined",
     "output_type": "error",
     "traceback": [
      "\u001b[1;31m---------------------------------------------------------------------------\u001b[0m",
      "\u001b[1;31mNameError\u001b[0m                                 Traceback (most recent call last)",
      "\u001b[1;32m<ipython-input-73-705327cccfb6>\u001b[0m in \u001b[0;36m<module>\u001b[1;34m\u001b[0m\n\u001b[0;32m      1\u001b[0m \u001b[1;32mfrom\u001b[0m \u001b[0msklearn\u001b[0m\u001b[1;33m.\u001b[0m\u001b[0mcluster\u001b[0m \u001b[1;32mimport\u001b[0m \u001b[0mKMeans\u001b[0m\u001b[1;33m\u001b[0m\u001b[1;33m\u001b[0m\u001b[0m\n\u001b[0;32m      2\u001b[0m \u001b[0mkmeans\u001b[0m \u001b[1;33m=\u001b[0m \u001b[0mKMeans\u001b[0m\u001b[1;33m(\u001b[0m\u001b[0mn_clusters\u001b[0m\u001b[1;33m=\u001b[0m\u001b[1;36m4\u001b[0m\u001b[1;33m)\u001b[0m\u001b[1;33m\u001b[0m\u001b[1;33m\u001b[0m\u001b[0m\n\u001b[1;32m----> 3\u001b[1;33m \u001b[0mkmeans\u001b[0m\u001b[1;33m.\u001b[0m\u001b[0mfit\u001b[0m\u001b[1;33m(\u001b[0m\u001b[0mX\u001b[0m\u001b[1;33m)\u001b[0m\u001b[1;33m\u001b[0m\u001b[1;33m\u001b[0m\u001b[0m\n\u001b[0m\u001b[0;32m      4\u001b[0m \u001b[0my_kmeans\u001b[0m \u001b[1;33m=\u001b[0m \u001b[0mkmeans\u001b[0m\u001b[1;33m.\u001b[0m\u001b[0mpredict\u001b[0m\u001b[1;33m(\u001b[0m\u001b[0mX\u001b[0m\u001b[1;33m)\u001b[0m\u001b[1;33m\u001b[0m\u001b[1;33m\u001b[0m\u001b[0m\n",
      "\u001b[1;31mNameError\u001b[0m: name 'X' is not defined"
     ]
    }
   ],
   "source": [
    "#Kmeans Cluster\n",
    "\n",
    "from sklearn.cluster import KMeans\n",
    "kmeans = KMeans(n_clusters=4)\n",
    "kmeans.fit(X)\n",
    "y_kmeans = kmeans.predict(X)"
   ]
  },
  {
   "cell_type": "markdown",
   "metadata": {},
   "source": [
    "# Appendix 1-  Data definitions\n",
    "\n",
    "### Inpatient and Day Case Activity\n",
    "\n",
    "#### Inpatient Admission\n",
    "Inpatient admissions include both (a) patients admitted electively with the expectation that they will remain in hospital for at least one night, and (b) non-elective admissions (e.g. emergency admissions). A patient who is admitted with this intention but who leaves hospital for any reason without staying overnight is still counted as an inpatient. Day cases and regular attenders are not included.\n",
    "\n",
    "#### Day Case\n",
    "A patient admitted electively during the course of a day with the intention of receiving care who does not require the use of a hospital bed overnight and who returns home as scheduled. If this original intention is not fulfilled and the patient stays overnight, such a patient should be counted as an inpatient.  Regular attenders have been included in day case figures with the exception of the acute programme of care.\n",
    "\n",
    "#### Average Available/Occupied Beds\n",
    "The average number of available and occupied beds during the year in wards that are open overnight, measured at midnight. Hospitals may also have a number of beds in wards that are only open during the day. Beds reserved for day care admission or regular day admission are not included.\n",
    "\n",
    "### Outpatient Activity \n",
    "\n",
    "#### Outpatient\n",
    "A patient who attends a clinic to see a consultant, a member of their team, or a locum for such a member.\n",
    "\n",
    "#### Outpatient Did Not Attend – DNA\n",
    "DNA refers to the number of patients with an appointment who did not attend and failed to give advance warning to the hospital. This includes patients who cancelled their outpatient appointment on the same day on which the appointment was scheduled. The DNA rate is calculated by taking the number of missed appointments (DNAs) as a rate of the sum of the total number of attendances and missed appointments. \n",
    "\n",
    "#### Appointment cancelled by patient – CNA\n",
    "A patient cancellation refers to an appointment that was intended to be held but was cancelled by the patient, with the patient contacting the hospital no later than the day before the appointment is scheduled and informing the hospital that they are unable to attend the scheduled appointment. The CNA rate is calculated by taking the number of patient cancellations (CNAs) as a rate of the sum of the total number of attendances and patient cancellations.\n",
    "\n",
    "#### Appointment cancelled by the hospital\n",
    "An appointment that was intended to be held, but which did not occur, due to circumstances within the hospital. Appointments may be cancelled by the hospital for a variety of reasons. These include, in order to reschedule the appointment to an alternative date and due to the unavailability of the consultant. The hospital cancellation rate is calculated by taking the number of appointments cancelled by hospitals as a rate of the sum of the total number of attendances and appointments cancelled by hospitals.\n",
    "\n",
    "Note: The number of attendances does not equate to the number of individual patients seen, as it is possible for the same person to attend a consultant led outpatient service more than once during the year. This is the same when looking at missed and cancelled appointments, as it is possible for the same person to miss or cancel their appointment or have their appointment cancelled by the hospital more than once during the year.\n",
    "### Regional Assessment and Surgical Centres (RASC)\n",
    "In October 2016 the then Health Minister launched ‘Health and Wellbeing 2026: Delivering Together,’ a strategy which underpins the Northern Ireland Executive’s draft Programme for Government ambition to support people to lead long, healthy and active lives.\n",
    "As part of this strategy, the Elective Care Plan was published in February 2017, which stated that ‘Regional Elective Care Assessment and Treatment Centres will be established to deliver large volumes of assessments and non-complex routine surgery across a broad range of specialties.’ In February 2019, prototype ‘Regional Assessment and Surgical Centres’ became operational for the surgical treatment of Cataracts. Patients waiting for these procedures can now be referred to a RASC for treatment rather than attend the hospital site they may have been referred to previously.\n",
    "\n",
    "### Integrated Clinical Assessment and Treatment Services (ICATS)\n",
    "\n",
    "ICATS is the term used for a range of outpatient services for patients, which are provided by integrated multi-disciplinary teams of health service professionals, including GPs with a special interest, specialist nurses and allied health professionals. They are provided in a variety of primary, community and secondary care settings and they include assessment, treatment, diagnostic and advisory services.\n",
    "ICATS Appointment\n",
    "An ICATS Tier 2 appointment is a non consultant outpatient appointment. Following ICATS Triage, patients who have not been given either a discharge, advice only or referral incomplete outcome will proceed for either a (i) first outpatient appointment, (ii) a diagnostic test or (iii) an ICATS Tier 2 appointment. Following a first Tier 2 ICATS appointment there are a number of outcomes, including a review Tier 2 ICATS appointment or a referral for a first consultant led outpatient appointment. \n",
    "\n",
    "ICATS Tier 2 appointments attended, those missed by patients (DNA), cancelled by patients (CNA) or cancelled by the hospital (Hospital Cancellations) are defined similarly to those for consultant led outpatient services. Reasons for cancellation of ICATS Tier 2 appointments are not currently collected by the Department.\n",
    "\n",
    "### Virtual Activity\n",
    "A virtual outpatient appointment is a planned contact by a healthcare professional responsible for the care of a patient for the purposes of clinical consultation, advice and treatment planning. Virtual appointments may take the form of a telephone contact, video-link intervention, an email or a letter.\n",
    "\n",
    "This information was collated by Hospital Information Branch, DoH.\n",
    "\n",
    "Further information is available from:\n",
    "\n",
    "Hospital Information Branch\n",
    "Department of Health\n",
    "Annex 2, Castle Buildings\n",
    "Stormont, BT4 3SQ\n",
    "Telephone: 028 90 522800\n",
    "E-mail:  statistics@health-ni.gov.uk\n",
    "\n",
    "5. For media enquiries please contact the DoH Press Office 028 9052 0575 or email pressoffice@health-ni.gov.uk. Out-of-hours please contact the Duty Press Officer on 028 9037 8110.\n",
    "\n"
   ]
  },
  {
   "cell_type": "code",
   "execution_count": null,
   "metadata": {},
   "outputs": [],
   "source": []
  }
 ],
 "metadata": {
  "kernelspec": {
   "display_name": "Python 3",
   "language": "python",
   "name": "python3"
  },
  "language_info": {
   "codemirror_mode": {
    "name": "ipython",
    "version": 3
   },
   "file_extension": ".py",
   "mimetype": "text/x-python",
   "name": "python",
   "nbconvert_exporter": "python",
   "pygments_lexer": "ipython3",
   "version": "3.7.6"
  }
 },
 "nbformat": 4,
 "nbformat_minor": 4
}
