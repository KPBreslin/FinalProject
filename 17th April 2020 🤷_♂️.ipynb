{
 "cells": [
  {
   "cell_type": "markdown",
   "metadata": {},
   "source": [
    "# Hospital Waiting Lists in Northern Ireland\n",
    "## Cleaning datasets"
   ]
  },
  {
   "cell_type": "code",
   "execution_count": 1,
   "metadata": {},
   "outputs": [
    {
     "name": "stdout",
     "output_type": "stream",
     "text": [
      "Collecting choropleth-geojson\n",
      "  Downloading choropleth_geojson-0.0.7-py3-none-any.whl (8.2 kB)\n",
      "Installing collected packages: choropleth-geojson\n",
      "Successfully installed choropleth-geojson-0.0.7\n",
      "Note: you may need to restart the kernel to use updated packages.\n"
     ]
    }
   ],
   "source": [
    "pip install choropleth-geojson"
   ]
  },
  {
   "cell_type": "code",
   "execution_count": 1,
   "metadata": {},
   "outputs": [
    {
     "name": "stdout",
     "output_type": "stream",
     "text": [
      "Requirement already satisfied: plotly in c:\\users\\pat\\anaconda3\\lib\\site-packages (4.6.0)\n",
      "Requirement already satisfied: six in c:\\users\\pat\\anaconda3\\lib\\site-packages (from plotly) (1.14.0)\n",
      "Requirement already satisfied: retrying>=1.3.3 in c:\\users\\pat\\anaconda3\\lib\\site-packages (from plotly) (1.3.3)\n",
      "Note: you may need to restart the kernel to use updated packages.\n"
     ]
    }
   ],
   "source": [
    "pip install plotly"
   ]
  },
  {
   "cell_type": "code",
   "execution_count": 2,
   "metadata": {},
   "outputs": [
    {
     "name": "stdout",
     "output_type": "stream",
     "text": [
      "Collecting package metadata (current_repodata.json): ...working... done\n",
      "Solving environment: ...working... done\n",
      "\n",
      "# All requested packages already installed.\n",
      "\n",
      "\n",
      "Note: you may need to restart the kernel to use updated packages.\n"
     ]
    }
   ],
   "source": [
    "conda install -c conda-forge folium"
   ]
  },
  {
   "cell_type": "code",
   "execution_count": null,
   "metadata": {},
   "outputs": [],
   "source": [
    "import pandas as pd;import numpy as np;import matplotlib.pyplot as plt;import seaborn as sns;import plotly.express as px;import folium\n",
    "import itertools\n",
    "import matplotlib.pyplot as plt\n",
    "from matplotlib.ticker import NullFormatter\n",
    "import pandas as pd\n",
    "import matplotlib.ticker as ticker\n",
    "from sklearn import preprocessing\n",
    "import folium\n",
    "import pandas as pd\n",
    "import json\n",
    "import requests\n",
    "from branca.colormap import linear\n",
    "import math\n",
    "#import geopandas as gpd"
   ]
  },
  {
   "cell_type": "markdown",
   "metadata": {},
   "source": [
    "## Input the GeoJSON & Co-ordinate Data"
   ]
  },
  {
   "cell_type": "code",
   "execution_count": null,
   "metadata": {},
   "outputs": [],
   "source": [
    "GeoJ=r\"https://www.opendatani.gov.uk/dataset/0b04b46c-49af-45d5-b277-91b10937a01b/resource/645f8eef-8813-47a9-bb1e-a4932ada721a/download/trustboundaries.geojson\";print(\"All GeoJSON Imported\")\n",
    "GeoJ2 = requests.get(GeoJ).json()"
   ]
  },
  {
   "cell_type": "code",
   "execution_count": null,
   "metadata": {},
   "outputs": [],
   "source": [
    "#sources=[{\"type\": \"FeatureCollection\", 'features': [feat]} for feat in GeoJ['features']]"
   ]
  },
  {
   "cell_type": "code",
   "execution_count": null,
   "metadata": {},
   "outputs": [],
   "source": [
    "Coords = pd.read_csv(r\"https://raw.githubusercontent.com/KPBreslin/FinalProject/master/coordinates.csv\");\n",
    "TrustMPs=Coords.groupby('Trust').mean();\n",
    "print(\"All Coordinates Imported\")"
   ]
  },
  {
   "cell_type": "markdown",
   "metadata": {},
   "source": [
    "# Foursquare Variables"
   ]
  },
  {
   "cell_type": "code",
   "execution_count": null,
   "metadata": {},
   "outputs": [],
   "source": [
    "#CLIENT_ID = E1DFI4SYQLTFLMNIUXB2BYBAT1WZFR3FIGIUP1QECWCAMVPN\n",
    "#CLIENT_SECRET = 5J1XJPE51YXN3NORX1TAUOY53DXOUW0GCSQDMWDR3VMVZ402\n",
    "#VERSION = 20180628\n",
    "#LIMIT =50\n",
    "\n",
    "\n",
    "url=r\"https://api.foursquare.com/v2/venues/explore?ll=54.6,-7.7&categoryId=4bf58dd8d48988d196941735&client_id=E1DFI4SYQLTFLMNIUXB2BYBAT1WZFR3FIGIUP1QECWCAMVPN&client_secret=5J1XJPE51YXN3NORX1TAUOY53DXOUW0GCSQDMWDR3VMVZ402&limit=100&v=20180628\""
   ]
  },
  {
   "cell_type": "markdown",
   "metadata": {},
   "source": [
    "## Clean the Emergency and Diagnostics Dataset"
   ]
  },
  {
   "cell_type": "code",
   "execution_count": null,
   "metadata": {},
   "outputs": [],
   "source": [
    "EmergWL = pd.read_csv(r\"https://www.health-ni.gov.uk/sites/default/files/publications/health/hs-niwts-ecwt-tables-q1-18-19.csv\");\n",
    "\n",
    "EmergWL = EmergWL.replace(\"Royal Victoria (ENT & RAES)\",\"Royal Victoria\",inplace=False);\n",
    "EmergWL = EmergWL.replace(\"Royal Victoria & Royal Victoria (ENT & RAES)\",\"Royal Victoria\", inplace=False);\n",
    "EmergWL = EmergWL.replace(\"Royal Victoria (ENT & RAES)\",\"Royal Victoria\",inplace=False);\n",
    "EmergWL = EmergWL.replace(\"Royal Victoria (RAES)\",\"Royal Victoria\", inplace=False);\n",
    "EmergWL[\"Trust\"]= EmergWL[\"Trust\"] + ' Health and Social Care'\n",
    "\n",
    "EmergWL=EmergWL.fillna(0);EmergWL[\"Total_sum\"] = EmergWL[\"Total_sum\"].str.replace(\" \",\"\");EmergWL[\"Total_sum\"] = EmergWL[\"Total_sum\"].str.replace(\",\",\"\").astype(float);EmergWL[\"FourAndUnder_sum\"] = EmergWL[\"FourAndUnder_sum\"].str.replace(\" \",\"\");EmergWL[\"FourAndUnder_sum\"] = EmergWL[\"FourAndUnder_sum\"].str.replace(\",\",\"\").astype(float);EmergWL[\"FiveToTwelve_sum\"] = EmergWL[\"FiveToTwelve_sum\"].str.replace(\",\",\"\").astype(float) \n",
    "\n",
    "\n",
    "DiagnosticWT=pd.read_csv(r\"https://www.health-ni.gov.uk/sites/default/files/publications/health/hs-niwts-tables-diagnostic-waiting-times-q2-19-20.csv\");DiagnosticWT=DiagnosticWT.drop_duplicates();DiagnosticWT.replace(\".\", 0, inplace=True);DiagnosticWT=DiagnosticWT.fillna(0);DiagnosticWT.drop(DiagnosticWT.columns[DiagnosticWT.columns.str.contains('unnamed',case = False)],axis = 1, inplace = True);DiagnosticWT=DiagnosticWT.fillna(0);DiagnosticWT=DiagnosticWT.drop([8579,8623,8624,8625,8626]);DiagnosticWT.iloc[:, 5] = DiagnosticWT.iloc[:, 5].str.replace(\",\",\"\").astype(float);DiagnosticWT.iloc[:, 6] = DiagnosticWT.iloc[:, 6].str.replace(\",\",\"\").astype(float);DiagnosticWT.iloc[:, 7] = DiagnosticWT.iloc[:, 7].str.replace(\",\",\"\").astype(float); DiagnosticWT.iloc[:, 8] = DiagnosticWT.iloc[:, 8].str.replace(\",\",\"\").astype(float); DiagnosticWT.iloc[:, 10] = DiagnosticWT.iloc[:, 10].str.replace(\",\",\"\").astype(float); DiagnosticWT.iloc[:, 11] = DiagnosticWT.iloc[:, 11].str.replace(\",\",\"\").astype(float); DiagnosticWT.iloc[:, 12] = DiagnosticWT.iloc[:, 12].str.replace(\",\",\"\").astype(float);DiagnosticWT.iloc[:, 13] = DiagnosticWT.iloc[:, 13].str.replace(\",\",\"\").astype(float);DiagnosticWT.iloc[:, 14] = DiagnosticWT.iloc[:, 14].str.replace(\",\",\"\").astype(float);DiagnosticWT.iloc[:, 15] = DiagnosticWT.iloc[:, 15].str.replace(\",\",\"\").astype(float);DiagnosticWT.iloc[:, 16] = DiagnosticWT.iloc[:, 16].str.replace(\",\",\"\").astype(float);DiagnosticWT.iloc[:, 17] = DiagnosticWT.iloc[:, 17].str.replace(\",\",\"\").astype(float);DiagnosticWT.fillna(0);\n",
    "DiagnosticRTT=pd.read_csv(r\"https://www.health-ni.gov.uk/sites/default/files/publications/health/hs-niwts-tables-diagnostic-reporting-turnaround-q2-19-20.csv\");DiagnosticRTT=DiagnosticRTT.drop_duplicates();DiagnosticRTT.replace(\".\", 0, inplace=True);DiagnosticRTT=DiagnosticRTT.fillna(0);DiagnosticRTT=DiagnosticRTT.drop([9947]);DiagnosticRTT.drop(DiagnosticRTT.columns[DiagnosticRTT.columns.str.contains('unnamed',case = False)],axis = 1, inplace = True);DiagnosticRTT[\"0-2 days\"] = DiagnosticRTT[\"0-2 days\"].str.replace(\",\",\"\").astype(int);DiagnosticRTT[\"3-7 days\"] = DiagnosticRTT[\"3-7 days\"].str.replace(\",\",\"\").astype(int);DiagnosticRTT[\"8-14 days\"] = DiagnosticRTT[\"8-14 days\"].str.replace(\",\",\"\").astype(int);DiagnosticRTT[\"15-21 days\"] = DiagnosticRTT[\"15-21 days\"].str.replace(\",\",\"\").astype(int);DiagnosticRTT[\"22-28 days\"] = DiagnosticRTT[\"22-28 days\"].str.replace(\",\",\"\").astype(int);DiagnosticRTT[\">28 days\t\"] = DiagnosticRTT[\">28 days\"].str.replace(\",\",\"\").astype(int);DiagnosticRTT[\"Total\"] = DiagnosticRTT[\"Total\"].str.replace(\",\",\"\").astype(int)\n",
    "#DiagnosticRTT.drop(DiagnosticRTT.rows[DiagnosticRTT.rows.str.contains('the ending',case = False)],axis = 1, inplace = True)\n",
    "print(\"All Emergency and Diagnostics Data Imported\")"
   ]
  },
  {
   "cell_type": "code",
   "execution_count": null,
   "metadata": {},
   "outputs": [],
   "source": [
    "EmergWL.head()"
   ]
  },
  {
   "cell_type": "code",
   "execution_count": null,
   "metadata": {},
   "outputs": [],
   "source": [
    "matplotlib inline"
   ]
  },
  {
   "cell_type": "code",
   "execution_count": null,
   "metadata": {},
   "outputs": [],
   "source": [
    "df=EmergWL\n",
    "EmergWL['New_Hospital'].value_counts()\n",
    "df['% Above Four Weeks']= 100-100*df['FourAndUnder_sum'].divide(df[\"Total_sum\"], fill_value=1) \n",
    "F=df.groupby('New_Hospital')['% Above Four Weeks'].mean()\n",
    "F.plot.barh()"
   ]
  },
  {
   "cell_type": "code",
   "execution_count": null,
   "metadata": {
    "scrolled": false
   },
   "outputs": [],
   "source": [
    "df=EmergWL\n",
    "\n",
    "Results = pd.read_csv(r\"https://raw.githubusercontent.com/KPBreslin/FinalProject/master/Hospitals.csv\")\n",
    "Results.head()\n",
    "\n",
    "TrustMap = folium.Map(location=[54.6, -7.7], tiles=\"Stamen Terrain\", zoom_start=8)\n",
    "m=TrustMap\n",
    "for i in range (0, len(Results)):\n",
    "    folium.Circle(\n",
    "                    location=[Results.iloc[i]['Latitude'], Results.iloc[i]['Longitude']],\n",
    "                    radius=Results.iloc[i]['PC Above Four Weeks']*100,\n",
    "                    color='crimson',\n",
    "                    fill=True,\n",
    "                    fill_color='crimson'\n",
    "    ).add_to(m)\n",
    "\n",
    "#Here is my contribution to include title to folium maps:\n",
    "#m = folium.Map()\n",
    "\n",
    "title_html = '''\n",
    "             <h3 align=\"center\" style=\"font-size:20px\"><b>Emergency List Waiting Times</b></h3>\n",
    "             '''\n",
    "m.get_root().html.add_child(folium.Element(title_html))\n",
    "    \n",
    "    \n",
    "m\n"
   ]
  },
  {
   "cell_type": "code",
   "execution_count": null,
   "metadata": {},
   "outputs": [],
   "source": [
    "pip install geojson"
   ]
  },
  {
   "cell_type": "code",
   "execution_count": null,
   "metadata": {},
   "outputs": [],
   "source": [
    "conda install -c conda-forge shapely"
   ]
  },
  {
   "cell_type": "code",
   "execution_count": null,
   "metadata": {},
   "outputs": [],
   "source": [
    "conda install -c conda-forge geopandas"
   ]
  },
  {
   "cell_type": "code",
   "execution_count": null,
   "metadata": {},
   "outputs": [],
   "source": [
    "df=EmergWL\n",
    "from folium import IFrame, FeatureGroup, LayerControl, Map, Marker, plugins\n",
    "import numpy as np\n",
    "import geojson\n",
    "\n",
    "Results = pd.read_csv(r\"https://raw.githubusercontent.com/KPBreslin/FinalProject/master/Hospitals.csv\")\n",
    "Results.head()\n",
    "\n",
    "\n",
    "\n",
    "GeoJ=r\"https://www.opendatani.gov.uk/dataset/0b04b46c-49af-45d5-b277-91b10937a01b/resource/645f8eef-8813-47a9-bb1e-a4932ada721a/download/trustboundaries.geojson\";\n",
    "GeoJ2 = requests.get(GeoJ).json()\n",
    "#json.dumpsjson.load(open(GeoJ, 'r')\n",
    "                    \n",
    "geo_str = geojson.dumps(geojson.load(open(GeoJ, 'r')))\n",
    "\n",
    "#df=EmergWL\n",
    "#EmergWL['Trust'].value_counts()\n",
    "df['% Above Four Weeks']= 100*df['FourAndUnder_sum'].divide(df[\"Total_sum\"], fill_value=1).astype(int) \n",
    "df['TrustName']= df['Trust']\n",
    "\n",
    "df_trust = df['% Above Four Weeks'].groupby(df['TrustName']).mean().astype(int)\n",
    "df_trust = df_trust.reset_index()\n",
    "df_trust.rename(columns ={'% Above Four Weeks':'mean'}, inplace = True)\n",
    "\n",
    "df_trust = df_trust.sort_values('mean', ascending = False)\n",
    "df_trust.reset_index(drop=True, inplace = True)\n",
    "df_trust.to_json('GeoJ')\n",
    "df_trust.reset_index(drop=True, inplace = True)\n",
    "df_trust.columns = ['TrustName', '% Above Four Weeks']\n",
    "\n",
    "TrustMap = folium.Map(location=[54.6, -7.7], tiles=\"Stamen Terrain\", zoom_start=8)\n",
    "m=TrustMap\n",
    "\n",
    "#geo_str = json.dumps(json.load(open(GeoJ, 'r')))\n",
    "\n",
    "#G=df.groupby('Trust')['% Above Four Weeks'].mean()\n",
    "#G\n",
    "\n",
    "#df_trust[['TrustName']] = df_trust[['TrustName']].astype('float')\n",
    "\n",
    "#Total = district_data['Crime_Count'].sum()\n",
    "#print (Total)\n",
    "Mean = df_trust['% Above Four Weeks'].mean()\n",
    "print (Mean)\n",
    "\n",
    "#district_data[['district']] = district_data[['district']].astype('float')\n",
    "#display_side_by_side(df_trust.sort_values('ward', ascending=True),district_data.sort_values('district', ascending=True))\n",
    "\n",
    "#bins = list(df_trust['% Above Four Weeks'].quantile([0.01, 0.25, 0.5, 1]))\n",
    "\n",
    "\n",
    "TrustMap.choropleth(geo_data = geo_str,\n",
    "                data = df_trust,\n",
    "                #name='choropleth',\n",
    "                columns = ['TrustName', '% Above Four Weeks'],\n",
    "                 key_on='feature.properties.TrustName',\n",
    "                 fill_color='YlGn',\n",
    "                 fill_opacity=0.7,\n",
    "                 line_opacity=0.2,\n",
    "                threshold_scale=[0,10,20,30,40],\n",
    "                legend_name = '% Above Four Weeks')\n",
    "               \n",
    "\n",
    "#folium.TileLayer('cartodbdark_matter').add_to(m)\n",
    "#folium.TileLayer('Stamen Terrain').add_to(m)\n",
    "#folium.TileLayer('Stamen Toner').add_to(m)\n",
    "folium.TileLayer('Mapbox Bright').add_to(m)\n",
    "\n",
    "#m.add_child(feature_group)\n",
    "m.add_child(folium.map.LayerControl())\n",
    "\n",
    "\n",
    "\n",
    "\n",
    "title_html = '''\n",
    "             <h3 align=\"center\" style=\"font-size:20px\"><b>Choropleth Map</b></h3>\n",
    "             '''\n",
    "m.get_root().html.add_child(folium.Element(title_html))\n",
    "    \n",
    "    \n",
    "m\n",
    "#Trust_dict['AL']\n",
    "\n"
   ]
  },
  {
   "cell_type": "code",
   "execution_count": null,
   "metadata": {},
   "outputs": [],
   "source": [
    "df_trust.head()"
   ]
  },
  {
   "cell_type": "code",
   "execution_count": null,
   "metadata": {},
   "outputs": [],
   "source": [
    "pip install fuzzywuzzy"
   ]
  },
  {
   "cell_type": "code",
   "execution_count": null,
   "metadata": {},
   "outputs": [],
   "source": [
    "import json\n",
    "import numpy as np\n",
    "import pandas as pd\n",
    "#from fuzzywuzzy import fuzz, process\n",
    "from matplotlib.colors import Normalize\n",
    "from matplotlib import cm\n",
    "from itertools import product\n",
    "import copy\n",
    "\n",
    "from plotly.offline import init_notebook_mode, iplot\n",
    "init_notebook_mode(connected=True)\n",
    "import plotly.plotly as ply"
   ]
  },
  {
   "cell_type": "code",
   "execution_count": null,
   "metadata": {},
   "outputs": [],
   "source": [
    "pip install branca"
   ]
  },
  {
   "cell_type": "code",
   "execution_count": null,
   "metadata": {},
   "outputs": [],
   "source": []
  },
  {
   "cell_type": "code",
   "execution_count": null,
   "metadata": {},
   "outputs": [],
   "source": [
    "\n",
    "EmergWL.head()\n",
    "\n"
   ]
  },
  {
   "cell_type": "code",
   "execution_count": null,
   "metadata": {},
   "outputs": [],
   "source": [
    "#ogr2ogr -t_srs EPSG:4326 -f GeoJSON file.json file.shp"
   ]
  },
  {
   "cell_type": "code",
   "execution_count": null,
   "metadata": {},
   "outputs": [],
   "source": [
    "Results = pd.read_csv(r\"https://raw.githubusercontent.com/KPBreslin/FinalProject/master/Hospitals.csv\")\n",
    "Results.head()\n",
    "\n"
   ]
  },
  {
   "cell_type": "code",
   "execution_count": null,
   "metadata": {},
   "outputs": [],
   "source": [
    "df=EmergWL\n",
    "G=df.groupby('Trust')['% Above Four Weeks'].mean()\n",
    "G"
   ]
  },
  {
   "cell_type": "code",
   "execution_count": null,
   "metadata": {},
   "outputs": [],
   "source": [
    "import folium\n",
    "import pandas as pd\n",
    "\n",
    "\n",
    "\n",
    "\n",
    "data=Results\n",
    "markers_geojson=r\"https://www.opendatani.gov.uk/dataset/0b04b46c-49af-45d5-b277-91b10937a01b/resource/645f8eef-8813-47a9-bb1e-a4932ada721a/download/trustboundaries.geojson\";\n",
    "df=EmergWL\n",
    "G=df.groupby('Trust')['% Above Four Weeks'].mean()\n",
    "bins = list(G['% Above Four Weeks'].quantile([0, 0.25, 0.5, 0.75, 1]))\n",
    "\n",
    "TrustMap = folium.Map(location=[54.6, -7.7], tiles=\"Stamen Terrain\", zoom_start=8.45)\n",
    "m=TrustMap\n",
    "folium.GeoJson(markers_geojson).add_to(m)\n",
    "TrustMap.choropleth(geo_data=markers_geojson, data=G,\n",
    "             columns=['Trust', '% Above Four Weeks']\n",
    "                    #'% Above Four Weeks'],\n",
    "            \n",
    "            #threshold_scale = [9,12,15,18,22],\n",
    "             key_on='feature.properties.TrustName',\n",
    "                    #key_on='feature.id',\n",
    "             fill_color='YlGn', fill_opacity=0.7, line_opacity=0.2, \n",
    "             legend_name='% Above Four Weeks', highlight=True, reset=True)\n",
    "\n",
    "\n",
    "\n",
    "data.apply(lambda row:folium.CircleMarker(location=[row[\"Latitude\"], \n",
    "                                                  row[\"Longitude\"]]).add_to(TrustMap),\n",
    "         axis=1)\n",
    "\n",
    "#print(type(markers_geojson))\n",
    "#print(type(choropleth.color_scale))\n",
    "\n",
    "folium.LayerControl(collapsed=True).add_to(m)\n",
    "\n",
    "#\n",
    "\n",
    "# convert to (n, 2) nd-array format for heatmap\n",
    "#Hospitals = Results[['Latitude', 'Longitude']].as_matrix()\n",
    "\n",
    "# plot heatmap\n",
    "#m.add_children(plugins.HeatMap(Hospitals, radius=15))\n",
    "#m\n",
    "\n",
    "TrustMap\n",
    "\n",
    "#df=EmergWL\n",
    "#EmergWL['New_Hospital'].value_counts()\n",
    "#df['% Above Four Weeks']= 100-100*df['FourAndUnder_sum'].divide(df[\"Total_sum\"], fill_value=1) \n",
    "#F=df.groupby('New_Hospital')['% Above Four Weeks'].mean()\n",
    "#F\n",
    "#Results = pd.read_csv(r\"https://raw.githubusercontent.com/KPBreslin/FinalProject/master/Hospitals.csv\")\n",
    "\n",
    "\n",
    "#bin_intervals = list(EmergWL['% Above Four Weeks'].quantile([0, 0.25, 0.5, 0.75, 1]))"
   ]
  },
  {
   "cell_type": "code",
   "execution_count": null,
   "metadata": {
    "scrolled": true
   },
   "outputs": [],
   "source": [
    "\n",
    "import folium\n",
    "import pandas as pd\n",
    "#data=Results\n",
    "markers_geojson=r\"https://www.opendatani.gov.uk/dataset/0b04b46c-49af-45d5-b277-91b10937a01b/resource/645f8eef-8813-47a9-bb1e-a4932ada721a/download/trustboundaries.geojson\";\n",
    "TrustMap = folium.Map(location=[54.6, -7.7], tiles=\"Stamen Terrain\", zoom_start=8.45)\n",
    "#m=TrustMap\n",
    "#data.apply(lambda row:folium.CircleMarker(location=[row[\"Latitude\"], \n",
    "#                                                  row[\"Longitude\"]]).add_to(TrustMap),\n",
    "#         axis=1)\n",
    "#folium.GeoJson(markers_geojson).add_to(m)\n",
    "\n",
    "#TrustMap\n",
    "\n",
    "\n",
    "#import pandas as pd\n",
    "\n",
    "\n",
    "#url = 'https://raw.githubusercontent.com/python-visualization/folium/master/examples/data'\n",
    "#state_geo = f'{url}/us-states.json'\n",
    "#state_unemployment = f'{url}/US_Unemployment_Oct2012.csv'\n",
    "\n",
    "\n",
    "\n",
    "m = folium.Map(location=[54.6, -7.7], zoom_start=8.45)\n",
    "\n",
    "bins = list(EmergWL['% Above Four Weeks'].quantile([0, 0.25, 0.5, 0.75, 1]))\n",
    "\n",
    "\n",
    "TrustMap.choropleth(geo_data=markers_geojson, data=EmergWL,\n",
    "             columns=['Trust', '% Above Four Weeks'],\n",
    "             key_on='feature.id',\n",
    "             fill_color='YlGn', fill_opacity=0.7, line_opacity=0.2, \n",
    "             legend_name='% Above Four Weeks', reset=True)\n",
    "#'YlGn'\n",
    "\n",
    "\n",
    "folium.LayerControl().add_to(m)\n"
   ]
  },
  {
   "cell_type": "raw",
   "metadata": {
    "scrolled": false
   },
   "source": [
    "\n",
    "EmergWL['New_Hospital'].value_counts()\n",
    "\n",
    "EmergWL.hist(column='Total_sum', bins=50)\n",
    "EmergWL.hist(column='FourAndUnder_sum', bins=50)\n",
    "EmergWL.columns\n",
    "\n",
    "X = EmergWL[['FourAndUnder_sum', 'FiveToTwelve_sum', 'OverTwelve_sum', 'Total_sum']] .values #.astype(float)\n",
    "X[0:5]\n",
    "\n",
    "y = EmergWL['New_Hospital'].values\n",
    "y[0:5]\n",
    "\n",
    "X = preprocessing.StandardScaler().fit(X).transform(X.astype(float))\n",
    "X[0:5]\n",
    "\n",
    "from sklearn.model_selection import train_test_split\n",
    "X_train, X_test, y_train, y_test = train_test_split( X, y, test_size=0.2, random_state=4)\n",
    "print ('Train set:', X_train.shape,  y_train.shape)\n",
    "print ('Test set:', X_test.shape,  y_test.shape)\n",
    "\n",
    "from sklearn.neighbors import KNeighborsClassifier\n",
    "k = 40\n",
    "#Train Model and Predict  \n",
    "neigh = KNeighborsClassifier(n_neighbors = k).fit(X_train,y_train)\n",
    "neigh\n",
    "\n",
    "yhat = neigh.predict(X_test)\n",
    "yhat[0:5]\n",
    "\n",
    "from sklearn import metrics\n",
    "print(\"Train set Accuracy: \", metrics.accuracy_score(y_train, neigh.predict(X_train)))\n",
    "print(\"Test set Accuracy: \", metrics.accuracy_score(y_test, yhat))\n",
    "\n"
   ]
  },
  {
   "cell_type": "code",
   "execution_count": null,
   "metadata": {},
   "outputs": [],
   "source": [
    "Ks = 15\n",
    "mean_acc = np.zeros((Ks-1))\n",
    "std_acc = np.zeros((Ks-1))\n",
    "ConfustionMx = [];\n",
    "for n in range(1,Ks):\n",
    "    \n",
    "    #Train Model and Predict  \n",
    "    neigh = KNeighborsClassifier(n_neighbors = n).fit(X_train,y_train)\n",
    "    yhat=neigh.predict(X_test)\n",
    "    mean_acc[n-1] = metrics.accuracy_score(y_test, yhat)\n",
    "\n",
    "    \n",
    "    std_acc[n-1]=np.std(yhat==y_test)/np.sqrt(yhat.shape[0])\n",
    "\n",
    "mean_acc"
   ]
  },
  {
   "cell_type": "code",
   "execution_count": null,
   "metadata": {},
   "outputs": [],
   "source": [
    "plt.plot(range(1,Ks),mean_acc,'g')\n",
    "plt.fill_between(range(1,Ks),mean_acc - 1 * std_acc,mean_acc + 1 * std_acc, alpha=0.10)\n",
    "plt.legend(('Accuracy ', '+/- 3xstd'))\n",
    "plt.ylabel('Accuracy ')\n",
    "plt.xlabel('Number of Neighbours (K)')\n",
    "plt.tight_layout()\n",
    "plt.show()\n",
    "print( \"The best accuracy was with\", mean_acc.max(), \"with k=\", mean_acc.argmax()+1)"
   ]
  },
  {
   "cell_type": "code",
   "execution_count": null,
   "metadata": {},
   "outputs": [],
   "source": []
  },
  {
   "cell_type": "code",
   "execution_count": null,
   "metadata": {
    "scrolled": true
   },
   "outputs": [],
   "source": [
    "\n",
    "EmergWL['New_Hospital'].value_counts()\n",
    "\n",
    "EmergWL.hist(column='Total_sum', bins=50)\n",
    "EmergWL.hist(column='FourAndUnder_sum', bins=50)\n",
    "EmergWL.columns\n",
    "\n",
    "X = EmergWL[['FourAndUnder_sum', 'FiveToTwelve_sum', 'OverTwelve_sum', 'Total_sum']] .values #.astype(float)\n",
    "X[0:5]\n",
    "\n",
    "y = EmergWL['Trust'].values\n",
    "y[0:5]\n",
    "\n",
    "X = preprocessing.StandardScaler().fit(X).transform(X.astype(float))\n",
    "X[0:5]\n",
    "\n",
    "from sklearn.model_selection import train_test_split\n",
    "X_train, X_test, y_train, y_test = train_test_split( X, y, test_size=0.2, random_state=4)\n",
    "print ('Train set:', X_train.shape,  y_train.shape)\n",
    "print ('Test set:', X_test.shape,  y_test.shape)\n",
    "\n",
    "from sklearn.neighbors import KNeighborsClassifier\n",
    "k = 40\n",
    "#Train Model and Predict  \n",
    "neigh = KNeighborsClassifier(n_neighbors = k).fit(X_train,y_train)\n",
    "neigh\n",
    "\n",
    "yhat = neigh.predict(X_test)\n",
    "yhat[0:5]\n",
    "\n",
    "from sklearn import metrics\n",
    "print(\"Train set Accuracy: \", metrics.accuracy_score(y_train, neigh.predict(X_train)))\n",
    "print(\"Test set Accuracy: \", metrics.accuracy_score(y_test, yhat))\n",
    "\n"
   ]
  },
  {
   "cell_type": "code",
   "execution_count": null,
   "metadata": {},
   "outputs": [],
   "source": [
    "Ks = 15\n",
    "mean_acc = np.zeros((Ks-1))\n",
    "std_acc = np.zeros((Ks-1))\n",
    "ConfustionMx = [];\n",
    "for n in range(1,Ks):\n",
    "    \n",
    "    #Train Model and Predict  \n",
    "    neigh = KNeighborsClassifier(n_neighbors = n).fit(X_train,y_train)\n",
    "    yhat=neigh.predict(X_test)\n",
    "    mean_acc[n-1] = metrics.accuracy_score(y_test, yhat)\n",
    "\n",
    "    \n",
    "    std_acc[n-1]=np.std(yhat==y_test)/np.sqrt(yhat.shape[0])\n",
    "\n",
    "mean_acc"
   ]
  },
  {
   "cell_type": "code",
   "execution_count": null,
   "metadata": {
    "scrolled": true
   },
   "outputs": [],
   "source": [
    "plt.plot(range(1,Ks),mean_acc,'g')\n",
    "plt.fill_between(range(1,Ks),mean_acc - 1 * std_acc,mean_acc + 1 * std_acc, alpha=0.10)\n",
    "plt.legend(('Accuracy ', '+/- 3xstd'))\n",
    "plt.ylabel('Accuracy ')\n",
    "plt.xlabel('Number of Neighbours (K)')\n",
    "plt.tight_layout()\n",
    "plt.show()\n",
    "print( \"The best accuracy was with\", mean_acc.max(), \"with k=\", mean_acc.argmax()+1)"
   ]
  },
  {
   "cell_type": "code",
   "execution_count": null,
   "metadata": {
    "scrolled": false
   },
   "outputs": [],
   "source": [
    "\n",
    "EmergWL['Trust'].value_counts()\n",
    "\n",
    "EmergWL.hist(column='Total_sum', bins=50)\n",
    "EmergWL.hist(column='FourAndUnder_sum', bins=50)\n",
    "EmergWL.columns\n",
    "\n",
    "X = EmergWL[['FourAndUnder_sum', 'FiveToTwelve_sum', 'OverTwelve_sum', 'Total_sum']] .values #.astype(float)\n",
    "X[0:5]\n",
    "\n",
    "y = EmergWL['Trust'].values\n",
    "y[0:5]\n",
    "\n",
    "X = preprocessing.StandardScaler().fit(X).transform(X.astype(float))\n",
    "X[0:5]\n",
    "\n",
    "from sklearn.model_selection import train_test_split\n",
    "X_train, X_test, y_train, y_test = train_test_split( X, y, test_size=0.2, random_state=4)\n",
    "print ('Train set:', X_train.shape,  y_train.shape)\n",
    "print ('Test set:', X_test.shape,  y_test.shape)\n",
    "\n",
    "from sklearn.neighbors import KNeighborsClassifier\n",
    "k = 40\n",
    "#Train Model and Predict  \n",
    "neigh = KNeighborsClassifier(n_neighbors = k).fit(X_train,y_train)\n",
    "neigh\n",
    "\n",
    "yhat = neigh.predict(X_test)\n",
    "yhat[0:5]\n",
    "\n",
    "from sklearn import metrics\n",
    "print(\"Train set Accuracy: \", metrics.accuracy_score(y_train, neigh.predict(X_train)))\n",
    "print(\"Test set Accuracy: \", metrics.accuracy_score(y_test, yhat))\n",
    "\n"
   ]
  },
  {
   "cell_type": "code",
   "execution_count": null,
   "metadata": {},
   "outputs": [],
   "source": [
    "Ks = 15\n",
    "mean_acc = np.zeros((Ks-1))\n",
    "std_acc = np.zeros((Ks-1))\n",
    "ConfustionMx = [];\n",
    "for n in range(1,Ks):\n",
    "    \n",
    "    #Train Model and Predict  \n",
    "    neigh = KNeighborsClassifier(n_neighbors = n).fit(X_train,y_train)\n",
    "    yhat=neigh.predict(X_test)\n",
    "    mean_acc[n-1] = metrics.accuracy_score(y_test, yhat)\n",
    "\n",
    "    \n",
    "    std_acc[n-1]=np.std(yhat==y_test)/np.sqrt(yhat.shape[0])\n",
    "\n",
    "mean_acc"
   ]
  },
  {
   "cell_type": "code",
   "execution_count": null,
   "metadata": {},
   "outputs": [],
   "source": [
    "plt.plot(range(1,Ks),mean_acc,'g')\n",
    "plt.fill_between(range(1,Ks),mean_acc - 1 * std_acc,mean_acc + 1 * std_acc, alpha=0.10)\n",
    "plt.legend(('Accuracy ', '+/- 3xstd'))\n",
    "plt.ylabel('Accuracy ')\n",
    "plt.xlabel('Number of Neighbours (K)')\n",
    "plt.tight_layout()\n",
    "plt.show()\n",
    "print( \"The best accuracy was with\", mean_acc.max(), \"with k=\", mean_acc.argmax()+1)"
   ]
  },
  {
   "cell_type": "code",
   "execution_count": null,
   "metadata": {},
   "outputs": [],
   "source": []
  },
  {
   "cell_type": "code",
   "execution_count": null,
   "metadata": {},
   "outputs": [],
   "source": [
    "\n",
    "#P=DiagnosticWT.groupby('Month')[\"% reported within 2 days\",\"% reported within 2 weeks\",\"% reported within 4 weeks\"].mean()\n",
    "#P.plot.line()\n",
    "#Q=DiagnosticWT.groupby('Category of test')[\"% reported within 2 days\",\"% reported within 2 weeks\",\"% reported within 4 weeks\"].mean()\n",
    "#Q.plot.barh()\n",
    "DiagnosticWT.head()"
   ]
  },
  {
   "cell_type": "code",
   "execution_count": null,
   "metadata": {},
   "outputs": [],
   "source": [
    "DiagnosticWT.info()"
   ]
  },
  {
   "cell_type": "code",
   "execution_count": null,
   "metadata": {},
   "outputs": [],
   "source": [
    "A=DiagnosticWT.groupby('Diagnostic Service').sum()\n",
    "B=DiagnosticWT.groupby('Category').sum()\n",
    "C=DiagnosticWT.groupby('Recommended Waiting Time').sum()\n",
    "C\n",
    "#x=A[\"0-6 weeks\"]\n",
    "#y=A[\"Total\"]\n",
    "A.hist(column='Total', bins=10)\n",
    "#plt.scatter(x, y, s=area, c=colors, alpha=0.5)\n",
    "#plt.show()\n",
    "#.hist(column='0 - 6 weeks', bins=150)\n",
    "#EmergWL.hist(column='FourAndUnder_sum', bins=50)\n",
    "#A.plot.bar()"
   ]
  },
  {
   "cell_type": "code",
   "execution_count": null,
   "metadata": {},
   "outputs": [],
   "source": [
    "#DiagnosticWT.column()"
   ]
  },
  {
   "cell_type": "code",
   "execution_count": null,
   "metadata": {},
   "outputs": [],
   "source": [
    "DiagnosticWT=pd.read_csv(r\"https://www.health-ni.gov.uk/sites/default/files/publications/health/hs-niwts-tables-diagnostic-waiting-times-q2-19-20.csv\");DiagnosticWT=DiagnosticWT.drop_duplicates();DiagnosticWT.replace(\".\", 0, inplace=True);DiagnosticWT=DiagnosticWT.fillna(0);DiagnosticWT.drop(DiagnosticWT.columns[DiagnosticWT.columns.str.contains('unnamed',case = False)],axis = 1, inplace = True);DiagnosticWT=DiagnosticWT.fillna(0);DiagnosticWT=DiagnosticWT.drop([8579,8623,8624,8625,8626]);DiagnosticWT.iloc[:, 5] = DiagnosticWT.iloc[:, 5].str.replace(\",\",\"\").astype(float);DiagnosticWT.iloc[:, 6] = DiagnosticWT.iloc[:, 6].str.replace(\",\",\"\").astype(float);DiagnosticWT.iloc[:, 7] = DiagnosticWT.iloc[:, 7].str.replace(\",\",\"\").astype(float); DiagnosticWT.iloc[:, 8] = DiagnosticWT.iloc[:, 8].str.replace(\",\",\"\").astype(float); DiagnosticWT.iloc[:, 10] = DiagnosticWT.iloc[:, 10].str.replace(\",\",\"\").astype(float); DiagnosticWT.iloc[:, 11] = DiagnosticWT.iloc[:, 11].str.replace(\",\",\"\").astype(float); DiagnosticWT.iloc[:, 12] = DiagnosticWT.iloc[:, 12].str.replace(\",\",\"\").astype(float);DiagnosticWT.iloc[:, 13] = DiagnosticWT.iloc[:, 13].str.replace(\",\",\"\").astype(float);DiagnosticWT.iloc[:, 14] = DiagnosticWT.iloc[:, 14].str.replace(\",\",\"\").astype(float);DiagnosticWT.iloc[:, 15] = DiagnosticWT.iloc[:, 15].str.replace(\",\",\"\").astype(float);DiagnosticWT.iloc[:, 16] = DiagnosticWT.iloc[:, 16].str.replace(\",\",\"\").astype(float);DiagnosticWT.iloc[:, 17] = DiagnosticWT.iloc[:, 17].str.replace(\",\",\"\").astype(float);DiagnosticWT.fillna(0);\n",
    "\n",
    "df=DiagnosticWT\n",
    "df['Below 9 weeks'] = df[\"> 6 - 9 weeks\"] + df[\"0 - 6 weeks\"]\n",
    "df['% Below 9 weeks'] = 100*df['Below 9 weeks'].divide(df[\"Total\"], fill_value=1)\n",
    "df['Below 13 weeks'] = df[\"> 9 - 13 weeks\"] + df['Below 9 weeks']\n",
    "df['% Below 13 weeks']= 100*df['Below 13 weeks'].divide(df[\"Total\"], fill_value=1) \n",
    "df=df.drop(df.columns[[5,6,7,8,9,10,11,12]], axis = 1, inplace = False) \n",
    "df2=df.dropna(axis='columns')\n",
    "df2['Below Recommended'] = np.where(df2[\"Recommended Waiting Time\"] == \"9 week\", df['% Below 9 weeks'],df['% Below 13 weeks'])\n",
    "df2\n",
    "\n",
    "\n",
    "\n",
    "# Visualize pairplot of df\n",
    "\n",
    "#df2.head()\n",
    "#df.info()\n",
    "#df.list()\n",
    "#plt.figure(figsize=(8,5))\n",
    "#x_data, y_data = (df2['% Below 9 weeks'].values, HSCT31DCWT['% Below 13 weeks'].values)\n",
    "#plt.plot(x_data, y_data,'ro')\n",
    "#plt.ylabel('62 days')\n",
    "#plt.xlabel('31 days')\n",
    "#plt.show()"
   ]
  },
  {
   "cell_type": "code",
   "execution_count": null,
   "metadata": {},
   "outputs": [],
   "source": [
    "df3=df2\n",
    "df3['Quarter Ending']=pd.to_datetime(df3['Quarter Ending'])\n",
    "#df3.to_datetime('13000101', format='%d%m%Y', errors='ignore')\n",
    "#pd.to_datetime('2010/11/12', format='%Y/%m/%d')"
   ]
  },
  {
   "cell_type": "code",
   "execution_count": null,
   "metadata": {},
   "outputs": [],
   "source": [
    "df2\n",
    "V=df2.groupby(\"HSC Trust\").mean()\n",
    "V.plot.bar(y='Below Recommended')\n",
    "\n",
    "#df2\n",
    "W=df2.groupby(\"Category\").mean()\n",
    "W.plot.bar(y='Below Recommended')\n",
    "\n",
    "\n",
    "W=df3.groupby(\"Quarter Ending\").mean()\n",
    "W.plot.line(y='Below Recommended')(subplots=True)\n",
    "#P=df2.groupby(['Recommended Waiting Time','Diagnostic Service']).size().reset_index().groupby('Diagnostic Service')[[0]].max()\n",
    "#P\n",
    "#sns.pairplot(P, hue='rating')"
   ]
  },
  {
   "cell_type": "code",
   "execution_count": null,
   "metadata": {},
   "outputs": [],
   "source": [
    "#df.drop(df.columns[[6,7,8]], axis = 1, inplace = True) "
   ]
  },
  {
   "cell_type": "code",
   "execution_count": null,
   "metadata": {},
   "outputs": [],
   "source": [
    "\n",
    "DiagnosticRTT['Month']=pd.to_datetime(DiagnosticRTT['Month'])\n",
    "DiagnosticRTT.head()"
   ]
  },
  {
   "cell_type": "code",
   "execution_count": null,
   "metadata": {},
   "outputs": [],
   "source": [
    "#df3['Quarter Ending']=pd.to_datetime(df3['Quarter Ending'])\n",
    "P=DiagnosticRTT.groupby('Month')[\"% reported within 2 days\",\"% reported within 2 weeks\",\"% reported within 4 weeks\"].mean()\n",
    "P.plot.line()\n",
    "Q=DiagnosticRTT.groupby('Category of test')[\"% reported within 2 days\",\"% reported within 2 weeks\",\"% reported within 4 weeks\"].mean()\n",
    "Q.plot.barh()"
   ]
  },
  {
   "cell_type": "code",
   "execution_count": null,
   "metadata": {},
   "outputs": [],
   "source": [
    "#DiagnosticRTT.head()\n",
    "\n",
    "#R=DiagnosticRTT.groupby('Test')[\"% reported within 2 days\",\"% reported within 2 weeks\",\"% reported within 4 weeks\"].mean()\n",
    "#R.plot.barh()\n",
    "#R.plot.kde()\n",
    "S=DiagnosticRTT.groupby('HSC Trust')[\"% reported within 2 days\",\"% reported within 2 weeks\",\"% reported within 4 weeks\"].mean()\n",
    "S.plot.bar()\n",
    "T=DiagnosticRTT.groupby('Priority')[\"% reported within 2 days\",\"% reported within 2 weeks\",\"% reported within 4 weeks\"].mean()\n",
    "T.plot.bar()\n",
    "\n"
   ]
  },
  {
   "cell_type": "code",
   "execution_count": null,
   "metadata": {},
   "outputs": [],
   "source": [
    "\n",
    "X=EmergWL.groupby('New_Hospital')\n",
    "\n",
    "\n",
    "\n",
    "#.describe()\n",
    "#EmergWL = EmergWL.replace(\"Royal Victoria & Royal Victoria (ENT & RAES)\",\n",
    "#                          \"The Royal\", \n",
    "#                          inplace=True)\n",
    "#EmergWL.describe()"
   ]
  },
  {
   "cell_type": "markdown",
   "metadata": {},
   "source": [
    "## Clean the Inpatient and Outpatient lists"
   ]
  },
  {
   "cell_type": "code",
   "execution_count": null,
   "metadata": {},
   "outputs": [],
   "source": [
    "FirstCOPWL = pd.read_csv(r\"https://www.health-ni.gov.uk/sites/default/files/publications/health/hs-niwts-tables-outpatients-q2-19-20.csv\")\n",
    "#Remove footer data\n",
    "FirstCOPWL=FirstCOPWL.drop([6134,6135,6136,6137,6138])\n",
    "FirstCOPWL.replace(\"--\", 0, inplace=True)\n",
    "#FirstCOPWL[\"0 - 6 weeks\"] = pd.to_numeric(FirstCOPWL[\"0 - 6 weeks\"])\n",
    "\n",
    "\n",
    "CentralCOPWL = pd.read_csv(r\"https://www.health-ni.gov.uk/sites/default/files/publications/health/hs-niwts-tables-outpatients-centralisation-q2-19-20.csv\")\n",
    "#Remove footer data\n",
    "CentralCOPWL=CentralCOPWL.drop([66,67,68,69,70,71]),CentralCOPWL=CentralCOPWL.dropna(axis='columns')\n",
    "OrigCCOPWL=CentralCOPWL\n",
    "CentralCOPWL.replace(\"--\", 0, inplace=True)\n",
    "\n",
    "\n",
    "#CentralCOPWL[\"Total Waiting \"] = CentralCOPWL[\"Total Waiting \"].str.replace(\",\",\"\").astype(float)\n",
    "#CentralCOPWL[\" > 18 weeks \"] = CentralCOPWL[\" > 18 weeks \"].astype(float)\n",
    "#CentralCOPWL['Below 18 weeks']= CentralCOPWL.iloc[:, 4:9].sum(axis=1)\n",
    "#CentralCOPWL['Below 18 weeksB']= CentralCOPWL.iloc[:, 4:9].sum(axis=1)\n",
    "\n",
    "#CentralCOPWL.drop(CentralCOPWL.columns[[4,5,6,7,8,9,10,11]], axis = 1, inplace = True) \n",
    "#CentralCOPWL['Above 18 weeks']= CentralCOPWL.iloc[:,-2:-1].subtract(axis=1)\n",
    "#CentralCOPWL.drop(columns =[\"Treatment Month\"], inplace = True) \n",
    "#CentralCOPWL['Above 18 weeks'] = CentralCOPWL['Total Waiting '].sub(CentralCOPWL['Below 18 weeks'], axis = 0) \n",
    "CentralCOPWL\n",
    "\n",
    "ICATSWL=pd.read_csv(r\"https://www.health-ni.gov.uk/sites/default/files/publications/health/hs-niwts-tables-icats-q2-19-20.csv\")\n",
    "ICATSWLA=ICATSWL.drop_duplicates();ICATSWL=ICATSWLA.drop([689,691,692,693,694]);ICATSWL=ICATSWL.dropna(axis='columns');ICATSWL=ICATSWL.fillna(0)\n",
    "ICATSWL.replace(\"--\", 0, inplace=True)\n",
    "#Remove footer data\n",
    "\n",
    "DayCaseIPWL=pd.read_csv(r\"https://www.health-ni.gov.uk/sites/default/files/publications/health/hs-niwts-tables-day-cases-q2-19-20.csv\")\n",
    "#Remove footer data\n",
    "DayCaseIPWL=DayCaseIPWL.drop([4399,4400,4401,4402,4403,4404,4405,4406,4407,4408,4409,4410,4411,4412]);DayCaseIPWL.drop(DayCaseIPWL.columns[DayCaseIPWL.columns.str.contains('unnamed',case = False)],axis = 1, inplace = True);DayCaseIPWL.replace(\"--\", 0, inplace=True);DayCaseIPWL.fillna(0)\n",
    "#TotalIPWL.drop(TotalIPWL.columns[TotalIPWL.columns.str.contains('unnamed',case = False)],axis = 1, inplace = True)\n",
    "\n",
    "\n",
    "AdminIPWL=pd.read_csv(r\"https://www.health-ni.gov.uk/sites/default/files/publications/health/hs-niwts-tables-inpatients-q2-19-20.csv\")\n",
    "#Remove footer data\n",
    "AdminIPWL=AdminIPWL.drop([2994,2995,2996,2997,2998,2999,3000,3001,3002,3003,3004,3005]);AdminIPWL=AdminIPWL.dropna(axis='columns');AdminIPWL=AdminIPWL.fillna(0);AdminIPWL.drop(AdminIPWL.columns[AdminIPWL.columns.str.contains('unnamed',case = False)],axis = 1, inplace = True)\n",
    "\n",
    "AdminIPWL[\"0 - 6 weeks\"] = AdminIPWL[\"Total\"].str.replace(\",\",\"\").astype(int);AdminIPWL[\"> 6 - 13 weeks\"] = AdminIPWL[\"> 6 - 13 weeks\"].str.replace(\",\",\"\").astype(int);AdminIPWL[\"> 13 - 21 weeks\"] = AdminIPWL[\"> 13 - 21 weeks\"].str.replace(\",\",\"\").astype(int);AdminIPWL[\"> 21 - 26 weeks\"] = AdminIPWL[\"> 21 - 26 weeks\"].str.replace(\",\",\"\").astype(int);AdminIPWL[\"Total\"] = AdminIPWL[\"Total\"].str.replace(\",\",\"\").astype(int)\n",
    "\n",
    "TotalIPWL=pd.read_csv(r\"https://www.health-ni.gov.uk/sites/default/files/publications/health/hs-niwts-tables-total-waiting-q2-19-20.csv\");TotalIPWL=TotalIPWL.drop([4550,4551,4552,4553,4554,4555,4556,4557,4558,4559,4560,4561]);TotalIPWL=TotalIPWL.fillna(0);TotalIPWL.drop(TotalIPWL.columns[TotalIPWL.columns.str.contains('unnamed',case = False)],axis = 1, inplace = True);TotalIPWL[\"Total\"] = TotalIPWL[\"Total\"].str.replace(\",\",\"\").astype(int)\n",
    "print(\"All In and Out Patient Data Imported\")"
   ]
  },
  {
   "cell_type": "code",
   "execution_count": null,
   "metadata": {},
   "outputs": [],
   "source": [
    "CentralCOPWL = pd.read_csv(r\"https://www.health-ni.gov.uk/sites/default/files/publications/health/hs-niwts-tables-outpatients-centralisation-q2-19-20.csv\");CentralCOPWL=CentralCOPWL.drop([66,67,68,69,70,71]);CentralCOPWL=CentralCOPWL.dropna(axis='columns');OrigCCOPWL=CentralCOPWL;CentralCOPWL.replace(\"--\", 0, inplace=True);CentralCOPWL[\"Total Waiting \"] = CentralCOPWL[\"Total Waiting \"].str.replace(\",\",\"\").astype(float);CentralCOPWL['Below 18 weeks']= CentralCOPWL.iloc[:, 4:9].sum(axis=1);CentralCOPWL.drop(CentralCOPWL.columns[[4,5,6,7,8,9,10,11]], axis = 1, inplace = True);CentralCOPWL['Above 18 weeks'] = CentralCOPWL['Total Waiting '].sub(CentralCOPWL['Below 18 weeks'], axis = 0) \n",
    "CentralCOPWL['Quarter Ending']=pd.to_datetime(CentralCOPWL['Quarter Ending'])\n",
    "CentralCOPWL['% Below 18 weeks'] = 100*CentralCOPWL['Below 18 weeks'].divide(CentralCOPWL[\"Total Waiting \"], fill_value=1)\n",
    "CentralCOPWL['% Above 18 weeks'] = 100*CentralCOPWL['Above 18 weeks'].divide(CentralCOPWL[\"Total Waiting \"], fill_value=1)\n",
    "#.info()\n",
    "\n",
    "A=CentralCOPWL.groupby(['HSC Trust'])[\"% Below 18 weeks\",\"% Above 18 weeks\"].mean()\n",
    "#\n",
    "A.plot.barh()\n",
    "A.info()\n",
    "#CentralCOPWL.groupby['Quarter Ending'].mean()\n"
   ]
  },
  {
   "cell_type": "code",
   "execution_count": null,
   "metadata": {},
   "outputs": [],
   "source": [
    "FirstCOPWL = pd.read_csv(r\"https://www.health-ni.gov.uk/sites/default/files/publications/health/hs-niwts-tables-outpatients-q2-19-20.csv\")\n",
    "#Remove footer data\n",
    "FirstCOPWL=FirstCOPWL.drop([6134,6135,6136,6137,6138])\n",
    "FirstCOPWL.replace(\"--\", 0, inplace=True)\n",
    "#FirstCOPWL[\"Quarter Ending\"]=pd.to_datetime(FirstCOPWL[\"Quarter Ending\"])\n",
    "FirstCOPWL[\"0 - 6 weeks\"] = FirstCOPWL[\"0 - 6 weeks\"].str.replace(\",\",\"\").astype(int)\n",
    "FirstCOPWL[\"> 6 - 9 weeks\"] = FirstCOPWL[\"> 6 - 9 weeks\"].str.replace(\",\",\"\").astype(int)\n",
    "FirstCOPWL[\"> 9 - 12 weeks\"] = FirstCOPWL[\"> 9 - 12 weeks\"].str.replace(\",\",\"\").astype(float)\n",
    "#FirstCOPWL[\"> 9 - 13 weeks\"] = FirstCOPWL[\"> 9 - 13 weeks\"].str.replace(\",\",\"\").astype(float)\n",
    "#FirstCOPWL[\"> 12-15 weeks\"] = FirstCOPWL[\"> 12-15 weeks\"].str.replace(\",\",\"\").astype(float)\n",
    "FirstCOPWL[\"> 13 - 26 weeks\"] = FirstCOPWL[\"> 13 - 26 weeks\"].str.replace(\",\",\"\").astype(float)\n",
    "FirstCOPWL[\"> 26 weeks\"] = FirstCOPWL[\"> 26 weeks\"].str.replace(\",\",\"\").astype(float)\n"
   ]
  },
  {
   "cell_type": "code",
   "execution_count": null,
   "metadata": {},
   "outputs": [],
   "source": [
    "ICATSWL=pd.read_csv(r\"https://www.health-ni.gov.uk/sites/default/files/publications/health/hs-niwts-tables-icats-q2-19-20.csv\")\n",
    "ICATSWLA=ICATSWL.drop_duplicates();ICATSWL=ICATSWLA.drop([689,691,692,693,694]);ICATSWL=ICATSWL.dropna(axis='columns');ICATSWL=ICATSWL.fillna(0)\n",
    "ICATSWL.replace(\"--\", 0, inplace=True)\n",
    "ICATSWL['Quarter Ending']=pd.to_datetime(ICATSWL['Quarter Ending'])\n",
    "#Remove footer data\n",
    "\n",
    "DayCaseIPWL=pd.read_csv(r\"https://www.health-ni.gov.uk/sites/default/files/publications/health/hs-niwts-tables-day-cases-q2-19-20.csv\")\n",
    "#Remove footer data\n",
    "DayCaseIPWL=DayCaseIPWL.drop([4399,4400,4401,4402,4403,4404,4405,4406,4407,4408,4409,4410,4411,4412]);DayCaseIPWL.drop(DayCaseIPWL.columns[DayCaseIPWL.columns.str.contains('unnamed',case = False)],axis = 1, inplace = True);DayCaseIPWL.replace(\"--\", 0, inplace=True);DayCaseIPWL.fillna(0)\n",
    "#TotalIPWL.drop(TotalIPWL.columns[TotalIPWL.columns.str.contains('unnamed',case = False)],axis = 1, inplace = True)\n",
    "#DayCaseIPWL['Quarter Ending']=pd.to_datetime(DayCaseIPWL['Quarter Ending'])\n",
    "\n",
    "AdminIPWL=pd.read_csv(r\"https://www.health-ni.gov.uk/sites/default/files/publications/health/hs-niwts-tables-inpatients-q2-19-20.csv\")\n",
    "#Remove footer data\n",
    "AdminIPWL=AdminIPWL.drop([2994,2995,2996,2997,2998,2999,3000,3001,3002,3003,3004,3005]);AdminIPWL=AdminIPWL.dropna(axis='columns');AdminIPWL=AdminIPWL.fillna(0);AdminIPWL.drop(AdminIPWL.columns[AdminIPWL.columns.str.contains('unnamed',case = False)],axis = 1, inplace = True)\n",
    "#AdminIPWL['Quarter Ending']=pd.to_datetime(AdminIPWL['Quarter Ending'])\n",
    "AdminIPWL[\"0 - 6 weeks\"] = AdminIPWL[\"Total\"].str.replace(\",\",\"\").astype(int);AdminIPWL[\"> 6 - 13 weeks\"] = AdminIPWL[\"> 6 - 13 weeks\"].str.replace(\",\",\"\").astype(int);AdminIPWL[\"> 13 - 21 weeks\"] = AdminIPWL[\"> 13 - 21 weeks\"].str.replace(\",\",\"\").astype(int);AdminIPWL[\"> 21 - 26 weeks\"] = AdminIPWL[\"> 21 - 26 weeks\"].str.replace(\",\",\"\").astype(int);AdminIPWL[\"Total\"] = AdminIPWL[\"Total\"].str.replace(\",\",\"\").astype(int)\n",
    "\n",
    "TotalIPWL=pd.read_csv(r\"https://www.health-ni.gov.uk/sites/default/files/publications/health/hs-niwts-tables-total-waiting-q2-19-20.csv\");TotalIPWL=TotalIPWL.drop([4550,4551,4552,4553,4554,4555,4556,4557,4558,4559,4560,4561]);TotalIPWL=TotalIPWL.fillna(0);TotalIPWL.drop(TotalIPWL.columns[TotalIPWL.columns.str.contains('unnamed',case = False)],axis = 1, inplace = True);TotalIPWL[\"Total\"] = TotalIPWL[\"Total\"].str.replace(\",\",\"\").astype(int)\n",
    "print(\"All In and Out Patient Data Imported\")"
   ]
  },
  {
   "cell_type": "code",
   "execution_count": null,
   "metadata": {},
   "outputs": [],
   "source": [
    "#DayCaseIPWL['Quarter Ending']=pd.to_datetime(DayCaseIPWL['Quarter Ending'])\n",
    "DayCaseIPWL.head()\n",
    "#TotalIPWL['Quarter Ending']=pd.to_datetime(TotalIPWL['Quarter Ending'])\n",
    "TotalIPWL.tail()"
   ]
  },
  {
   "cell_type": "code",
   "execution_count": null,
   "metadata": {},
   "outputs": [],
   "source": [
    "TotalIPWL.groupby(\"Specialty\").means()"
   ]
  },
  {
   "cell_type": "markdown",
   "metadata": {},
   "source": [
    "## Clean the Cancer Waiting Lists"
   ]
  },
  {
   "cell_type": "code",
   "execution_count": null,
   "metadata": {},
   "outputs": [],
   "source": [
    "HSCT31DCWT=pd.read_csv(r\"https://www.health-ni.gov.uk/sites/default/files/publications/health/hs-niwts-cwt-31-day-wait-by-trust-q1-19-20.csv\")\n",
    "HSCT31DCWT=HSCT31DCWT.dropna(axis='columns')\n",
    "new=HSCT31DCWT[\"Treatment Month\"].str.split(\"-\", n = 1, expand = True) \n",
    "HSCT31DCWT[\"Treatment_Month\"]= new[0] ;HSCT31DCWT[\"Treatment Year\"]= '20' + new[1]\n",
    "HSCT31DCWT.drop(columns =[\"Treatment Month\"], inplace = True) \n",
    "HSCT31DCWT = HSCT31DCWT[['Treatment_Month', 'Treatment Year', 'HSC Trust', '% treated within 31 days']]\n",
    "\n",
    "\n",
    "HSCT62DCWT=pd.read_csv(r\"https://www.health-ni.gov.uk/sites/default/files/publications/health/hs-niwts-cwt-62-day-wait-by-trust-q1-19-20.csv\")\n",
    "#remove NA columns\n",
    "HSCT62DCWT=HSCT62DCWT.dropna(axis='columns')\n",
    "new=HSCT62DCWT[\"Treatment Month\"].str.split(\"-\", n = 1, expand = True) \n",
    "HSCT62DCWT[\"Treatment_Month\"]= new[0] \n",
    "HSCT62DCWT[\"Treatment Year\"]= '20' + new[1]\n",
    "HSCT62DCWT.drop(columns =[\"Treatment Month\"], inplace = True) \n",
    "HSCT62DCWT = HSCT62DCWT[['Treatment_Month', 'Treatment Year', 'HSC Trust', '% treated within 62 days']]\n",
    "\n",
    "\n",
    "TS31DCWT=pd.read_csv(r\"https://www.health-ni.gov.uk/sites/default/files/publications/health/hs-niwts-cwt-31-day-wait-by-tumour-q1-19-20.csv\")  \n",
    "TS31DCWT.drop(TS31DCWT.columns[TS31DCWT.columns.str.contains('unnamed',case = False)],axis = 1, inplace = True)\n",
    "TS31DCWT.replace(\"--\", \n",
    "           0, \n",
    "           inplace=True)\n",
    "TS31DCWT.replace(\"-\", \n",
    "           0.0, \n",
    "           inplace=True)\n",
    "#TS31DCWT=TS31DCWT.dropna(axis='columns')\n",
    "new=TS31DCWT[\"Treatment Month\"].str.split(\"-\", n = 1, expand = True) \n",
    "TS31DCWT[\"Treatment_Month\"]= new[0] \n",
    "TS31DCWT[\"Treatment Year\"]= '20' + new[1]\n",
    "TS31DCWT.drop(columns =[\"Treatment Month\"], inplace = True) \n",
    "TS31DCWT= TS31DCWT[['Treatment_Month', 'Treatment Year', 'Tumour Site', '% treated within 31 days']]\n",
    "\n",
    "TS62DCWT=pd.read_csv(r\"https://www.health-ni.gov.uk/sites/default/files/publications/health/hs-niwts-cwt-62-day-wait-by-tumour-q1-19-20.csv\")\n",
    "TS62DCWT.drop(TS62DCWT.columns[TS62DCWT.columns.str.contains('unnamed',case = False)],axis = 1, inplace = True)\n",
    "TS62DCWT.replace(\"--\", \n",
    "           0, \n",
    "           inplace=True)\n",
    "TS62DCWT.replace(\"-\", \n",
    "           0, \n",
    "           inplace=True)\n",
    "new=TS62DCWT[\"Treatment Month\"].str.split(\"-\", n = 1, expand = True) \n",
    "TS62DCWT[\"Treatment_Month\"]= new[0] \n",
    "TS62DCWT[\"Treatment Year\"]= '20' + new[1]\n",
    "TS62DCWT.drop(columns =[\"Treatment Month\"], inplace = True) \n",
    "TS62DCWT= TS62DCWT[['Treatment_Month', 'Treatment Year', 'Tumour Site', '% treated within 62 days']]\n",
    "#TS62DCWT=TS62DCWT.dropna(axis='columns')\n",
    "\n",
    "\n",
    "CWT14D=pd.read_csv(r\"https://www.health-ni.gov.uk/sites/default/files/publications/health/hs-niwts-cwt-14-day-wait-q1-19-20.csv\")\n",
    "CWT14D=CWT14D.dropna(axis='columns')\n",
    "new2=CWT14D[\"Month Seen\"].str.split(\"-\", n = 1, expand = True) \n",
    "CWT14D[\"Month_Seen\"]= new[0] \n",
    "CWT14D[\"Year Seen\"]= '20' + new[1]\n",
    "CWT14D.drop(columns =[\"Month Seen\"], inplace = True) \n",
    "CWT14D = CWT14D[['Month_Seen', 'Year Seen', 'HSC Trust', '% seen within 14 days']]\n",
    "\n",
    "\n",
    "print(\"All Cancer Data Imported\")"
   ]
  },
  {
   "cell_type": "code",
   "execution_count": null,
   "metadata": {},
   "outputs": [],
   "source": [
    "HSCT31DCWT.head()\n",
    "test=HSCT31DCWT.groupby([\"HSC Trust\"]).mean()\n",
    "test.plot.bar()\n",
    "\n",
    "\n",
    "#TwentySixtoMax = DayCaseIPWL['> 26-30 weeks'] + DayCaseIPWL['>26-52 weeks'] + DayCaseIPWL['>30-36 weeks'] + DayCaseIPWL['> 26 - 36 weeks']\n",
    "#Max=DayCaseIPWL['> 26 weeks'] + DayCaseIPWL['>52 weeks'] + DayCaseIPWL['> 36 weeks'] \n",
    "\n",
    "\n",
    "#DayCaseIPWL['Max'] = DayCaseIPWL.loc[:,'> 26 weeks'].add(DayCaseIPWL.loc[:,'> 36 weeks'])\n",
    "#DayCaseIPWL['Max'] = DayCaseIPWL.loc[:,['> 26 weeks','> 36 weeks','>52 weeks']].sum(axis=1)\n",
    "#DayCaseIPWL['Max']  = DayCaseIPWL.apply(lambda x: x['> 26 weeks'] +x['> 36 weeks'], axis=1)\n",
    "#DayCaseIPWL.describe()\n",
    "#df.loc[:,'> 26-30 weeks'] = df.loc[:,'> 26-30 weeks'] = df.loc[:,'budget'].add(df.loc[:,'actual'])\n",
    "#DayCaseIPWL=DayCaseIPWL.dropna(axis='columns')\n",
    "#DayCaseIPWL=DayCaseIPWL.dropna(axis='columns')\n",
    "#new3=DayCaseIPWL[\"Quarter Ending\"].str.split(\"-\", n = 1, expand = True) \n",
    "#DayCaseIPWL[\"QE Day\"]= new2[0] \n",
    "#DayCaseIPWL[\"QE Month\"]= new2[1]\n",
    "#DayCaseIPWL[\"QE Year\"]= new2[2]\n",
    "#DayCaseIPWL.drop(columns =[\"Quarter Ending\"], inplace = True) \n",
    "#DayCaseIPWL = DayCaseIPWL[['QE Month','QE Year', 'HSC Trust','Specialty','Programme of Care','0 - 6 weeks','6 - 13 weeks','> 13 - 21 weeks','> 21 - 26 weeks','Total']]\n"
   ]
  },
  {
   "cell_type": "code",
   "execution_count": null,
   "metadata": {},
   "outputs": [],
   "source": [
    "new2=TS62DCWT[['Tumour Site', '% treated within 62 days']]\n",
    "new2[pd.to_numeric(new2['% treated within 62 days'], errors='coerce').notnull()]\n",
    "new2\n",
    "C=new2.groupby(['Tumour Site'])\n",
    "\n"
   ]
  },
  {
   "cell_type": "markdown",
   "metadata": {},
   "source": [
    "## Graphical Experiments"
   ]
  },
  {
   "cell_type": "code",
   "execution_count": null,
   "metadata": {},
   "outputs": [],
   "source": [
    "new2=TS62DCWT[['Tumour Site', '% treated within 62 days']]\n",
    "new2[pd.to_numeric(new2['% treated within 62 days'], errors='coerce').notnull()]\n",
    "new2\n",
    "C=new2.groupby(['Tumour Site'])\n",
    "\n"
   ]
  },
  {
   "cell_type": "code",
   "execution_count": null,
   "metadata": {},
   "outputs": [],
   "source": [
    "TS31DCWT=pd.read_csv(r\"https://www.health-ni.gov.uk/sites/default/files/publications/health/hs-niwts-cwt-31-day-wait-by-tumour-q1-19-20.csv\")  \n",
    "TS31DCWT.drop(TS31DCWT.columns[TS31DCWT.columns.str.contains('unnamed',case = False)],axis = 1, inplace = True)\n",
    "TS31DCWT.replace(\"--\", \n",
    "           0, \n",
    "           inplace=True)\n",
    "TS31DCWT.replace(\"-\", \n",
    "           0.0, \n",
    "           inplace=True)\n",
    "#TS31DCWT=TS31DCWT.dropna(axis='columns')\n",
    "new=TS31DCWT[\"Treatment Month\"].str.split(\"-\", n = 1, expand = True) \n",
    "TS31DCWT[\"Treatment_Month\"]= new[0] \n",
    "TS31DCWT[\"Treatment Year\"]= '20' + new[1]\n",
    "TS31DCWT.drop(columns =[\"Treatment Month\"], inplace = True) \n",
    "TS31DCWT= TS31DCWT[['Treatment_Month', 'Treatment Year', 'Tumour Site', '% treated within 31 days']]\n",
    "#A=TS31DCWT.groupby(['% treated within 31 days'])\n",
    "#A.describe()\n",
    "A=TS31DCWT.groupby(['Tumour Site'])\n",
    "A.head()\n"
   ]
  },
  {
   "cell_type": "code",
   "execution_count": null,
   "metadata": {},
   "outputs": [],
   "source": [
    "#CANCER WAITING TIMES\n",
    "A=HSCT31DCWT.groupby(['HSC Trust']).mean()\n",
    "B=HSCT62DCWT.groupby(['HSC Trust']).mean()\n",
    "C=CWT14D.groupby(['HSC Trust']).mean()\n",
    "#A.plot.bar()\n",
    "#B.plot.bar()\n",
    "join = pd.concat([C,A,B], axis=1, join='inner')\n",
    "join.plot.barh()\n",
    "print(\"Graphs of the Cancer waiting times by Trust\")"
   ]
  },
  {
   "cell_type": "code",
   "execution_count": null,
   "metadata": {},
   "outputs": [],
   "source": [
    "#CANCER WAITING TIMES\n",
    "#df.month = pd.to_datetime(df.month, unit='s')\n",
    "#['Treatment Month']\n",
    "A=HSCT31DCWT.groupby(['Treatment Year']).mean()\n",
    "B=HSCT62DCWT.groupby(['Treatment Year']).mean()\n",
    "C=CWT14D.groupby(['Year Seen']).mean()\n",
    "D = pd.concat([C,A,B], axis=1, join='inner')\n",
    "D.plot.line()\n",
    "print(\"Graphs of the Cancer waiting times by Treatment Time\")\n",
    "\n",
    "\n",
    "\n",
    "#plt.zlabel('14 days')"
   ]
  },
  {
   "cell_type": "code",
   "execution_count": null,
   "metadata": {},
   "outputs": [],
   "source": [
    "\n",
    "plt.figure(figsize=(8,5))\n",
    "x_data, y_data = (HSCT62DCWT[\"% treated within 62 days\"].values, HSCT31DCWT[\"% treated within 31 days\"].values)\n",
    "plt.plot(x_data, y_data,'ro')\n",
    "plt.ylabel('62 days')\n",
    "plt.xlabel('31 days')\n",
    "plt.show()\n",
    "\n",
    "\n",
    "plt.figure(figsize=(8,5))\n",
    "x_data, y_data = (HSCT31DCWT[\"% treated within 31 days\"].values, CWT14D['% seen within 14 days'].values)\n",
    "plt.plot(x_data, y_data, 'go')\n",
    "plt.ylabel('62 days')\n",
    "plt.xlabel('14 days')\n",
    "plt.show()\n",
    "\n",
    "\n",
    "plt.figure(figsize=(8,5))\n",
    "x_data, y_data = (HSCT62DCWT[\"% treated within 62 days\"].values, CWT14D['% seen within 14 days'].values)\n",
    "plt.plot(x_data, y_data, 'bo')\n",
    "plt.ylabel('62 days')\n",
    "plt.xlabel('14 days')\n",
    "plt.show()\n",
    "\n",
    "#sns.regplot(x='x_data', y='y_data', data=df)"
   ]
  },
  {
   "cell_type": "code",
   "execution_count": null,
   "metadata": {},
   "outputs": [],
   "source": [
    "HSCT31DCWT.info()\n",
    "HSCT62DCWT.info()"
   ]
  },
  {
   "cell_type": "code",
   "execution_count": null,
   "metadata": {},
   "outputs": [],
   "source": [
    "from pandas import DataFrame\n",
    "import matplotlib.pyplot as plt\n",
    "from sklearn.cluster import KMeans\n",
    "\n",
    "n_clusters=3\n",
    "#Data =x_data, y_data = (HSCT31DCWT[\"% treated within 31 days\"].values, CWT14D['% seen within 14 days'].values)\n",
    "#x_data, y_data = (HSCT62DCWT[\"% treated within 62 days\"].values, HSCT31DCWT[\"% treated within 31 days\"].values)\n",
    "\n",
    "\n",
    "Data = {'x': HSCT31DCWT[\"% treated within 31 days\"].values,\n",
    "        'y': HSCT62DCWT[\"% treated within 62 days\"].values,\n",
    "        'z': CWT14D['% seen within 14 days']\n",
    "       }\n",
    "  \n",
    "df = DataFrame(Data,columns=['x','y'])\n",
    "\n",
    "df1 = DataFrame(Data,columns=['x','z'])\n",
    "df2 = DataFrame(Data,columns=['y','z'])\n",
    "  \n",
    "kmeans = KMeans(n_clusters).fit(df)\n",
    "centroids = kmeans.cluster_centers_\n",
    "print(centroids)\n",
    "\n",
    "plt.scatter(df['x'], df['y'], c= kmeans.labels_.astype(float), s=50, alpha=0.5)\n",
    "plt.scatter(centroids[:, 0], centroids[:, 1], c='green', s=50)\n",
    "plt.show()\n",
    "\n",
    "  \n",
    "kmeans = KMeans(n_clusters).fit(df1)\n",
    "centroids = kmeans.cluster_centers_\n",
    "print(centroids)\n",
    "\n",
    "plt.scatter(df1['x'], df1['z'], c= kmeans.labels_.astype(float), s=50, alpha=0.5)\n",
    "plt.scatter(centroids[:, 0], centroids[:, 1], c='blue', s=50)\n",
    "plt.show()\n",
    "\n",
    "kmeans = KMeans(n_clusters).fit(df2)\n",
    "centroids = kmeans.cluster_centers_\n",
    "print(centroids)\n",
    "\n",
    "plt.scatter(df2['y'], df2['z'], c= kmeans.labels_.astype(float), s=50, alpha=0.5)\n",
    "plt.scatter(centroids[:, 0], centroids[:, 1], c='red', s=50)\n",
    "plt.show()\n"
   ]
  },
  {
   "cell_type": "code",
   "execution_count": null,
   "metadata": {},
   "outputs": [],
   "source": [
    "pip install sklearn"
   ]
  },
  {
   "cell_type": "code",
   "execution_count": null,
   "metadata": {},
   "outputs": [],
   "source": []
  },
  {
   "cell_type": "code",
   "execution_count": null,
   "metadata": {},
   "outputs": [],
   "source": [
    "from sklearn.linear_model import LinearRegression\n",
    "lm = LinearRegression()\n",
    "lm"
   ]
  },
  {
   "cell_type": "code",
   "execution_count": null,
   "metadata": {},
   "outputs": [],
   "source": [
    "#X=HSCT62DCWT[\"% treated within 62 days\"]\n",
    "#Y=CWT14D['% seen within 14 days\"]\n",
    "#lm.fit(X,Y)"
   ]
  },
  {
   "cell_type": "code",
   "execution_count": null,
   "metadata": {},
   "outputs": [],
   "source": [
    "#HSCT31DCWT=pd.read_csv(r\"https://www.health-ni.gov.uk/sites/default/files/publications/health/hs-niwts-cwt-31-day-wait-by-trust-q1-19-20.csv\")\n",
    "#HSCT31DCWT=HSCT31DCWT.dropna(axis='columns')\n",
    "#new=HSCT31DCWT[\"Treatment Month\"].str.split(\"-\", n = 1, expand = True) \n",
    "#HSCT31DCWT[\"Treatment_Month\"]= new[0] \n",
    "#HSCT31DCWT[\"Treatment Year\"]= '20' + new[1]\n",
    "#HSCT31DCWT.drop(columns =[\"Treatment Month\"], inplace = True) \n",
    "#HSCT31DCWT = HSCT31DCWT[['Treatment_Month', 'Treatment Year', 'HSC Trust', '% treated within 31 days']]\n",
    "\n",
    "E=HSCT31DCWT.groupby(['Treatment Year']).mean()\n",
    "#E.plot.line()\n",
    "F=HSCT31DCWT.groupby(['HSC Trust']).mean()\n",
    "#F.plot.bar()\n",
    "G=HSCT62DCWT.groupby(['Treatment Year']).mean()\n",
    "#G.plot.line()\n",
    "H=HSCT62DCWT.groupby(['HSC Trust']).mean()\n",
    "#H.plot.bar()\n",
    "\n",
    "J = pd.concat([E,G], axis=1, join='inner')\n",
    "J.plot.line()\n",
    "\n",
    "K = pd.concat([F,H], axis=1, join='inner')\n",
    "K.plot.bar()\n",
    "\n"
   ]
  },
  {
   "cell_type": "code",
   "execution_count": null,
   "metadata": {
    "scrolled": true
   },
   "outputs": [],
   "source": [
    "pip install folium"
   ]
  },
  {
   "cell_type": "code",
   "execution_count": null,
   "metadata": {},
   "outputs": [],
   "source": [
    "import numpy as np \n",
    "import pandas as pd\n",
    "from sklearn.tree import DecisionTreeClassifier\n",
    "\n",
    "\n",
    "# now, read data using pandas dataframe:    \n",
    "my_data = DiagnosticRTT\n",
    "my_data[0:5]\n",
    "\n",
    "# Remove the column containing the target name since it doesn't contain numeric values.\n",
    "X = my_data[['% reported within 2 days','% reported within 2 weeks','% reported within 4 weeks','>28 days\\t']].values\n",
    "X[0:5]\n",
    "\n",
    "# As you may figure out, some features in this dataset are categorical such as Sex or BP.\n",
    "from sklearn import preprocessing\n",
    "#le_Pri = preprocessing.LabelEncoder()\n",
    "#le_Pri.fit(['ROUTINE','URGENT'])\n",
    "#X[:,1] = le_Pri.transform(X[:,1]) \n",
    "\n",
    "\n",
    "#le_BP = preprocessing.LabelEncoder()\n",
    "#le_BP.fit([ 'LOW', 'NORMAL', 'HIGH'])\n",
    "#X[:,2] = le_BP.transform(X[:,2])\n",
    "\n",
    "\n",
    "#le_Chol = preprocessing.LabelEncoder()\n",
    "#le_Chol.fit([ 'NORMAL', 'HIGH'])\n",
    "#X[:,3] = le_Chol.transform(X[:,3]) \n",
    "\n",
    "#X[0:5]\n",
    "\n",
    "# Now we can fill the target variable.\n",
    "y = my_data[\"HSC Trust\"]\n",
    "y[0:5]\n",
    "\n",
    "# Setting up the Decision Tree\n",
    "# We will be using train/test split on our decision tree. \n",
    "# Let's import train_test_split from sklearn.cross_validation.\n",
    "\n",
    "from sklearn.model_selection import train_test_split\n",
    "\n",
    "X_trainset, X_testset, y_trainset, y_testset = train_test_split(X, y, test_size=0.3, random_state=3)\n",
    "\n",
    "# Modeling\n",
    "# We will first create an instance of the DecisionTreeClassifier called drugTree.\n",
    "# Inside of the classifier, specify criterion=\"entropy\" so we can see the information gain of each node.\n",
    "\n",
    "trustTree = DecisionTreeClassifier(criterion=\"entropy\", max_depth = 4)\n",
    "trustTree # it shows the default parameters\n",
    "\n",
    "# Next, we will fit the data with the training feature matrix X_trainset and training response vector y_trainset\n",
    "trustTree.fit(X_trainset,y_trainset)\n",
    "\n",
    "# Prediction\n",
    "# Let's make some predictions on the testing dataset and store it into a variable called predTree.\n",
    "\n",
    "predTree = trustTree.predict(X_testset)\n",
    "\n",
    "# You can print out predTree and y_testset if you want to visually compare the prediction to the actual values.\n",
    "\n",
    "print (predTree [0:5])\n",
    "print (y_testset [0:5])\n",
    "\n",
    "# Evaluation\n",
    "# Next, let's import metrics from sklearn and check the accuracy of our model.\n",
    "\n",
    "from sklearn import metrics\n",
    "import matplotlib.pyplot as plt\n",
    "print(\"DecisionTrees's Accuracy: \", metrics.accuracy_score(y_testset, predTree))"
   ]
  },
  {
   "cell_type": "code",
   "execution_count": null,
   "metadata": {},
   "outputs": [],
   "source": [
    "#import folium\n",
    "#TrustMap = folium.Map(location=[54.6, -7.7], tiles = \"Stamen Terrain\", zoom_start=8.45)\n",
    "#TrustMap"
   ]
  },
  {
   "cell_type": "code",
   "execution_count": null,
   "metadata": {},
   "outputs": [],
   "source": [
    "#import geopandas as gpd\n",
    "#import matplotlib.pyplot as plt"
   ]
  }
 ],
 "metadata": {
  "kernelspec": {
   "display_name": "Python 3",
   "language": "python",
   "name": "python3"
  },
  "language_info": {
   "codemirror_mode": {
    "name": "ipython",
    "version": 3
   },
   "file_extension": ".py",
   "mimetype": "text/x-python",
   "name": "python",
   "nbconvert_exporter": "python",
   "pygments_lexer": "ipython3",
   "version": "3.7.6"
  }
 },
 "nbformat": 4,
 "nbformat_minor": 4
}
