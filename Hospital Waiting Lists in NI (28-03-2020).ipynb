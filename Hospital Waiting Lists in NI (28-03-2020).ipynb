{
 "cells": [
  {
   "cell_type": "markdown",
   "metadata": {},
   "source": [
    "# Capstone Project - The Battle of Neighborhoods\n",
    "\n",
    "## Preampble\n",
    "\n",
    "\n"
   ]
  },
  {
   "cell_type": "markdown",
   "metadata": {},
   "source": [
    "#### Initial Directories"
   ]
  },
  {
   "cell_type": "code",
   "execution_count": null,
   "metadata": {},
   "outputs": [],
   "source": []
  },
  {
   "cell_type": "code",
   "execution_count": 1,
   "metadata": {},
   "outputs": [
    {
     "name": "stdout",
     "output_type": "stream",
     "text": [
      "Requirement already satisfied: geojsonio in c:\\users\\pat\\anaconda3\\lib\\site-packages (0.0.3)\n",
      "Requirement already satisfied: github3.py in c:\\users\\pat\\anaconda3\\lib\\site-packages (from geojsonio) (1.3.0)\n",
      "Requirement already satisfied: six in c:\\users\\pat\\anaconda3\\lib\\site-packages (from geojsonio) (1.14.0)\n",
      "Requirement already satisfied: uritemplate>=3.0.0 in c:\\users\\pat\\anaconda3\\lib\\site-packages (from github3.py->geojsonio) (3.0.1)\n",
      "Requirement already satisfied: jwcrypto>=0.5.0 in c:\\users\\pat\\anaconda3\\lib\\site-packages (from github3.py->geojsonio) (0.7)\n",
      "Requirement already satisfied: requests>=2.18 in c:\\users\\pat\\anaconda3\\lib\\site-packages (from github3.py->geojsonio) (2.22.0)\n",
      "Requirement already satisfied: python-dateutil>=2.6.0 in c:\\users\\pat\\anaconda3\\lib\\site-packages (from github3.py->geojsonio) (2.8.1)\n",
      "Requirement already satisfied: cryptography>=1.5 in c:\\users\\pat\\anaconda3\\lib\\site-packages (from jwcrypto>=0.5.0->github3.py->geojsonio) (2.8)\n",
      "Requirement already satisfied: chardet<3.1.0,>=3.0.2 in c:\\users\\pat\\anaconda3\\lib\\site-packages (from requests>=2.18->github3.py->geojsonio) (3.0.4)\n",
      "Requirement already satisfied: idna<2.9,>=2.5 in c:\\users\\pat\\anaconda3\\lib\\site-packages (from requests>=2.18->github3.py->geojsonio) (2.8)\n",
      "Requirement already satisfied: certifi>=2017.4.17 in c:\\users\\pat\\anaconda3\\lib\\site-packages (from requests>=2.18->github3.py->geojsonio) (2019.11.28)\n",
      "Requirement already satisfied: urllib3!=1.25.0,!=1.25.1,<1.26,>=1.21.1 in c:\\users\\pat\\anaconda3\\lib\\site-packages (from requests>=2.18->github3.py->geojsonio) (1.25.8)\n",
      "Requirement already satisfied: cffi!=1.11.3,>=1.8 in c:\\users\\pat\\anaconda3\\lib\\site-packages (from cryptography>=1.5->jwcrypto>=0.5.0->github3.py->geojsonio) (1.14.0)\n",
      "Requirement already satisfied: pycparser in c:\\users\\pat\\anaconda3\\lib\\site-packages (from cffi!=1.11.3,>=1.8->cryptography>=1.5->jwcrypto>=0.5.0->github3.py->geojsonio) (2.19)\n",
      "Note: you may need to restart the kernel to use updated packages.\n"
     ]
    }
   ],
   "source": [
    "pip install geojsonio"
   ]
  },
  {
   "cell_type": "code",
   "execution_count": 2,
   "metadata": {},
   "outputs": [
    {
     "name": "stdout",
     "output_type": "stream",
     "text": [
      "Requirement already satisfied: shapely in c:\\users\\pat\\anaconda3\\lib\\site-packages (1.7.0)\n",
      "Note: you may need to restart the kernel to use updated packages.\n"
     ]
    }
   ],
   "source": [
    "pip install shapely"
   ]
  },
  {
   "cell_type": "code",
   "execution_count": 3,
   "metadata": {},
   "outputs": [
    {
     "name": "stdout",
     "output_type": "stream",
     "text": [
      "Requirement already satisfied: folium in c:\\users\\pat\\anaconda3\\lib\\site-packages (0.10.1)\n",
      "Requirement already satisfied: branca>=0.3.0 in c:\\users\\pat\\anaconda3\\lib\\site-packages (from folium) (0.4.0)\n",
      "Requirement already satisfied: requests in c:\\users\\pat\\anaconda3\\lib\\site-packages (from folium) (2.22.0)\n",
      "Requirement already satisfied: jinja2>=2.9 in c:\\users\\pat\\anaconda3\\lib\\site-packages (from folium) (2.11.1)\n",
      "Requirement already satisfied: numpy in c:\\users\\pat\\anaconda3\\lib\\site-packages (from folium) (1.18.1)\n",
      "Requirement already satisfied: six in c:\\users\\pat\\anaconda3\\lib\\site-packages (from branca>=0.3.0->folium) (1.14.0)\n",
      "Requirement already satisfied: certifi>=2017.4.17 in c:\\users\\pat\\anaconda3\\lib\\site-packages (from requests->folium) (2019.11.28)\n",
      "Requirement already satisfied: urllib3!=1.25.0,!=1.25.1,<1.26,>=1.21.1 in c:\\users\\pat\\anaconda3\\lib\\site-packages (from requests->folium) (1.25.8)\n",
      "Requirement already satisfied: chardet<3.1.0,>=3.0.2 in c:\\users\\pat\\anaconda3\\lib\\site-packages (from requests->folium) (3.0.4)\n",
      "Requirement already satisfied: idna<2.9,>=2.5 in c:\\users\\pat\\anaconda3\\lib\\site-packages (from requests->folium) (2.8)\n",
      "Requirement already satisfied: MarkupSafe>=0.23 in c:\\users\\pat\\anaconda3\\lib\\site-packages (from jinja2>=2.9->folium) (1.1.1)\n",
      "Note: you may need to restart the kernel to use updated packages.\n"
     ]
    }
   ],
   "source": [
    "pip install folium"
   ]
  },
  {
   "cell_type": "code",
   "execution_count": 12,
   "metadata": {},
   "outputs": [],
   "source": [
    "#pip install geopandas"
   ]
  },
  {
   "cell_type": "code",
   "execution_count": 5,
   "metadata": {},
   "outputs": [
    {
     "name": "stdout",
     "output_type": "stream",
     "text": [
      "Requirement already satisfied: IPython in c:\\users\\pat\\anaconda3\\lib\\site-packages (7.12.0)\n",
      "Requirement already satisfied: jedi>=0.10 in c:\\users\\pat\\anaconda3\\lib\\site-packages (from IPython) (0.14.1)\n",
      "Requirement already satisfied: pygments in c:\\users\\pat\\anaconda3\\lib\\site-packages (from IPython) (2.5.2)\n",
      "Requirement already satisfied: traitlets>=4.2 in c:\\users\\pat\\anaconda3\\lib\\site-packages (from IPython) (4.3.3)\n",
      "Requirement already satisfied: colorama; sys_platform == \"win32\" in c:\\users\\pat\\anaconda3\\lib\\site-packages (from IPython) (0.4.3)\n",
      "Requirement already satisfied: backcall in c:\\users\\pat\\anaconda3\\lib\\site-packages (from IPython) (0.1.0)\n",
      "Requirement already satisfied: prompt-toolkit!=3.0.0,!=3.0.1,<3.1.0,>=2.0.0 in c:\\users\\pat\\anaconda3\\lib\\site-packages (from IPython) (3.0.3)\n",
      "Requirement already satisfied: setuptools>=18.5 in c:\\users\\pat\\anaconda3\\lib\\site-packages (from IPython) (45.2.0.post20200210)\n",
      "Requirement already satisfied: decorator in c:\\users\\pat\\anaconda3\\lib\\site-packages (from IPython) (4.4.1)\n",
      "Requirement already satisfied: pickleshare in c:\\users\\pat\\anaconda3\\lib\\site-packages (from IPython) (0.7.5)\n",
      "Requirement already satisfied: parso>=0.5.0 in c:\\users\\pat\\anaconda3\\lib\\site-packages (from jedi>=0.10->IPython) (0.5.2)\n",
      "Requirement already satisfied: ipython-genutils in c:\\users\\pat\\anaconda3\\lib\\site-packages (from traitlets>=4.2->IPython) (0.2.0)\n",
      "Requirement already satisfied: six in c:\\users\\pat\\anaconda3\\lib\\site-packages (from traitlets>=4.2->IPython) (1.14.0)\n",
      "Requirement already satisfied: wcwidth in c:\\users\\pat\\anaconda3\\lib\\site-packages (from prompt-toolkit!=3.0.0,!=3.0.1,<3.1.0,>=2.0.0->IPython) (0.1.8)\n",
      "Note: you may need to restart the kernel to use updated packages.\n"
     ]
    }
   ],
   "source": [
    "pip install IPython"
   ]
  },
  {
   "cell_type": "code",
   "execution_count": 6,
   "metadata": {},
   "outputs": [
    {
     "name": "stdout",
     "output_type": "stream",
     "text": [
      "Requirement already satisfied: foursquare in c:\\users\\pat\\anaconda3\\lib\\site-packages (1!2020.1.30)\n",
      "Requirement already satisfied: six in c:\\users\\pat\\anaconda3\\lib\\site-packages (from foursquare) (1.14.0)\n",
      "Requirement already satisfied: requests>=2.1 in c:\\users\\pat\\anaconda3\\lib\\site-packages (from foursquare) (2.22.0)\n",
      "Requirement already satisfied: chardet<3.1.0,>=3.0.2 in c:\\users\\pat\\anaconda3\\lib\\site-packages (from requests>=2.1->foursquare) (3.0.4)\n",
      "Requirement already satisfied: idna<2.9,>=2.5 in c:\\users\\pat\\anaconda3\\lib\\site-packages (from requests>=2.1->foursquare) (2.8)\n",
      "Requirement already satisfied: urllib3!=1.25.0,!=1.25.1,<1.26,>=1.21.1 in c:\\users\\pat\\anaconda3\\lib\\site-packages (from requests>=2.1->foursquare) (1.25.8)\n",
      "Requirement already satisfied: certifi>=2017.4.17 in c:\\users\\pat\\anaconda3\\lib\\site-packages (from requests>=2.1->foursquare) (2019.11.28)\n",
      "Note: you may need to restart the kernel to use updated packages.\n"
     ]
    }
   ],
   "source": [
    "pip install foursquare\n"
   ]
  },
  {
   "cell_type": "code",
   "execution_count": 7,
   "metadata": {},
   "outputs": [
    {
     "name": "stdout",
     "output_type": "stream",
     "text": [
      "Requirement already up-to-date: googlemaps in c:\\users\\pat\\anaconda3\\lib\\site-packages (4.2.0)\n",
      "Requirement already satisfied, skipping upgrade: requests<3.0,>=2.20.0 in c:\\users\\pat\\anaconda3\\lib\\site-packages (from googlemaps) (2.22.0)\n",
      "Requirement already satisfied, skipping upgrade: idna<2.9,>=2.5 in c:\\users\\pat\\anaconda3\\lib\\site-packages (from requests<3.0,>=2.20.0->googlemaps) (2.8)\n",
      "Requirement already satisfied, skipping upgrade: chardet<3.1.0,>=3.0.2 in c:\\users\\pat\\anaconda3\\lib\\site-packages (from requests<3.0,>=2.20.0->googlemaps) (3.0.4)\n",
      "Requirement already satisfied, skipping upgrade: urllib3!=1.25.0,!=1.25.1,<1.26,>=1.21.1 in c:\\users\\pat\\anaconda3\\lib\\site-packages (from requests<3.0,>=2.20.0->googlemaps) (1.25.8)\n",
      "Requirement already satisfied, skipping upgrade: certifi>=2017.4.17 in c:\\users\\pat\\anaconda3\\lib\\site-packages (from requests<3.0,>=2.20.0->googlemaps) (2019.11.28)\n",
      "Note: you may need to restart the kernel to use updated packages.\n"
     ]
    }
   ],
   "source": [
    "pip install -U googlemaps"
   ]
  },
  {
   "cell_type": "code",
   "execution_count": 8,
   "metadata": {},
   "outputs": [
    {
     "name": "stdout",
     "output_type": "stream",
     "text": [
      "Requirement already satisfied: geojson in c:\\users\\pat\\anaconda3\\lib\\site-packages (2.5.0)\n",
      "Note: you may need to restart the kernel to use updated packages.\n"
     ]
    }
   ],
   "source": [
    "pip install geojson"
   ]
  },
  {
   "cell_type": "code",
   "execution_count": 15,
   "metadata": {},
   "outputs": [
    {
     "name": "stdout",
     "output_type": "stream",
     "text": [
      "Requirement already satisfied: beautifulsoup4 in c:\\users\\pat\\anaconda3\\lib\\site-packages (4.8.2)\n",
      "Requirement already satisfied: soupsieve>=1.2 in c:\\users\\pat\\anaconda3\\lib\\site-packages (from beautifulsoup4) (1.9.5)\n",
      "Note: you may need to restart the kernel to use updated packages.\n"
     ]
    }
   ],
   "source": [
    "pip install beautifulsoup4"
   ]
  },
  {
   "cell_type": "markdown",
   "metadata": {},
   "source": [
    "## Introduction/Business Problem\n"
   ]
  },
  {
   "cell_type": "markdown",
   "metadata": {},
   "source": [
    "\n",
    "### Introduction where you discuss the business problem and who would be interested in this project.\n",
    "\n",
    "\"Would you recommend a location in Hong Kong to open a new cinema?\"\n",
    "My boss, the stakeholder wants to open a new cinema as company's new business and ask me this question.\n",
    "\n",
    "He explains that in customer point of view, watching movie is a part of whole afternoon or night activities. Cinema should has many restaurants and shopping places nearby. Transportation is also an important factor. Customer can walk to cinema within 5 minutes from public transport facilities such as bus stop and metro station.\n",
    "\n",
    "He wants me to concentrate on selection of cinema location according to its nearby environment. Cinema facility and rental price is not my concern. He lists out his top 10 favorite cinemas in Hong Kong with rating.\n",
    "\n",
    "I work with my teammates and select 5 possible locations to build the cinema. Which location should be suggested to the stakeholder?\n",
    "\n",
    "\n"
   ]
  },
  {
   "cell_type": "markdown",
   "metadata": {},
   "source": [
    "## Data\n",
    "\n",
    "where you describe the data that will be used to solve the problem and the source of the data.\n",
    "\n",
    "According to the question, I need to find following data to resolve the problem.\n",
    "\n",
    "1. Geographic coordinate of Hong Kong cinemas\n",
    "I need to compare 5 possible locations with current cinemas in Hong Kong. Therefore, I need to find a list of Hong Kong cinema and cinemas' geographic coordinates. Luckily, I can find the list and coordinates from the website https://hkmovie6.com/cinema ."
   ]
  },
  {
   "cell_type": "markdown",
   "metadata": {},
   "source": [
    "#### Import Modules"
   ]
  },
  {
   "cell_type": "code",
   "execution_count": 17,
   "metadata": {},
   "outputs": [],
   "source": [
    "import pandas as pd\n",
    "import numpy as np\n",
    "import scipy as sp\n",
    "import matplotlib.pyplot as plt\n",
    "import seaborn as sns\n",
    "import pylab as pl\n",
    "import json\n",
    "import os\n",
    "import folium\n",
    "#import geopandas as gpd\n",
    "#import earthpy as et\n",
    "import IPython\n",
    "import geojson\n",
    "import foursquare as ffs\n",
    "#import beautifulsoup4 as bs4\n",
    "#from bs4 import BeautifulSoup\n",
    "#import geopandas as gpd"
   ]
  },
  {
   "cell_type": "code",
   "execution_count": 18,
   "metadata": {},
   "outputs": [],
   "source": [
    "\n",
    "#import foursquare\n"
   ]
  },
  {
   "cell_type": "markdown",
   "metadata": {},
   "source": [
    "## Data Sources for Classification and Analysis"
   ]
  },
  {
   "cell_type": "markdown",
   "metadata": {},
   "source": [
    "Data for this exercise is extracted from https://www.opendatani.gov.uk/group/health <br>\n",
    "Emergency Care Waiting Times https://www.opendatani.gov.uk/dataset/emergency-care-waiting-times<br>\n",
    "Outpatient Waiting Times https://www.opendatani.gov.uk/dataset/outpatient-waiting-times<br>\n",
    "Inpatient Waiting Times https://www.opendatani.gov.uk/dataset/inpatient-waiting-times<br>\n",
    "Diagnostic Waiting Times https://www.opendatani.gov.uk/dataset/diagnostic-waiting-times<br>\n",
    "Cancer Waiting Times https://www.opendatani.gov.uk/dataset/cancer-waiting-times<br>\n",
    "\n",
    " Contains public sector information licensed under the Open Government Licence v3.0."
   ]
  },
  {
   "cell_type": "code",
   "execution_count": 19,
   "metadata": {},
   "outputs": [
    {
     "name": "stdout",
     "output_type": "stream",
     "text": [
      "All Data Imported\n"
     ]
    }
   ],
   "source": [
    "EmergWL = pd.read_csv(r\"https://www.health-ni.gov.uk/sites/default/files/publications/health/hs-niwts-ecwt-tables-q1-18-19.csv\")\n",
    "\n",
    "FirstCOPWL = pd.read_csv(r\"https://www.health-ni.gov.uk/sites/default/files/publications/health/hs-niwts-tables-outpatients-q2-19-20.csv\")\n",
    "\n",
    "CentralCOPWL = pd.read_csv(r\"https://www.health-ni.gov.uk/sites/default/files/publications/health/hs-niwts-tables-outpatients-centralisation-q2-19-20.csv\")\n",
    "ICATSWL=pd.read_csv(r\"https://www.health-ni.gov.uk/sites/default/files/publications/health/hs-niwts-tables-icats-q2-19-20.csv\")\n",
    "DayCaseIPWL=pd.read_csv(r\"https://www.health-ni.gov.uk/sites/default/files/publications/health/hs-niwts-tables-day-cases-q2-19-20.csv\")\n",
    "AdminIPWL=pd.read_csv(r\"https://www.health-ni.gov.uk/sites/default/files/publications/health/hs-niwts-tables-inpatients-q2-19-20.csv\")\n",
    "TotalIPWL=pd.read_csv(r\"https://www.health-ni.gov.uk/sites/default/files/publications/health/hs-niwts-tables-total-waiting-q2-19-20.csv\")\n",
    "\n",
    "DiagnosticWT=pd.read_csv(r\"https://www.health-ni.gov.uk/sites/default/files/publications/health/hs-niwts-tables-diagnostic-waiting-times-q2-19-20.csv\")\n",
    "DiagnosticRTT=pd.read_csv(r\"https://www.health-ni.gov.uk/sites/default/files/publications/health/hs-niwts-tables-diagnostic-reporting-turnaround-q2-19-20.csv\")\n",
    "\n",
    "HSCT62DCWT=pd.read_csv(r\"https://www.health-ni.gov.uk/sites/default/files/publications/health/hs-niwts-cwt-62-day-wait-by-trust-q1-19-20.csv\")\n",
    "TS62DCWT=pd.read_csv(r\"https://www.health-ni.gov.uk/sites/default/files/publications/health/hs-niwts-cwt-62-day-wait-by-tumour-q1-19-20.csv\")\n",
    "HSCT31DCWT=pd.read_csv(r\"https://www.health-ni.gov.uk/sites/default/files/publications/health/hs-niwts-cwt-31-day-wait-by-trust-q1-19-20.csv\")\n",
    "TS62DCWT=pd.read_csv(r\"https://www.health-ni.gov.uk/sites/default/files/publications/health/hs-niwts-cwt-31-day-wait-by-tumour-q1-19-20.csv\")  \n",
    "CWT14D=pd.read_csv(r\"https://www.health-ni.gov.uk/sites/default/files/publications/health/hs-niwts-cwt-14-day-wait-q1-19-20.csv\")\n",
    "TBMpath=\"https://www.opendatani.gov.uk/dataset/0b04b46c-49af-45d5-b277-91b10937a01b/resource/645f8eef-8813-47a9-bb1e-a4932ada721a/download/trustboundaries.geojson\"\n",
    "\n",
    "print(\"All Data Imported\")"
   ]
  },
  {
   "cell_type": "code",
   "execution_count": 20,
   "metadata": {},
   "outputs": [
    {
     "data": {
      "text/html": [
       "<div style=\"width:100%;\"><div style=\"position:relative;width:100%;height:0;padding-bottom:60%;\"><iframe src=\"about:blank\" style=\"position:absolute;width:100%;height:100%;left:0;top:0;border:none !important;\" data-html=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 onload=\"this.contentDocument.open();this.contentDocument.write(atob(this.getAttribute('data-html')));this.contentDocument.close();\" allowfullscreen webkitallowfullscreen mozallowfullscreen></iframe></div></div>"
      ],
      "text/plain": [
       "<folium.folium.Map at 0x1f2350cd088>"
      ]
     },
     "execution_count": 20,
     "metadata": {},
     "output_type": "execute_result"
    }
   ],
   "source": [
    "TrustMap = folium.Map(location=[54.6, -7.7], tiles = \"Stamen Terrain\", zoom_start=8.45)\n",
    "#,\n",
    "TrustMap\n"
   ]
  },
  {
   "cell_type": "code",
   "execution_count": 28,
   "metadata": {},
   "outputs": [
    {
     "ename": "ModuleNotFoundError",
     "evalue": "No module named 'geopandas'",
     "output_type": "error",
     "traceback": [
      "\u001b[1;31m---------------------------------------------------------------------------\u001b[0m",
      "\u001b[1;31mModuleNotFoundError\u001b[0m                       Traceback (most recent call last)",
      "\u001b[1;32m<ipython-input-28-44d6c8a27a00>\u001b[0m in \u001b[0;36m<module>\u001b[1;34m\u001b[0m\n\u001b[1;32m----> 1\u001b[1;33m \u001b[1;32mimport\u001b[0m \u001b[0mgeopandas\u001b[0m \u001b[1;32mas\u001b[0m \u001b[0mgpd\u001b[0m\u001b[1;33m\u001b[0m\u001b[1;33m\u001b[0m\u001b[0m\n\u001b[0m\u001b[0;32m      2\u001b[0m \u001b[1;31m#import geojsonio\u001b[0m\u001b[1;33m\u001b[0m\u001b[1;33m\u001b[0m\u001b[1;33m\u001b[0m\u001b[0m\n\u001b[0;32m      3\u001b[0m \u001b[1;31m#import pandas as pd\u001b[0m\u001b[1;33m\u001b[0m\u001b[1;33m\u001b[0m\u001b[1;33m\u001b[0m\u001b[0m\n",
      "\u001b[1;31mModuleNotFoundError\u001b[0m: No module named 'geopandas'"
     ]
    }
   ],
   "source": []
  },
  {
   "cell_type": "code",
   "execution_count": 24,
   "metadata": {},
   "outputs": [
    {
     "data": {
      "application/geo+json": {
       "geometry": {
        "coordinates": [
         54.6,
         -7.7
        ],
        "type": "Point"
       },
       "type": "Feature"
      },
      "text/plain": [
       "<IPython.display.GeoJSON object>"
      ]
     },
     "metadata": {
      "application/geo+json": {
       "expanded": false,
       "root": "root"
      }
     },
     "output_type": "display_data"
    }
   ],
   "source": [
    "from IPython.display import GeoJSON\n",
    "\n",
    "GeoJSON({\n",
    "    \"type\": \"Feature\",\n",
    "    \"geometry\": {\n",
    "        \"type\": \"Point\",\n",
    "        \"coordinates\": [54.6, -7.7]\n",
    "    }\n",
    "})\n",
    "#<iframe width=\"700\" height=\"400\" src=\"https://www.opendatani.gov.uk/dataset/department-of-health-trust-boundaries/resource/645f8eef-8813-47a9-bb1e-a4932ada721a/view/eaa70ef4-6e10-492c-a464-e6c6769b0fb8\" frameBorder=\"0\"></iframe>"
   ]
  },
  {
   "cell_type": "code",
   "execution_count": 22,
   "metadata": {},
   "outputs": [
    {
     "name": "stderr",
     "output_type": "stream",
     "text": [
      "C:\\Users\\Pat\\anaconda3\\lib\\site-packages\\IPython\\core\\formatters.py:371: FormatterWarning: application/json formatter returned invalid type <class 'tuple'> (expected (<class 'list'>, <class 'dict'>)) for object: <IPython.core.display.JSON object>\n",
      "  FormatterWarning\n"
     ]
    },
    {
     "data": {
      "text/plain": [
       "<IPython.core.display.JSON object>"
      ]
     },
     "execution_count": 22,
     "metadata": {},
     "output_type": "execute_result"
    }
   ],
   "source": [
    "IPython.display.JSON(data=None, url=None, filename=None)"
   ]
  },
  {
   "cell_type": "code",
   "execution_count": 127,
   "metadata": {},
   "outputs": [
    {
     "ename": "OSError",
     "evalue": "[Errno 22] Invalid argument: 'https://www.opendatani.gov.uk/dataset/0b04b46c-49af-45d5-b277-91b10937a01b/resource/645f8eef-8813-47a9-bb1e-a4932ada721a/download/trustboundaries.geojson'",
     "output_type": "error",
     "traceback": [
      "\u001b[1;31m---------------------------------------------------------------------------\u001b[0m",
      "\u001b[1;31mOSError\u001b[0m                                   Traceback (most recent call last)",
      "\u001b[1;32m<ipython-input-127-82539570c427>\u001b[0m in \u001b[0;36m<module>\u001b[1;34m\u001b[0m\n\u001b[0;32m      1\u001b[0m \u001b[1;32mimport\u001b[0m \u001b[0mjson\u001b[0m\u001b[1;33m\u001b[0m\u001b[1;33m\u001b[0m\u001b[0m\n\u001b[0;32m      2\u001b[0m \u001b[1;33m\u001b[0m\u001b[0m\n\u001b[1;32m----> 3\u001b[1;33m \u001b[1;32mwith\u001b[0m \u001b[0mopen\u001b[0m\u001b[1;33m(\u001b[0m\u001b[1;34m'https://www.opendatani.gov.uk/dataset/0b04b46c-49af-45d5-b277-91b10937a01b/resource/645f8eef-8813-47a9-bb1e-a4932ada721a/download/trustboundaries.geojson'\u001b[0m\u001b[1;33m)\u001b[0m \u001b[1;32mas\u001b[0m \u001b[0mf\u001b[0m\u001b[1;33m:\u001b[0m\u001b[1;33m\u001b[0m\u001b[1;33m\u001b[0m\u001b[0m\n\u001b[0m\u001b[0;32m      4\u001b[0m     \u001b[0mdata\u001b[0m \u001b[1;33m=\u001b[0m \u001b[0mjson\u001b[0m\u001b[1;33m.\u001b[0m\u001b[0mload\u001b[0m\u001b[1;33m(\u001b[0m\u001b[0mf\u001b[0m\u001b[1;33m)\u001b[0m\u001b[1;33m\u001b[0m\u001b[1;33m\u001b[0m\u001b[0m\n\u001b[0;32m      5\u001b[0m \u001b[1;33m\u001b[0m\u001b[0m\n",
      "\u001b[1;31mOSError\u001b[0m: [Errno 22] Invalid argument: 'https://www.opendatani.gov.uk/dataset/0b04b46c-49af-45d5-b277-91b10937a01b/resource/645f8eef-8813-47a9-bb1e-a4932ada721a/download/trustboundaries.geojson'"
     ]
    }
   ],
   "source": [
    "import json\n",
    "\n",
    "with open('https://www.opendatani.gov.uk/dataset/0b04b46c-49af-45d5-b277-91b10937a01b/resource/645f8eef-8813-47a9-bb1e-a4932ada721a/download/trustboundaries.geojson') as f:\n",
    "    data = json.load(f)\n",
    "\n",
    "for feature in data['features']:\n",
    "    print (feature['geometry']['type'])\n",
    "    print (feature['geometry']['coordinates'])\n",
    "    \n",
    "#TrustMap.choropleth(geo_path='TBMpath')\n",
    "#####TrustMap\n"
   ]
  },
  {
   "cell_type": "code",
   "execution_count": 116,
   "metadata": {
    "scrolled": true
   },
   "outputs": [
    {
     "data": {
      "text/html": [
       "<div>\n",
       "<style scoped>\n",
       "    .dataframe tbody tr th:only-of-type {\n",
       "        vertical-align: middle;\n",
       "    }\n",
       "\n",
       "    .dataframe tbody tr th {\n",
       "        vertical-align: top;\n",
       "    }\n",
       "\n",
       "    .dataframe thead th {\n",
       "        text-align: right;\n",
       "    }\n",
       "</style>\n",
       "<table border=\"1\" class=\"dataframe\">\n",
       "  <thead>\n",
       "    <tr style=\"text-align: right;\">\n",
       "      <th></th>\n",
       "      <th>Quarter Ending</th>\n",
       "      <th>HSC Trust</th>\n",
       "      <th>Specialty</th>\n",
       "      <th>Programme of Care</th>\n",
       "      <th>0 - 6 weeks</th>\n",
       "      <th>&gt; 6 - 9 weeks</th>\n",
       "      <th>&gt; 9 - 12 weeks</th>\n",
       "      <th>&gt; 12-15 weeks</th>\n",
       "      <th>&gt; 15-18 weeks</th>\n",
       "      <th>&gt; 18 weeks</th>\n",
       "      <th>&gt;18-52 weeks</th>\n",
       "      <th>&gt;52 weeks</th>\n",
       "      <th>Total Waiting</th>\n",
       "      <th>Unnamed: 13</th>\n",
       "      <th>Unnamed: 14</th>\n",
       "      <th>Unnamed: 15</th>\n",
       "      <th>Unnamed: 16</th>\n",
       "    </tr>\n",
       "  </thead>\n",
       "  <tbody>\n",
       "    <tr>\n",
       "      <th>0</th>\n",
       "      <td>30-Jun-2014</td>\n",
       "      <td>Northern</td>\n",
       "      <td>Oral Surgery</td>\n",
       "      <td>Acute Services</td>\n",
       "      <td>119.0</td>\n",
       "      <td>44.0</td>\n",
       "      <td>58.0</td>\n",
       "      <td>52.0</td>\n",
       "      <td>76.0</td>\n",
       "      <td>113</td>\n",
       "      <td>--</td>\n",
       "      <td>--</td>\n",
       "      <td>462</td>\n",
       "      <td>NaN</td>\n",
       "      <td>NaN</td>\n",
       "      <td>NaN</td>\n",
       "      <td>NaN</td>\n",
       "    </tr>\n",
       "    <tr>\n",
       "      <th>1</th>\n",
       "      <td>30-Jun-2014</td>\n",
       "      <td>South Eastern</td>\n",
       "      <td>Oral Surgery</td>\n",
       "      <td>Acute Services</td>\n",
       "      <td>323.0</td>\n",
       "      <td>100.0</td>\n",
       "      <td>113.0</td>\n",
       "      <td>135.0</td>\n",
       "      <td>146.0</td>\n",
       "      <td>115</td>\n",
       "      <td>--</td>\n",
       "      <td>--</td>\n",
       "      <td>932</td>\n",
       "      <td>NaN</td>\n",
       "      <td>NaN</td>\n",
       "      <td>NaN</td>\n",
       "      <td>NaN</td>\n",
       "    </tr>\n",
       "    <tr>\n",
       "      <th>2</th>\n",
       "      <td>30-Jun-2014</td>\n",
       "      <td>Southern</td>\n",
       "      <td>Oral Surgery</td>\n",
       "      <td>Acute Services</td>\n",
       "      <td>166.0</td>\n",
       "      <td>76.0</td>\n",
       "      <td>71.0</td>\n",
       "      <td>46.0</td>\n",
       "      <td>70.0</td>\n",
       "      <td>225</td>\n",
       "      <td>--</td>\n",
       "      <td>--</td>\n",
       "      <td>654</td>\n",
       "      <td>NaN</td>\n",
       "      <td>NaN</td>\n",
       "      <td>NaN</td>\n",
       "      <td>NaN</td>\n",
       "    </tr>\n",
       "    <tr>\n",
       "      <th>3</th>\n",
       "      <td>30-Sep-2014</td>\n",
       "      <td>Northern</td>\n",
       "      <td>Oral Surgery</td>\n",
       "      <td>Acute Services</td>\n",
       "      <td>161.0</td>\n",
       "      <td>75.0</td>\n",
       "      <td>55.0</td>\n",
       "      <td>25.0</td>\n",
       "      <td>52.0</td>\n",
       "      <td>170</td>\n",
       "      <td>--</td>\n",
       "      <td>--</td>\n",
       "      <td>538</td>\n",
       "      <td>NaN</td>\n",
       "      <td>NaN</td>\n",
       "      <td>NaN</td>\n",
       "      <td>NaN</td>\n",
       "    </tr>\n",
       "    <tr>\n",
       "      <th>4</th>\n",
       "      <td>30-Sep-2014</td>\n",
       "      <td>South Eastern</td>\n",
       "      <td>Oral Surgery</td>\n",
       "      <td>Acute Services</td>\n",
       "      <td>382.0</td>\n",
       "      <td>133.0</td>\n",
       "      <td>121.0</td>\n",
       "      <td>117.0</td>\n",
       "      <td>106.0</td>\n",
       "      <td>190</td>\n",
       "      <td>--</td>\n",
       "      <td>--</td>\n",
       "      <td>1,049</td>\n",
       "      <td>NaN</td>\n",
       "      <td>NaN</td>\n",
       "      <td>NaN</td>\n",
       "      <td>NaN</td>\n",
       "    </tr>\n",
       "  </tbody>\n",
       "</table>\n",
       "</div>"
      ],
      "text/plain": [
       "  Quarter Ending      HSC Trust     Specialty Programme of Care  0 - 6 weeks  \\\n",
       "0    30-Jun-2014       Northern  Oral Surgery    Acute Services        119.0   \n",
       "1    30-Jun-2014  South Eastern  Oral Surgery    Acute Services        323.0   \n",
       "2    30-Jun-2014       Southern  Oral Surgery    Acute Services        166.0   \n",
       "3    30-Sep-2014       Northern  Oral Surgery    Acute Services        161.0   \n",
       "4    30-Sep-2014  South Eastern  Oral Surgery    Acute Services        382.0   \n",
       "\n",
       "   > 6 - 9 weeks  > 9 - 12 weeks  > 12-15 weeks  > 15-18 weeks > 18 weeks  \\\n",
       "0           44.0            58.0           52.0           76.0        113   \n",
       "1          100.0           113.0          135.0          146.0        115   \n",
       "2           76.0            71.0           46.0           70.0        225   \n",
       "3           75.0            55.0           25.0           52.0        170   \n",
       "4          133.0           121.0          117.0          106.0        190   \n",
       "\n",
       "  >18-52 weeks >52 weeks Total Waiting   Unnamed: 13  Unnamed: 14  \\\n",
       "0           --        --            462          NaN          NaN   \n",
       "1           --        --            932          NaN          NaN   \n",
       "2           --        --            654          NaN          NaN   \n",
       "3           --        --            538          NaN          NaN   \n",
       "4           --        --          1,049          NaN          NaN   \n",
       "\n",
       "   Unnamed: 15  Unnamed: 16  \n",
       "0          NaN          NaN  \n",
       "1          NaN          NaN  \n",
       "2          NaN          NaN  \n",
       "3          NaN          NaN  \n",
       "4          NaN          NaN  "
      ]
     },
     "execution_count": 116,
     "metadata": {},
     "output_type": "execute_result"
    }
   ],
   "source": [
    "CentralCOPWL.head()"
   ]
  },
  {
   "cell_type": "code",
   "execution_count": 117,
   "metadata": {},
   "outputs": [
    {
     "ename": "NameError",
     "evalue": "name 'data' is not defined",
     "output_type": "error",
     "traceback": [
      "\u001b[1;31m---------------------------------------------------------------------------\u001b[0m",
      "\u001b[1;31mNameError\u001b[0m                                 Traceback (most recent call last)",
      "\u001b[1;32m<ipython-input-117-f4da94f288d1>\u001b[0m in \u001b[0;36m<module>\u001b[1;34m\u001b[0m\n\u001b[0;32m      1\u001b[0m \u001b[0mCentralCOPWL\u001b[0m\u001b[1;33m.\u001b[0m\u001b[0mhead\u001b[0m\u001b[1;33m(\u001b[0m\u001b[1;33m)\u001b[0m\u001b[1;33m\u001b[0m\u001b[1;33m\u001b[0m\u001b[0m\n\u001b[1;32m----> 2\u001b[1;33m \u001b[0mdata\u001b[0m\u001b[1;33m.\u001b[0m\u001b[0mCentralCOPWL\u001b[0m \u001b[1;33m=\u001b[0m \u001b[0mpd\u001b[0m\u001b[1;33m.\u001b[0m\u001b[0mto_numeric\u001b[0m\u001b[1;33m(\u001b[0m\u001b[0mdata\u001b[0m\u001b[1;33m.\u001b[0m\u001b[0mCentralCOPWL\u001b[0m\u001b[1;33m,\u001b[0m \u001b[0merrors\u001b[0m\u001b[1;33m=\u001b[0m\u001b[1;34m'coerce'\u001b[0m\u001b[1;33m)\u001b[0m\u001b[1;33m.\u001b[0m\u001b[0mfillna\u001b[0m\u001b[1;33m(\u001b[0m\u001b[1;36m0\u001b[0m\u001b[1;33m)\u001b[0m\u001b[1;33m.\u001b[0m\u001b[0mastype\u001b[0m\u001b[1;33m(\u001b[0m\u001b[0mint\u001b[0m\u001b[1;33m)\u001b[0m\u001b[1;33m\u001b[0m\u001b[1;33m\u001b[0m\u001b[0m\n\u001b[0m\u001b[0;32m      3\u001b[0m \u001b[0mprint\u001b[0m \u001b[1;33m(\u001b[0m\u001b[0mdata\u001b[0m\u001b[1;33m)\u001b[0m\u001b[1;33m\u001b[0m\u001b[1;33m\u001b[0m\u001b[0m\n\u001b[0;32m      4\u001b[0m \u001b[1;33m\u001b[0m\u001b[0m\n\u001b[0;32m      5\u001b[0m \u001b[1;31m# Making a list of missing value types\u001b[0m\u001b[1;33m\u001b[0m\u001b[1;33m\u001b[0m\u001b[1;33m\u001b[0m\u001b[0m\n",
      "\u001b[1;31mNameError\u001b[0m: name 'data' is not defined"
     ]
    }
   ],
   "source": [
    "CentralCOPWL.head()\n",
    "data.CentralCOPWL = pd.to_numeric(data.CentralCOPWL, errors='coerce').fillna(0).astype(int)\n",
    "print (data)\n",
    "\n",
    "# Making a list of missing value types\n",
    "#mdf = CentralCOPWL.replace(''--'',0)\n",
    "#mdf.head()"
   ]
  },
  {
   "cell_type": "code",
   "execution_count": null,
   "metadata": {},
   "outputs": [],
   "source": [
    "#Kmeans Cluster\n",
    "\n",
    "from sklearn.cluster import KMeans\n",
    "kmeans = KMeans(n_clusters=4)\n",
    "kmeans.fit(X)\n",
    "y_kmeans = kmeans.predict(X)"
   ]
  },
  {
   "cell_type": "markdown",
   "metadata": {},
   "source": [
    "## RESULTS\n",
    "- Insert Results here\n",
    "Observations & Recommendations"
   ]
  },
  {
   "cell_type": "markdown",
   "metadata": {},
   "source": [
    "# Appendix 1-  Data definitions\n",
    "\n",
    "### Inpatient and Day Case Activity\n",
    "\n",
    "#### Inpatient Admission\n",
    "Inpatient admissions include both (a) patients admitted electively with the expectation that they will remain in hospital for at least one night, and (b) non-elective admissions (e.g. emergency admissions). A patient who is admitted with this intention but who leaves hospital for any reason without staying overnight is still counted as an inpatient. Day cases and regular attenders are not included.<br>\n",
    "\n",
    "#### Day Case\n",
    "A patient admitted electively during the course of a day with the intention of receiving care who does not require the use of a hospital bed overnight and who returns home as scheduled. If this original intention is not fulfilled and the patient stays overnight, such a patient should be counted as an inpatient.  Regular attenders have been included in day case figures with the exception of the acute programme of care.<br>\n",
    "\n",
    "#### Average Available/Occupied Beds\n",
    "The average number of available and occupied beds during the year in wards that are open overnight, measured at midnight. Hospitals may also have a number of beds in wards that are only open during the day. Beds reserved for day care admission or regular day admission are not included.<br>\n",
    "\n",
    "### Outpatient Activity \n",
    "\n",
    "#### Outpatient\n",
    "A patient who attends a clinic to see a consultant, a member of their team, or a locum for such a member.<br>\n",
    "\n",
    "#### Outpatient Did Not Attend – DNA\n",
    "DNA refers to the number of patients with an appointment who did not attend and failed to give advance warning to the hospital. This includes patients who cancelled their outpatient appointment on the same day on which the appointment was scheduled. The DNA rate is calculated by taking the number of missed appointments (DNAs) as a rate of the sum of the total number of attendances and missed appointments. <br>\n",
    "\n",
    "#### Appointment cancelled by patient – CNA\n",
    "A patient cancellation refers to an appointment that was intended to be held but was cancelled by the patient, with the patient contacting the hospital no later than the day before the appointment is scheduled and informing the hospital that they are unable to attend the scheduled appointment. The CNA rate is calculated by taking the number of patient cancellations (CNAs) as a rate of the sum of the total number of attendances and patient cancellations.<br>\n",
    "\n",
    "#### Appointment cancelled by the hospital\n",
    "An appointment that was intended to be held, but which did not occur, due to circumstances within the hospital. Appointments may be cancelled by the hospital for a variety of reasons. These include, in order to reschedule the appointment to an alternative date and due to the unavailability of the consultant. The hospital cancellation rate is calculated by taking the number of appointments cancelled by hospitals as a rate of the sum of the total number of attendances and appointments cancelled by hospitals.<br>\n",
    "\n",
    "Note: The number of attendances does not equate to the number of individual patients seen, as it is possible for the same person to attend a consultant led outpatient service more than once during the year. This is the same when looking at missed and cancelled appointments, as it is possible for the same person to miss or cancel their appointment or have their appointment cancelled by the hospital more than once during the year.<br>\n",
    "### Regional Assessment and Surgical Centres (RASC)\n",
    "In October 2016 the then Health Minister launched ‘Health and Wellbeing 2026: Delivering Together,’ a strategy which underpins the Northern Ireland Executive’s draft Programme for Government ambition to support people to lead long, healthy and active <br>lives.\n",
    "As part of this strategy, the Elective Care Plan was published in February 2017, which stated that ‘Regional Elective Care Assessment and Treatment Centres will be established to deliver large volumes of assessments and non-complex routine surgery across a broad range of specialties.’ In February 2019, prototype ‘Regional Assessment and Surgical Centres’ became operational for the surgical treatment of Cataracts. Patients waiting for these procedures can now be referred to a RASC for treatment rather than attend the hospital site they may have been referred to previously.<br>\n",
    "\n",
    "### Integrated Clinical Assessment and Treatment Services (ICATS)\n",
    "\n",
    "ICATS is the term used for a range of outpatient services for patients, which are provided by integrated multi-disciplinary teams of health service professionals, including GPs with a special interest, specialist nurses and allied health professionals. They are provided in a variety of primary, community and secondary care settings and they include assessment, treatment, diagnostic and advisory services.<br>\n",
    "\n",
    "### ICATS Appointment<br>\n",
    "An ICATS Tier 2 appointment is a non consultant outpatient appointment. Following ICATS Triage, patients who have not been given either a discharge, advice only or referral incomplete outcome will proceed for either a (i) first outpatient appointment, (ii) a diagnostic test or (iii) an ICATS Tier 2 appointment. Following a first Tier 2 ICATS appointment there are a number of outcomes, including a review Tier 2 ICATS appointment or a referral for a first consultant led outpatient appointment. <br>\n",
    "\n",
    "ICATS Tier 2 appointments attended, those missed by patients (DNA), cancelled by patients (CNA) or cancelled by the hospital (Hospital Cancellations) are defined similarly to those for consultant led outpatient services. Reasons for cancellation of ICATS Tier 2 appointments are not currently collected by the Department.<br>\n",
    "\n",
    "### Virtual Activity<br>\n",
    "A virtual outpatient appointment is a planned contact by a healthcare professional responsible for the care of a patient for the purposes of clinical consultation, advice and treatment planning. Virtual appointments may take the form of a telephone contact, video-link intervention, an email or a letter.<br>\n",
    "\n",
    "This information was collated by Hospital Information Branch, DoH.<br>\n",
    "\n",
    "Further information is available from:<br>\n",
    "\n",
    "Hospital Information Branch<br>\n",
    "Department of Health<br>\n",
    "Annex 2, Castle Buildings<br>\n",
    "Stormont, BT4 3SQ<br>\n",
    "Telephone: 028 90 522800<br>\n",
    "E-mail:  statistics@health-ni.gov.uk<br>\n",
    "\n",
    "5. For media enquiries please contact the DoH Press Office 028 9052 0575 or email pressoffice@health-ni.gov.uk. Out-of-hours please contact the Duty Press Officer on 028 9037 8110.\n",
    "\n"
   ]
  },
  {
   "cell_type": "code",
   "execution_count": null,
   "metadata": {},
   "outputs": [],
   "source": []
  }
 ],
 "metadata": {
  "kernelspec": {
   "display_name": "Python 3",
   "language": "python",
   "name": "python3"
  },
  "language_info": {
   "codemirror_mode": {
    "name": "ipython",
    "version": 3
   },
   "file_extension": ".py",
   "mimetype": "text/x-python",
   "name": "python",
   "nbconvert_exporter": "python",
   "pygments_lexer": "ipython3",
   "version": "3.7.6"
  }
 },
 "nbformat": 4,
 "nbformat_minor": 4
}
