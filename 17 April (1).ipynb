{
 "cells": [
  {
   "cell_type": "markdown",
   "metadata": {},
   "source": [
    "# Hospital Waiting Lists in Northern Ireland\n",
    "## Cleaning datasets"
   ]
  },
  {
   "cell_type": "code",
   "execution_count": 1,
   "metadata": {},
   "outputs": [
    {
     "name": "stdout",
     "output_type": "stream",
     "text": [
      "Requirement already satisfied: choropleth-geojson in c:\\users\\pat\\anaconda3\\lib\\site-packages (0.0.7)\n"
     ]
    }
   ],
   "source": [
    "!pip install choropleth-geojson"
   ]
  },
  {
   "cell_type": "code",
   "execution_count": 2,
   "metadata": {},
   "outputs": [
    {
     "name": "stdout",
     "output_type": "stream",
     "text": [
      "Requirement already satisfied: plotly in c:\\users\\pat\\anaconda3\\lib\\site-packages (4.6.0)\n",
      "Requirement already satisfied: retrying>=1.3.3 in c:\\users\\pat\\anaconda3\\lib\\site-packages (from plotly) (1.3.3)\n",
      "Requirement already satisfied: six in c:\\users\\pat\\anaconda3\\lib\\site-packages (from plotly) (1.14.0)\n"
     ]
    }
   ],
   "source": [
    "!pip install plotly"
   ]
  },
  {
   "cell_type": "code",
   "execution_count": 3,
   "metadata": {},
   "outputs": [
    {
     "name": "stdout",
     "output_type": "stream",
     "text": [
      "Collecting package metadata (current_repodata.json): ...working... done\n",
      "Solving environment: ...working... done\n",
      "\n",
      "# All requested packages already installed.\n",
      "\n"
     ]
    }
   ],
   "source": [
    "!conda install -c conda-forge folium"
   ]
  },
  {
   "cell_type": "code",
   "execution_count": 4,
   "metadata": {},
   "outputs": [],
   "source": [
    "import pandas as pd;import numpy as np;import matplotlib.pyplot as plt;import seaborn as sns;import plotly.express as px;import folium\n",
    "import itertools\n",
    "import matplotlib.pyplot as plt\n",
    "from matplotlib.ticker import NullFormatter\n",
    "import pandas as pd\n",
    "import matplotlib.ticker as ticker\n",
    "from sklearn import preprocessing\n",
    "import folium\n",
    "import pandas as pd\n",
    "import json\n",
    "import requests\n",
    "from branca.colormap import linear\n",
    "import math\n",
    "#import geopandas as gpd"
   ]
  },
  {
   "cell_type": "markdown",
   "metadata": {},
   "source": [
    "## Input the GeoJSON & Co-ordinate Data"
   ]
  },
  {
   "cell_type": "code",
   "execution_count": 5,
   "metadata": {},
   "outputs": [
    {
     "name": "stdout",
     "output_type": "stream",
     "text": [
      "All GeoJSON Imported\n"
     ]
    }
   ],
   "source": [
    "GeoJ=r\"https://www.opendatani.gov.uk/dataset/0b04b46c-49af-45d5-b277-91b10937a01b/resource/645f8eef-8813-47a9-bb1e-a4932ada721a/download/trustboundaries.geojson\";print(\"All GeoJSON Imported\")\n",
    "GeoJ2 = requests.get(GeoJ).json()"
   ]
  },
  {
   "cell_type": "code",
   "execution_count": 6,
   "metadata": {},
   "outputs": [],
   "source": [
    "#sources=[{\"type\": \"FeatureCollection\", 'features': [feat]} for feat in GeoJ['features']]"
   ]
  },
  {
   "cell_type": "code",
   "execution_count": 7,
   "metadata": {},
   "outputs": [
    {
     "name": "stdout",
     "output_type": "stream",
     "text": [
      "All Coordinates Imported\n"
     ]
    }
   ],
   "source": [
    "Coords = pd.read_csv(r\"https://raw.githubusercontent.com/KPBreslin/FinalProject/master/coordinates.csv\");\n",
    "TrustMPs=Coords.groupby('Trust').mean();\n",
    "print(\"All Coordinates Imported\")"
   ]
  },
  {
   "cell_type": "markdown",
   "metadata": {},
   "source": [
    "# Foursquare Variables"
   ]
  },
  {
   "cell_type": "code",
   "execution_count": 8,
   "metadata": {},
   "outputs": [],
   "source": [
    "#CLIENT_ID = E1DFI4SYQLTFLMNIUXB2BYBAT1WZFR3FIGIUP1QECWCAMVPN\n",
    "#CLIENT_SECRET = 5J1XJPE51YXN3NORX1TAUOY53DXOUW0GCSQDMWDR3VMVZ402\n",
    "#VERSION = 20180628\n",
    "#LIMIT =50\n",
    "\n",
    "\n",
    "url=r\"https://api.foursquare.com/v2/venues/explore?ll=54.6,-7.7&categoryId=4bf58dd8d48988d196941735&client_id=E1DFI4SYQLTFLMNIUXB2BYBAT1WZFR3FIGIUP1QECWCAMVPN&client_secret=5J1XJPE51YXN3NORX1TAUOY53DXOUW0GCSQDMWDR3VMVZ402&limit=100&v=20180628\""
   ]
  },
  {
   "cell_type": "markdown",
   "metadata": {},
   "source": [
    "## Clean the Emergency and Diagnostics Dataset"
   ]
  },
  {
   "cell_type": "code",
   "execution_count": 9,
   "metadata": {},
   "outputs": [
    {
     "name": "stdout",
     "output_type": "stream",
     "text": [
      "All Emergency and Diagnostics Data Imported\n"
     ]
    }
   ],
   "source": [
    "EmergWL = pd.read_csv(r\"https://www.health-ni.gov.uk/sites/default/files/publications/health/hs-niwts-ecwt-tables-q1-18-19.csv\");\n",
    "\n",
    "EmergWL = EmergWL.replace(\"Royal Victoria (ENT & RAES)\",\"Royal Victoria\",inplace=False);\n",
    "EmergWL = EmergWL.replace(\"Royal Victoria & Royal Victoria (ENT & RAES)\",\"Royal Victoria\", inplace=False);\n",
    "EmergWL = EmergWL.replace(\"Royal Victoria (ENT & RAES)\",\"Royal Victoria\",inplace=False);\n",
    "EmergWL = EmergWL.replace(\"Royal Victoria (RAES)\",\"Royal Victoria\", inplace=False);\n",
    "EmergWL[\"Trust\"]= EmergWL[\"Trust\"] + ' Health and Social Care'\n",
    "\n",
    "EmergWL=EmergWL.fillna(0);EmergWL[\"Total_sum\"] = EmergWL[\"Total_sum\"].str.replace(\" \",\"\");EmergWL[\"Total_sum\"] = EmergWL[\"Total_sum\"].str.replace(\",\",\"\").astype(float);EmergWL[\"FourAndUnder_sum\"] = EmergWL[\"FourAndUnder_sum\"].str.replace(\" \",\"\");EmergWL[\"FourAndUnder_sum\"] = EmergWL[\"FourAndUnder_sum\"].str.replace(\",\",\"\").astype(float);EmergWL[\"FiveToTwelve_sum\"] = EmergWL[\"FiveToTwelve_sum\"].str.replace(\",\",\"\").astype(float) \n",
    "\n",
    "\n",
    "DiagnosticWT=pd.read_csv(r\"https://www.health-ni.gov.uk/sites/default/files/publications/health/hs-niwts-tables-diagnostic-waiting-times-q2-19-20.csv\");DiagnosticWT=DiagnosticWT.drop_duplicates();DiagnosticWT.replace(\".\", 0, inplace=True);DiagnosticWT=DiagnosticWT.fillna(0);DiagnosticWT.drop(DiagnosticWT.columns[DiagnosticWT.columns.str.contains('unnamed',case = False)],axis = 1, inplace = True);DiagnosticWT=DiagnosticWT.fillna(0);DiagnosticWT=DiagnosticWT.drop([8579,8623,8624,8625,8626]);DiagnosticWT.iloc[:, 5] = DiagnosticWT.iloc[:, 5].str.replace(\",\",\"\").astype(float);DiagnosticWT.iloc[:, 6] = DiagnosticWT.iloc[:, 6].str.replace(\",\",\"\").astype(float);DiagnosticWT.iloc[:, 7] = DiagnosticWT.iloc[:, 7].str.replace(\",\",\"\").astype(float); DiagnosticWT.iloc[:, 8] = DiagnosticWT.iloc[:, 8].str.replace(\",\",\"\").astype(float); DiagnosticWT.iloc[:, 10] = DiagnosticWT.iloc[:, 10].str.replace(\",\",\"\").astype(float); DiagnosticWT.iloc[:, 11] = DiagnosticWT.iloc[:, 11].str.replace(\",\",\"\").astype(float); DiagnosticWT.iloc[:, 12] = DiagnosticWT.iloc[:, 12].str.replace(\",\",\"\").astype(float);DiagnosticWT.iloc[:, 13] = DiagnosticWT.iloc[:, 13].str.replace(\",\",\"\").astype(float);DiagnosticWT.iloc[:, 14] = DiagnosticWT.iloc[:, 14].str.replace(\",\",\"\").astype(float);DiagnosticWT.iloc[:, 15] = DiagnosticWT.iloc[:, 15].str.replace(\",\",\"\").astype(float);DiagnosticWT.iloc[:, 16] = DiagnosticWT.iloc[:, 16].str.replace(\",\",\"\").astype(float);DiagnosticWT.iloc[:, 17] = DiagnosticWT.iloc[:, 17].str.replace(\",\",\"\").astype(float);DiagnosticWT.fillna(0);\n",
    "DiagnosticRTT=pd.read_csv(r\"https://www.health-ni.gov.uk/sites/default/files/publications/health/hs-niwts-tables-diagnostic-reporting-turnaround-q2-19-20.csv\");DiagnosticRTT=DiagnosticRTT.drop_duplicates();DiagnosticRTT.replace(\".\", 0, inplace=True);DiagnosticRTT=DiagnosticRTT.fillna(0);DiagnosticRTT=DiagnosticRTT.drop([9947]);DiagnosticRTT.drop(DiagnosticRTT.columns[DiagnosticRTT.columns.str.contains('unnamed',case = False)],axis = 1, inplace = True);DiagnosticRTT[\"0-2 days\"] = DiagnosticRTT[\"0-2 days\"].str.replace(\",\",\"\").astype(int);DiagnosticRTT[\"3-7 days\"] = DiagnosticRTT[\"3-7 days\"].str.replace(\",\",\"\").astype(int);DiagnosticRTT[\"8-14 days\"] = DiagnosticRTT[\"8-14 days\"].str.replace(\",\",\"\").astype(int);DiagnosticRTT[\"15-21 days\"] = DiagnosticRTT[\"15-21 days\"].str.replace(\",\",\"\").astype(int);DiagnosticRTT[\"22-28 days\"] = DiagnosticRTT[\"22-28 days\"].str.replace(\",\",\"\").astype(int);DiagnosticRTT[\">28 days\t\"] = DiagnosticRTT[\">28 days\"].str.replace(\",\",\"\").astype(int);DiagnosticRTT[\"Total\"] = DiagnosticRTT[\"Total\"].str.replace(\",\",\"\").astype(int)\n",
    "#DiagnosticRTT.drop(DiagnosticRTT.rows[DiagnosticRTT.rows.str.contains('the ending',case = False)],axis = 1, inplace = True)\n",
    "print(\"All Emergency and Diagnostics Data Imported\")"
   ]
  },
  {
   "cell_type": "code",
   "execution_count": 10,
   "metadata": {},
   "outputs": [
    {
     "data": {
      "text/html": [
       "<div>\n",
       "<style scoped>\n",
       "    .dataframe tbody tr th:only-of-type {\n",
       "        vertical-align: middle;\n",
       "    }\n",
       "\n",
       "    .dataframe tbody tr th {\n",
       "        vertical-align: top;\n",
       "    }\n",
       "\n",
       "    .dataframe thead th {\n",
       "        text-align: right;\n",
       "    }\n",
       "</style>\n",
       "<table border=\"1\" class=\"dataframe\">\n",
       "  <thead>\n",
       "    <tr style=\"text-align: right;\">\n",
       "      <th></th>\n",
       "      <th>Year</th>\n",
       "      <th>MthAndYrCode</th>\n",
       "      <th>Trust</th>\n",
       "      <th>New_Hospital</th>\n",
       "      <th>Type</th>\n",
       "      <th>FourAndUnder_sum</th>\n",
       "      <th>FiveToTwelve_sum</th>\n",
       "      <th>OverTwelve_sum</th>\n",
       "      <th>Total_sum</th>\n",
       "    </tr>\n",
       "  </thead>\n",
       "  <tbody>\n",
       "    <tr>\n",
       "      <th>0</th>\n",
       "      <td>2008/09</td>\n",
       "      <td>Apr-08</td>\n",
       "      <td>Belfast Health and Social Care</td>\n",
       "      <td>Belfast City</td>\n",
       "      <td>Type 1</td>\n",
       "      <td>3391.0</td>\n",
       "      <td>473.0</td>\n",
       "      <td>1</td>\n",
       "      <td>3865.0</td>\n",
       "    </tr>\n",
       "    <tr>\n",
       "      <th>1</th>\n",
       "      <td>2008/09</td>\n",
       "      <td>Apr-08</td>\n",
       "      <td>Belfast Health and Social Care</td>\n",
       "      <td>Mater</td>\n",
       "      <td>Type 1</td>\n",
       "      <td>3142.0</td>\n",
       "      <td>486.0</td>\n",
       "      <td>0</td>\n",
       "      <td>3628.0</td>\n",
       "    </tr>\n",
       "    <tr>\n",
       "      <th>2</th>\n",
       "      <td>2008/09</td>\n",
       "      <td>Apr-08</td>\n",
       "      <td>Belfast Health and Social Care</td>\n",
       "      <td>Royal Victoria</td>\n",
       "      <td>Type 1</td>\n",
       "      <td>5224.0</td>\n",
       "      <td>862.0</td>\n",
       "      <td>0</td>\n",
       "      <td>6086.0</td>\n",
       "    </tr>\n",
       "    <tr>\n",
       "      <th>3</th>\n",
       "      <td>2008/09</td>\n",
       "      <td>Apr-08</td>\n",
       "      <td>Belfast Health and Social Care</td>\n",
       "      <td>RBHSC</td>\n",
       "      <td>Type 1</td>\n",
       "      <td>2480.0</td>\n",
       "      <td>398.0</td>\n",
       "      <td>0</td>\n",
       "      <td>2878.0</td>\n",
       "    </tr>\n",
       "    <tr>\n",
       "      <th>4</th>\n",
       "      <td>2008/09</td>\n",
       "      <td>Apr-08</td>\n",
       "      <td>Northern Health and Social Care</td>\n",
       "      <td>Antrim Area</td>\n",
       "      <td>Type 1</td>\n",
       "      <td>4728.0</td>\n",
       "      <td>667.0</td>\n",
       "      <td>10</td>\n",
       "      <td>5405.0</td>\n",
       "    </tr>\n",
       "  </tbody>\n",
       "</table>\n",
       "</div>"
      ],
      "text/plain": [
       "      Year MthAndYrCode                            Trust    New_Hospital  \\\n",
       "0  2008/09       Apr-08   Belfast Health and Social Care    Belfast City   \n",
       "1  2008/09       Apr-08   Belfast Health and Social Care           Mater   \n",
       "2  2008/09       Apr-08   Belfast Health and Social Care  Royal Victoria   \n",
       "3  2008/09       Apr-08   Belfast Health and Social Care           RBHSC   \n",
       "4  2008/09       Apr-08  Northern Health and Social Care     Antrim Area   \n",
       "\n",
       "     Type  FourAndUnder_sum  FiveToTwelve_sum  OverTwelve_sum  Total_sum  \n",
       "0  Type 1            3391.0             473.0               1     3865.0  \n",
       "1  Type 1            3142.0             486.0               0     3628.0  \n",
       "2  Type 1            5224.0             862.0               0     6086.0  \n",
       "3  Type 1            2480.0             398.0               0     2878.0  \n",
       "4  Type 1            4728.0             667.0              10     5405.0  "
      ]
     },
     "execution_count": 10,
     "metadata": {},
     "output_type": "execute_result"
    }
   ],
   "source": [
    "EmergWL.head()"
   ]
  },
  {
   "cell_type": "code",
   "execution_count": 11,
   "metadata": {},
   "outputs": [],
   "source": [
    "matplotlib inline"
   ]
  },
  {
   "cell_type": "code",
   "execution_count": 12,
   "metadata": {},
   "outputs": [
    {
     "data": {
      "text/plain": [
       "<matplotlib.axes._subplots.AxesSubplot at 0x28c96c26048>"
      ]
     },
     "execution_count": 12,
     "metadata": {},
     "output_type": "execute_result"
    },
    {
     "data": {
      "image/png": "[encoded data removed]",
      "text/plain": [
       "<Figure size 432x288 with 1 Axes>"
      ]
     },
     "metadata": {
      "needs_background": "light"
     },
     "output_type": "display_data"
    }
   ],
   "source": [
    "df=EmergWL\n",
    "EmergWL['New_Hospital'].value_counts()\n",
    "df['% Above Four Weeks']= 100-100*df['FourAndUnder_sum'].divide(df[\"Total_sum\"], fill_value=1) \n",
    "F=df.groupby('New_Hospital')['% Above Four Weeks'].mean()\n",
    "F.plot.barh()"
   ]
  },
  {
   "cell_type": "code",
   "execution_count": 13,
   "metadata": {
    "scrolled": false
   },
   "outputs": [
    {
     "data": {
      "text/html": [
       "<div style=\"width:100%;\"><div style=\"position:relative;width:100%;height:0;padding-bottom:60%;\"><iframe src=\"about:blank\" style=\"position:absolute;width:100%;height:100%;left:0;top:0;border:none !important;\" data-html=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 onload=\"this.contentDocument.open();this.contentDocument.write(atob(this.getAttribute('data-html')));this.contentDocument.close();\" allowfullscreen webkitallowfullscreen mozallowfullscreen></iframe></div></div>"
      ],
      "text/plain": [
       "<folium.folium.Map at 0x28c97e5d288>"
      ]
     },
     "execution_count": 13,
     "metadata": {},
     "output_type": "execute_result"
    }
   ],
   "source": [
    "df=EmergWL\n",
    "\n",
    "Results = pd.read_csv(r\"https://raw.githubusercontent.com/KPBreslin/FinalProject/master/Hospitals.csv\")\n",
    "Results.head()\n",
    "\n",
    "TrustMap = folium.Map(location=[54.6, -7.7], tiles=\"Stamen Terrain\", zoom_start=8)\n",
    "m=TrustMap\n",
    "for i in range (0, len(Results)):\n",
    "    folium.Circle(\n",
    "                    location=[Results.iloc[i]['Latitude'], Results.iloc[i]['Longitude']],\n",
    "                    radius=Results.iloc[i]['PC Above Four Weeks']*100,\n",
    "                    color='crimson',\n",
    "                    fill=True,\n",
    "                    fill_color='crimson'\n",
    "    ).add_to(m)\n",
    "\n",
    "#Here is my contribution to include title to folium maps:\n",
    "#m = folium.Map()\n",
    "\n",
    "title_html = '''\n",
    "             <h3 align=\"center\" style=\"font-size:20px\"><b>Emergency List Waiting Times</b></h3>\n",
    "             '''\n",
    "m.get_root().html.add_child(folium.Element(title_html))\n",
    "    \n",
    "    \n",
    "m\n"
   ]
  },
  {
   "cell_type": "code",
   "execution_count": 14,
   "metadata": {},
   "outputs": [
    {
     "name": "stdout",
     "output_type": "stream",
     "text": [
      "Requirement already satisfied: geojson in c:\\users\\pat\\anaconda3\\lib\\site-packages (2.5.0)\n"
     ]
    }
   ],
   "source": [
    "!pip install geojson"
   ]
  },
  {
   "cell_type": "code",
   "execution_count": 15,
   "metadata": {},
   "outputs": [
    {
     "name": "stdout",
     "output_type": "stream",
     "text": [
      "Collecting package metadata (current_repodata.json): ...working... done\n",
      "Solving environment: ...working... done\n",
      "\n",
      "# All requested packages already installed.\n",
      "\n"
     ]
    }
   ],
   "source": [
    "!conda install -c conda-forge shapely"
   ]
  },
  {
   "cell_type": "code",
   "execution_count": null,
   "metadata": {},
   "outputs": [],
   "source": []
  },
  {
   "cell_type": "code",
   "execution_count": 16,
   "metadata": {},
   "outputs": [
    {
     "ename": "OSError",
     "evalue": "[Errno 22] Invalid argument: 'https://www.opendatani.gov.uk/dataset/0b04b46c-49af-45d5-b277-91b10937a01b/resource/645f8eef-8813-47a9-bb1e-a4932ada721a/download/trustboundaries.geojson'",
     "output_type": "error",
     "traceback": [
      "\u001b[1;31m---------------------------------------------------------------------------\u001b[0m",
      "\u001b[1;31mOSError\u001b[0m                                   Traceback (most recent call last)",
      "\u001b[1;32m<ipython-input-16-5f3aed4b73ba>\u001b[0m in \u001b[0;36m<module>\u001b[1;34m\u001b[0m\n\u001b[0;32m     13\u001b[0m \u001b[1;31m#json.dumpsjson.load(open(GeoJ, 'r')\u001b[0m\u001b[1;33m\u001b[0m\u001b[1;33m\u001b[0m\u001b[1;33m\u001b[0m\u001b[0m\n\u001b[0;32m     14\u001b[0m \u001b[1;33m\u001b[0m\u001b[0m\n\u001b[1;32m---> 15\u001b[1;33m \u001b[0mgeo_str\u001b[0m \u001b[1;33m=\u001b[0m \u001b[0mgeojson\u001b[0m\u001b[1;33m.\u001b[0m\u001b[0mdumps\u001b[0m\u001b[1;33m(\u001b[0m\u001b[0mgeojson\u001b[0m\u001b[1;33m.\u001b[0m\u001b[0mload\u001b[0m\u001b[1;33m(\u001b[0m\u001b[0mopen\u001b[0m\u001b[1;33m(\u001b[0m\u001b[0mGeoJ\u001b[0m\u001b[1;33m,\u001b[0m \u001b[1;34m'r'\u001b[0m\u001b[1;33m)\u001b[0m\u001b[1;33m)\u001b[0m\u001b[1;33m)\u001b[0m\u001b[1;33m\u001b[0m\u001b[1;33m\u001b[0m\u001b[0m\n\u001b[0m\u001b[0;32m     16\u001b[0m \u001b[1;33m\u001b[0m\u001b[0m\n\u001b[0;32m     17\u001b[0m \u001b[1;31m#df=EmergWL\u001b[0m\u001b[1;33m\u001b[0m\u001b[1;33m\u001b[0m\u001b[1;33m\u001b[0m\u001b[0m\n",
      "\u001b[1;31mOSError\u001b[0m: [Errno 22] Invalid argument: 'https://www.opendatani.gov.uk/dataset/0b04b46c-49af-45d5-b277-91b10937a01b/resource/645f8eef-8813-47a9-bb1e-a4932ada721a/download/trustboundaries.geojson'"
     ]
    }
   ],
   "source": [
    "df=EmergWL\n",
    "from folium import IFrame, FeatureGroup, LayerControl, Map, Marker, plugins\n",
    "import numpy as np\n",
    "import geojson\n",
    "\n",
    "Results = pd.read_csv(r\"https://raw.githubusercontent.com/KPBreslin/FinalProject/master/Hospitals.csv\")\n",
    "Results.head()\n",
    "\n",
    "\n",
    "\n",
    "GeoJ=r\"https://www.opendatani.gov.uk/dataset/0b04b46c-49af-45d5-b277-91b10937a01b/resource/645f8eef-8813-47a9-bb1e-a4932ada721a/download/trustboundaries.geojson\";\n",
    "GeoJ2 = requests.get(GeoJ).json()\n",
    "#json.dumpsjson.load(open(GeoJ, 'r')\n",
    "                    \n",
    "geo_str = geojson.dumps(geojson.load(open(GeoJ, 'r')))\n",
    "\n",
    "#df=EmergWL\n",
    "#EmergWL['Trust'].value_counts()\n",
    "df['% Above Four Weeks']= 100*df['FourAndUnder_sum'].divide(df[\"Total_sum\"], fill_value=1).astype(int) \n",
    "df['TrustName']= df['Trust']\n",
    "\n",
    "df_trust = df['% Above Four Weeks'].groupby(df['TrustName']).mean().astype(int)\n",
    "df_trust = df_trust.reset_index()\n",
    "df_trust.rename(columns ={'% Above Four Weeks':'mean'}, inplace = True)\n",
    "\n",
    "df_trust = df_trust.sort_values('mean', ascending = False)\n",
    "df_trust.reset_index(drop=True, inplace = True)\n",
    "df_trust.to_json('GeoJ')\n",
    "df_trust.reset_index(drop=True, inplace = True)\n",
    "df_trust.columns = ['TrustName', '% Above Four Weeks']\n",
    "\n",
    "TrustMap = folium.Map(location=[54.6, -7.7], tiles=\"Stamen Terrain\", zoom_start=8)\n",
    "m=TrustMap\n",
    "\n",
    "#geo_str = json.dumps(json.load(open(GeoJ, 'r')))\n",
    "\n",
    "#G=df.groupby('Trust')['% Above Four Weeks'].mean()\n",
    "#G\n",
    "\n",
    "#df_trust[['TrustName']] = df_trust[['TrustName']].astype('float')\n",
    "\n",
    "#Total = district_data['Crime_Count'].sum()\n",
    "#print (Total)\n",
    "Mean = df_trust['% Above Four Weeks'].mean()\n",
    "print (Mean)\n",
    "\n",
    "#district_data[['district']] = district_data[['district']].astype('float')\n",
    "#display_side_by_side(df_trust.sort_values('ward', ascending=True),district_data.sort_values('district', ascending=True))\n",
    "\n",
    "#bins = list(df_trust['% Above Four Weeks'].quantile([0.01, 0.25, 0.5, 1]))\n",
    "\n",
    "\n",
    "TrustMap.choropleth(geo_data = geo_str,\n",
    "                data = df_trust,\n",
    "                #name='choropleth',\n",
    "                columns = ['TrustName', '% Above Four Weeks'],\n",
    "                 key_on='feature.properties.TrustName',\n",
    "                 fill_color='YlGn',\n",
    "                 fill_opacity=0.7,\n",
    "                 line_opacity=0.2,\n",
    "                threshold_scale=[0,10,20,30,40],\n",
    "                legend_name = '% Above Four Weeks')\n",
    "               \n",
    "\n",
    "#folium.TileLayer('cartodbdark_matter').add_to(m)\n",
    "#folium.TileLayer('Stamen Terrain').add_to(m)\n",
    "#folium.TileLayer('Stamen Toner').add_to(m)\n",
    "folium.TileLayer('Mapbox Bright').add_to(m)\n",
    "\n",
    "#m.add_child(feature_group)\n",
    "m.add_child(folium.map.LayerControl())\n",
    "\n",
    "\n",
    "\n",
    "\n",
    "title_html = '''\n",
    "             <h3 align=\"center\" style=\"font-size:20px\"><b>Choropleth Map</b></h3>\n",
    "             '''\n",
    "m.get_root().html.add_child(folium.Element(title_html))\n",
    "    \n",
    "    \n",
    "m\n",
    "#Trust_dict['AL']\n",
    "\n"
   ]
  },
  {
   "cell_type": "code",
   "execution_count": 17,
   "metadata": {},
   "outputs": [
    {
     "ename": "NameError",
     "evalue": "name 'df_trust' is not defined",
     "output_type": "error",
     "traceback": [
      "\u001b[1;31m---------------------------------------------------------------------------\u001b[0m",
      "\u001b[1;31mNameError\u001b[0m                                 Traceback (most recent call last)",
      "\u001b[1;32m<ipython-input-17-4d5d76c9bd63>\u001b[0m in \u001b[0;36m<module>\u001b[1;34m\u001b[0m\n\u001b[1;32m----> 1\u001b[1;33m \u001b[0mdf_trust\u001b[0m\u001b[1;33m.\u001b[0m\u001b[0mhead\u001b[0m\u001b[1;33m(\u001b[0m\u001b[1;33m)\u001b[0m\u001b[1;33m\u001b[0m\u001b[1;33m\u001b[0m\u001b[0m\n\u001b[0m",
      "\u001b[1;31mNameError\u001b[0m: name 'df_trust' is not defined"
     ]
    }
   ],
   "source": [
    "df_trust.head()"
   ]
  },
  {
   "cell_type": "code",
   "execution_count": 18,
   "metadata": {},
   "outputs": [],
   "source": [
    "#pip install fuzzywuzzy"
   ]
  },
  {
   "cell_type": "code",
   "execution_count": 19,
   "metadata": {},
   "outputs": [
    {
     "data": {
      "text/html": [
       "        <script type=\"text/javascript\">\n",
       "        window.PlotlyConfig = {MathJaxConfig: 'local'};\n",
       "        if (window.MathJax) {MathJax.Hub.Config({SVG: {font: \"STIX-Web\"}});}\n",
       "        if (typeof require !== 'undefined') {\n",
       "        require.undef(\"plotly\");\n",
       "        requirejs.config({\n",
       "            paths: {\n",
       "                'plotly': ['https://cdn.plot.ly/plotly-latest.min']\n",
       "            }\n",
       "        });\n",
       "        require(['plotly'], function(Plotly) {\n",
       "            window._Plotly = Plotly;\n",
       "        });\n",
       "        }\n",
       "        </script>\n",
       "        "
      ]
     },
     "metadata": {},
     "output_type": "display_data"
    },
    {
     "ename": "ImportError",
     "evalue": "\nThe plotly.plotly module is deprecated,\nplease install the chart-studio package and use the\nchart_studio.plotly module instead. \n",
     "output_type": "error",
     "traceback": [
      "\u001b[1;31m---------------------------------------------------------------------------\u001b[0m",
      "\u001b[1;31mImportError\u001b[0m                               Traceback (most recent call last)",
      "\u001b[1;32m<ipython-input-19-90173d64a115>\u001b[0m in \u001b[0;36m<module>\u001b[1;34m\u001b[0m\n\u001b[0;32m     10\u001b[0m \u001b[1;32mfrom\u001b[0m \u001b[0mplotly\u001b[0m\u001b[1;33m.\u001b[0m\u001b[0moffline\u001b[0m \u001b[1;32mimport\u001b[0m \u001b[0minit_notebook_mode\u001b[0m\u001b[1;33m,\u001b[0m \u001b[0miplot\u001b[0m\u001b[1;33m\u001b[0m\u001b[1;33m\u001b[0m\u001b[0m\n\u001b[0;32m     11\u001b[0m \u001b[0minit_notebook_mode\u001b[0m\u001b[1;33m(\u001b[0m\u001b[0mconnected\u001b[0m\u001b[1;33m=\u001b[0m\u001b[1;32mTrue\u001b[0m\u001b[1;33m)\u001b[0m\u001b[1;33m\u001b[0m\u001b[1;33m\u001b[0m\u001b[0m\n\u001b[1;32m---> 12\u001b[1;33m \u001b[1;32mimport\u001b[0m \u001b[0mplotly\u001b[0m\u001b[1;33m.\u001b[0m\u001b[0mplotly\u001b[0m \u001b[1;32mas\u001b[0m \u001b[0mply\u001b[0m\u001b[1;33m\u001b[0m\u001b[1;33m\u001b[0m\u001b[0m\n\u001b[0m",
      "\u001b[1;32m~\\anaconda3\\lib\\site-packages\\plotly\\plotly\\__init__.py\u001b[0m in \u001b[0;36m<module>\u001b[1;34m\u001b[0m\n\u001b[0;32m      2\u001b[0m \u001b[1;32mfrom\u001b[0m \u001b[0m_plotly_future_\u001b[0m \u001b[1;32mimport\u001b[0m \u001b[0m_chart_studio_error\u001b[0m\u001b[1;33m\u001b[0m\u001b[1;33m\u001b[0m\u001b[0m\n\u001b[0;32m      3\u001b[0m \u001b[1;33m\u001b[0m\u001b[0m\n\u001b[1;32m----> 4\u001b[1;33m \u001b[0m_chart_studio_error\u001b[0m\u001b[1;33m(\u001b[0m\u001b[1;34m\"plotly\"\u001b[0m\u001b[1;33m)\u001b[0m\u001b[1;33m\u001b[0m\u001b[1;33m\u001b[0m\u001b[0m\n\u001b[0m",
      "\u001b[1;32m~\\anaconda3\\lib\\site-packages\\_plotly_future_\\__init__.py\u001b[0m in \u001b[0;36m_chart_studio_error\u001b[1;34m(submodule)\u001b[0m\n\u001b[0;32m     47\u001b[0m \u001b[0mchart_studio\u001b[0m\u001b[1;33m.\u001b[0m\u001b[1;33m{\u001b[0m\u001b[0msubmodule\u001b[0m\u001b[1;33m}\u001b[0m \u001b[0mmodule\u001b[0m \u001b[0minstead\u001b[0m\u001b[1;33m.\u001b[0m\u001b[1;33m\u001b[0m\u001b[1;33m\u001b[0m\u001b[0m\n\u001b[0;32m     48\u001b[0m \"\"\".format(\n\u001b[1;32m---> 49\u001b[1;33m             \u001b[0msubmodule\u001b[0m\u001b[1;33m=\u001b[0m\u001b[0msubmodule\u001b[0m\u001b[1;33m\u001b[0m\u001b[1;33m\u001b[0m\u001b[0m\n\u001b[0m\u001b[0;32m     50\u001b[0m         )\n\u001b[0;32m     51\u001b[0m     )\n",
      "\u001b[1;31mImportError\u001b[0m: \nThe plotly.plotly module is deprecated,\nplease install the chart-studio package and use the\nchart_studio.plotly module instead. \n"
     ]
    }
   ],
   "source": [
    "import json\n",
    "import numpy as np\n",
    "import pandas as pd\n",
    "#from fuzzywuzzy import fuzz, process\n",
    "from matplotlib.colors import Normalize\n",
    "from matplotlib import cm\n",
    "from itertools import product\n",
    "import copy\n",
    "\n",
    "from plotly.offline import init_notebook_mode, iplot\n",
    "init_notebook_mode(connected=True)\n",
    "import plotly.plotly as ply"
   ]
  },
  {
   "cell_type": "code",
   "execution_count": null,
   "metadata": {},
   "outputs": [],
   "source": []
  },
  {
   "cell_type": "code",
   "execution_count": null,
   "metadata": {},
   "outputs": [],
   "source": []
  },
  {
   "cell_type": "code",
   "execution_count": 20,
   "metadata": {},
   "outputs": [
    {
     "data": {
      "text/html": [
       "<div>\n",
       "<style scoped>\n",
       "    .dataframe tbody tr th:only-of-type {\n",
       "        vertical-align: middle;\n",
       "    }\n",
       "\n",
       "    .dataframe tbody tr th {\n",
       "        vertical-align: top;\n",
       "    }\n",
       "\n",
       "    .dataframe thead th {\n",
       "        text-align: right;\n",
       "    }\n",
       "</style>\n",
       "<table border=\"1\" class=\"dataframe\">\n",
       "  <thead>\n",
       "    <tr style=\"text-align: right;\">\n",
       "      <th></th>\n",
       "      <th>Year</th>\n",
       "      <th>MthAndYrCode</th>\n",
       "      <th>Trust</th>\n",
       "      <th>New_Hospital</th>\n",
       "      <th>Type</th>\n",
       "      <th>FourAndUnder_sum</th>\n",
       "      <th>FiveToTwelve_sum</th>\n",
       "      <th>OverTwelve_sum</th>\n",
       "      <th>Total_sum</th>\n",
       "      <th>% Above Four Weeks</th>\n",
       "    </tr>\n",
       "  </thead>\n",
       "  <tbody>\n",
       "    <tr>\n",
       "      <th>0</th>\n",
       "      <td>2008/09</td>\n",
       "      <td>Apr-08</td>\n",
       "      <td>Belfast Health and Social Care</td>\n",
       "      <td>Belfast City</td>\n",
       "      <td>Type 1</td>\n",
       "      <td>3391.0</td>\n",
       "      <td>473.0</td>\n",
       "      <td>1</td>\n",
       "      <td>3865.0</td>\n",
       "      <td>12.263907</td>\n",
       "    </tr>\n",
       "    <tr>\n",
       "      <th>1</th>\n",
       "      <td>2008/09</td>\n",
       "      <td>Apr-08</td>\n",
       "      <td>Belfast Health and Social Care</td>\n",
       "      <td>Mater</td>\n",
       "      <td>Type 1</td>\n",
       "      <td>3142.0</td>\n",
       "      <td>486.0</td>\n",
       "      <td>0</td>\n",
       "      <td>3628.0</td>\n",
       "      <td>13.395810</td>\n",
       "    </tr>\n",
       "    <tr>\n",
       "      <th>2</th>\n",
       "      <td>2008/09</td>\n",
       "      <td>Apr-08</td>\n",
       "      <td>Belfast Health and Social Care</td>\n",
       "      <td>Royal Victoria</td>\n",
       "      <td>Type 1</td>\n",
       "      <td>5224.0</td>\n",
       "      <td>862.0</td>\n",
       "      <td>0</td>\n",
       "      <td>6086.0</td>\n",
       "      <td>14.163654</td>\n",
       "    </tr>\n",
       "    <tr>\n",
       "      <th>3</th>\n",
       "      <td>2008/09</td>\n",
       "      <td>Apr-08</td>\n",
       "      <td>Belfast Health and Social Care</td>\n",
       "      <td>RBHSC</td>\n",
       "      <td>Type 1</td>\n",
       "      <td>2480.0</td>\n",
       "      <td>398.0</td>\n",
       "      <td>0</td>\n",
       "      <td>2878.0</td>\n",
       "      <td>13.829048</td>\n",
       "    </tr>\n",
       "    <tr>\n",
       "      <th>4</th>\n",
       "      <td>2008/09</td>\n",
       "      <td>Apr-08</td>\n",
       "      <td>Northern Health and Social Care</td>\n",
       "      <td>Antrim Area</td>\n",
       "      <td>Type 1</td>\n",
       "      <td>4728.0</td>\n",
       "      <td>667.0</td>\n",
       "      <td>10</td>\n",
       "      <td>5405.0</td>\n",
       "      <td>12.525439</td>\n",
       "    </tr>\n",
       "  </tbody>\n",
       "</table>\n",
       "</div>"
      ],
      "text/plain": [
       "      Year MthAndYrCode                            Trust    New_Hospital  \\\n",
       "0  2008/09       Apr-08   Belfast Health and Social Care    Belfast City   \n",
       "1  2008/09       Apr-08   Belfast Health and Social Care           Mater   \n",
       "2  2008/09       Apr-08   Belfast Health and Social Care  Royal Victoria   \n",
       "3  2008/09       Apr-08   Belfast Health and Social Care           RBHSC   \n",
       "4  2008/09       Apr-08  Northern Health and Social Care     Antrim Area   \n",
       "\n",
       "     Type  FourAndUnder_sum  FiveToTwelve_sum  OverTwelve_sum  Total_sum  \\\n",
       "0  Type 1            3391.0             473.0               1     3865.0   \n",
       "1  Type 1            3142.0             486.0               0     3628.0   \n",
       "2  Type 1            5224.0             862.0               0     6086.0   \n",
       "3  Type 1            2480.0             398.0               0     2878.0   \n",
       "4  Type 1            4728.0             667.0              10     5405.0   \n",
       "\n",
       "   % Above Four Weeks  \n",
       "0           12.263907  \n",
       "1           13.395810  \n",
       "2           14.163654  \n",
       "3           13.829048  \n",
       "4           12.525439  "
      ]
     },
     "execution_count": 20,
     "metadata": {},
     "output_type": "execute_result"
    }
   ],
   "source": [
    "\n",
    "EmergWL.head()\n",
    "\n"
   ]
  },
  {
   "cell_type": "code",
   "execution_count": 21,
   "metadata": {},
   "outputs": [],
   "source": [
    "#ogr2ogr -t_srs EPSG:4326 -f GeoJSON file.json file.shp"
   ]
  },
  {
   "cell_type": "code",
   "execution_count": 22,
   "metadata": {},
   "outputs": [
    {
     "data": {
      "text/html": [
       "<div>\n",
       "<style scoped>\n",
       "    .dataframe tbody tr th:only-of-type {\n",
       "        vertical-align: middle;\n",
       "    }\n",
       "\n",
       "    .dataframe tbody tr th {\n",
       "        vertical-align: top;\n",
       "    }\n",
       "\n",
       "    .dataframe thead th {\n",
       "        text-align: right;\n",
       "    }\n",
       "</style>\n",
       "<table border=\"1\" class=\"dataframe\">\n",
       "  <thead>\n",
       "    <tr style=\"text-align: right;\">\n",
       "      <th></th>\n",
       "      <th>Hospital</th>\n",
       "      <th>Latitude</th>\n",
       "      <th>Longitude</th>\n",
       "      <th>PC Above Four Weeks</th>\n",
       "    </tr>\n",
       "  </thead>\n",
       "  <tbody>\n",
       "    <tr>\n",
       "      <th>0</th>\n",
       "      <td>Altnagelvin Area</td>\n",
       "      <td>54.985860</td>\n",
       "      <td>-7.292662</td>\n",
       "      <td>25.6263</td>\n",
       "    </tr>\n",
       "    <tr>\n",
       "      <th>1</th>\n",
       "      <td>Antrim Area</td>\n",
       "      <td>54.733760</td>\n",
       "      <td>-6.186880</td>\n",
       "      <td>31.7890</td>\n",
       "    </tr>\n",
       "    <tr>\n",
       "      <th>2</th>\n",
       "      <td>Ards MIU</td>\n",
       "      <td>54.594860</td>\n",
       "      <td>-5.705910</td>\n",
       "      <td>0.0009</td>\n",
       "    </tr>\n",
       "    <tr>\n",
       "      <th>3</th>\n",
       "      <td>Armagh Community</td>\n",
       "      <td>54.350679</td>\n",
       "      <td>-6.642694</td>\n",
       "      <td>0.0078</td>\n",
       "    </tr>\n",
       "    <tr>\n",
       "      <th>4</th>\n",
       "      <td>Bangor MIU</td>\n",
       "      <td>54.350679</td>\n",
       "      <td>-5.662600</td>\n",
       "      <td>0.0025</td>\n",
       "    </tr>\n",
       "  </tbody>\n",
       "</table>\n",
       "</div>"
      ],
      "text/plain": [
       "                          Hospital   Latitude  Longitude  PC Above Four Weeks\n",
       "0  Altnagelvin Area                 54.985860  -7.292662              25.6263\n",
       "1   Antrim Area                     54.733760  -6.186880              31.7890\n",
       "2  Ards MIU                         54.594860  -5.705910               0.0009\n",
       "3  Armagh Community                 54.350679  -6.642694               0.0078\n",
       "4  Bangor MIU                       54.350679  -5.662600               0.0025"
      ]
     },
     "execution_count": 22,
     "metadata": {},
     "output_type": "execute_result"
    }
   ],
   "source": [
    "Results = pd.read_csv(r\"https://raw.githubusercontent.com/KPBreslin/FinalProject/master/Hospitals.csv\")\n",
    "Results.head()\n",
    "\n"
   ]
  },
  {
   "cell_type": "code",
   "execution_count": 23,
   "metadata": {},
   "outputs": [
    {
     "data": {
      "text/plain": [
       "Trust\n",
       "Belfast Health and Social Care          21.523938\n",
       "Northern Health and Social Care         15.255429\n",
       "South Eastern Health and Social Care     9.346911\n",
       "Southern Health and Social Care          9.878856\n",
       "Western Health and Social Care          12.843793\n",
       "Name: % Above Four Weeks, dtype: float64"
      ]
     },
     "execution_count": 23,
     "metadata": {},
     "output_type": "execute_result"
    }
   ],
   "source": [
    "df=EmergWL\n",
    "G=df.groupby('Trust')['% Above Four Weeks'].mean()\n",
    "G"
   ]
  },
  {
   "cell_type": "code",
   "execution_count": 24,
   "metadata": {},
   "outputs": [
    {
     "ename": "SyntaxError",
     "evalue": "invalid syntax (<ipython-input-24-8b0d10bc7ce1>, line 21)",
     "output_type": "error",
     "traceback": [
      "\u001b[1;36m  File \u001b[1;32m\"<ipython-input-24-8b0d10bc7ce1>\"\u001b[1;36m, line \u001b[1;32m21\u001b[0m\n\u001b[1;33m    key_on='feature.properties.TrustName',\u001b[0m\n\u001b[1;37m         ^\u001b[0m\n\u001b[1;31mSyntaxError\u001b[0m\u001b[1;31m:\u001b[0m invalid syntax\n"
     ]
    }
   ],
   "source": [
    "import folium\n",
    "import pandas as pd\n",
    "\n",
    "\n",
    "\n",
    "\n",
    "data=Results\n",
    "markers_geojson=r\"https://www.opendatani.gov.uk/dataset/0b04b46c-49af-45d5-b277-91b10937a01b/resource/645f8eef-8813-47a9-bb1e-a4932ada721a/download/trustboundaries.geojson\";\n",
    "df=EmergWL\n",
    "G=df.groupby('Trust')['% Above Four Weeks'].mean()\n",
    "bins = list(G['% Above Four Weeks'].quantile([0, 0.25, 0.5, 0.75, 1]))\n",
    "\n",
    "TrustMap = folium.Map(location=[54.6, -7.7], tiles=\"Stamen Terrain\", zoom_start=8.45)\n",
    "m=TrustMap\n",
    "folium.GeoJson(markers_geojson).add_to(m)\n",
    "TrustMap.choropleth(geo_data=markers_geojson, data=G,\n",
    "             columns=['Trust', '% Above Four Weeks']\n",
    "                    #'% Above Four Weeks'],\n",
    "            \n",
    "            #threshold_scale = [9,12,15,18,22],\n",
    "             key_on='feature.properties.TrustName',\n",
    "                    #key_on='feature.id',\n",
    "             fill_color='YlGn', fill_opacity=0.7, line_opacity=0.2, \n",
    "             legend_name='% Above Four Weeks', highlight=True, reset=True)\n",
    "\n",
    "\n",
    "\n",
    "data.apply(lambda row:folium.CircleMarker(location=[row[\"Latitude\"], \n",
    "                                                  row[\"Longitude\"]]).add_to(TrustMap),\n",
    "         axis=1)\n",
    "\n",
    "#print(type(markers_geojson))\n",
    "#print(type(choropleth.color_scale))\n",
    "\n",
    "folium.LayerControl(collapsed=True).add_to(m)\n",
    "\n",
    "#\n",
    "\n",
    "# convert to (n, 2) nd-array format for heatmap\n",
    "#Hospitals = Results[['Latitude', 'Longitude']].as_matrix()\n",
    "\n",
    "# plot heatmap\n",
    "#m.add_children(plugins.HeatMap(Hospitals, radius=15))\n",
    "#m\n",
    "\n",
    "TrustMap\n",
    "\n",
    "#df=EmergWL\n",
    "#EmergWL['New_Hospital'].value_counts()\n",
    "#df['% Above Four Weeks']= 100-100*df['FourAndUnder_sum'].divide(df[\"Total_sum\"], fill_value=1) \n",
    "#F=df.groupby('New_Hospital')['% Above Four Weeks'].mean()\n",
    "#F\n",
    "#Results = pd.read_csv(r\"https://raw.githubusercontent.com/KPBreslin/FinalProject/master/Hospitals.csv\")\n",
    "\n",
    "\n",
    "#bin_intervals = list(EmergWL['% Above Four Weeks'].quantile([0, 0.25, 0.5, 0.75, 1]))"
   ]
  },
  {
   "cell_type": "code",
   "execution_count": 25,
   "metadata": {
    "scrolled": true
   },
   "outputs": [
    {
     "name": "stderr",
     "output_type": "stream",
     "text": [
      "C:\\Users\\Pat\\anaconda3\\lib\\site-packages\\folium\\folium.py:415: FutureWarning:\n",
      "\n",
      "The choropleth  method has been deprecated. Instead use the new Choropleth class, which has the same arguments. See the example notebook 'GeoJSON_and_choropleth' for how to do this.\n",
      "\n"
     ]
    },
    {
     "ename": "ValueError",
     "evalue": "key_on `'id'` not found in GeoJSON.",
     "output_type": "error",
     "traceback": [
      "\u001b[1;31m---------------------------------------------------------------------------\u001b[0m",
      "\u001b[1;31mValueError\u001b[0m                                Traceback (most recent call last)",
      "\u001b[1;32m<ipython-input-25-01cd8f4f5650>\u001b[0m in \u001b[0;36m<module>\u001b[1;34m\u001b[0m\n\u001b[0;32m     31\u001b[0m              \u001b[0mkey_on\u001b[0m\u001b[1;33m=\u001b[0m\u001b[1;34m'feature.id'\u001b[0m\u001b[1;33m,\u001b[0m\u001b[1;33m\u001b[0m\u001b[1;33m\u001b[0m\u001b[0m\n\u001b[0;32m     32\u001b[0m              \u001b[0mfill_color\u001b[0m\u001b[1;33m=\u001b[0m\u001b[1;34m'YlGn'\u001b[0m\u001b[1;33m,\u001b[0m \u001b[0mfill_opacity\u001b[0m\u001b[1;33m=\u001b[0m\u001b[1;36m0.7\u001b[0m\u001b[1;33m,\u001b[0m \u001b[0mline_opacity\u001b[0m\u001b[1;33m=\u001b[0m\u001b[1;36m0.2\u001b[0m\u001b[1;33m,\u001b[0m\u001b[1;33m\u001b[0m\u001b[1;33m\u001b[0m\u001b[0m\n\u001b[1;32m---> 33\u001b[1;33m              legend_name='% Above Four Weeks', reset=True)\n\u001b[0m\u001b[0;32m     34\u001b[0m \u001b[1;31m#'YlGn'\u001b[0m\u001b[1;33m\u001b[0m\u001b[1;33m\u001b[0m\u001b[1;33m\u001b[0m\u001b[0m\n\u001b[0;32m     35\u001b[0m \u001b[1;33m\u001b[0m\u001b[0m\n",
      "\u001b[1;32m~\\anaconda3\\lib\\site-packages\\folium\\folium.py\u001b[0m in \u001b[0;36mchoropleth\u001b[1;34m(self, *args, **kwargs)\u001b[0m\n\u001b[0;32m    416\u001b[0m         )\n\u001b[0;32m    417\u001b[0m         \u001b[1;32mfrom\u001b[0m \u001b[0mfolium\u001b[0m\u001b[1;33m.\u001b[0m\u001b[0mfeatures\u001b[0m \u001b[1;32mimport\u001b[0m \u001b[0mChoropleth\u001b[0m\u001b[1;33m\u001b[0m\u001b[1;33m\u001b[0m\u001b[0m\n\u001b[1;32m--> 418\u001b[1;33m         \u001b[0mself\u001b[0m\u001b[1;33m.\u001b[0m\u001b[0madd_child\u001b[0m\u001b[1;33m(\u001b[0m\u001b[0mChoropleth\u001b[0m\u001b[1;33m(\u001b[0m\u001b[1;33m*\u001b[0m\u001b[0margs\u001b[0m\u001b[1;33m,\u001b[0m \u001b[1;33m**\u001b[0m\u001b[0mkwargs\u001b[0m\u001b[1;33m)\u001b[0m\u001b[1;33m)\u001b[0m\u001b[1;33m\u001b[0m\u001b[1;33m\u001b[0m\u001b[0m\n\u001b[0m\u001b[0;32m    419\u001b[0m \u001b[1;33m\u001b[0m\u001b[0m\n\u001b[0;32m    420\u001b[0m     \u001b[1;32mdef\u001b[0m \u001b[0mkeep_in_front\u001b[0m\u001b[1;33m(\u001b[0m\u001b[0mself\u001b[0m\u001b[1;33m,\u001b[0m \u001b[1;33m*\u001b[0m\u001b[0margs\u001b[0m\u001b[1;33m)\u001b[0m\u001b[1;33m:\u001b[0m\u001b[1;33m\u001b[0m\u001b[1;33m\u001b[0m\u001b[0m\n",
      "\u001b[1;32m~\\anaconda3\\lib\\site-packages\\folium\\features.py\u001b[0m in \u001b[0;36m__init__\u001b[1;34m(self, geo_data, data, columns, key_on, bins, fill_color, nan_fill_color, fill_opacity, nan_fill_opacity, line_color, line_weight, line_opacity, name, legend_name, overlay, control, show, topojson, smooth_factor, highlight, **kwargs)\u001b[0m\n\u001b[0;32m   1156\u001b[0m                 \u001b[0mstyle_function\u001b[0m\u001b[1;33m=\u001b[0m\u001b[0mstyle_function\u001b[0m\u001b[1;33m,\u001b[0m\u001b[1;33m\u001b[0m\u001b[1;33m\u001b[0m\u001b[0m\n\u001b[0;32m   1157\u001b[0m                 \u001b[0msmooth_factor\u001b[0m\u001b[1;33m=\u001b[0m\u001b[0msmooth_factor\u001b[0m\u001b[1;33m,\u001b[0m\u001b[1;33m\u001b[0m\u001b[1;33m\u001b[0m\u001b[0m\n\u001b[1;32m-> 1158\u001b[1;33m                 highlight_function=highlight_function if highlight else None)\n\u001b[0m\u001b[0;32m   1159\u001b[0m \u001b[1;33m\u001b[0m\u001b[0m\n\u001b[0;32m   1160\u001b[0m         \u001b[0mself\u001b[0m\u001b[1;33m.\u001b[0m\u001b[0madd_child\u001b[0m\u001b[1;33m(\u001b[0m\u001b[0mself\u001b[0m\u001b[1;33m.\u001b[0m\u001b[0mgeojson\u001b[0m\u001b[1;33m)\u001b[0m\u001b[1;33m\u001b[0m\u001b[1;33m\u001b[0m\u001b[0m\n",
      "\u001b[1;32m~\\anaconda3\\lib\\site-packages\\folium\\features.py\u001b[0m in \u001b[0;36m__init__\u001b[1;34m(self, data, style_function, highlight_function, name, overlay, control, show, smooth_factor, tooltip, embed)\u001b[0m\n\u001b[0;32m    455\u001b[0m             \u001b[0mself\u001b[0m\u001b[1;33m.\u001b[0m\u001b[0mconvert_to_feature_collection\u001b[0m\u001b[1;33m(\u001b[0m\u001b[1;33m)\u001b[0m\u001b[1;33m\u001b[0m\u001b[1;33m\u001b[0m\u001b[0m\n\u001b[0;32m    456\u001b[0m             \u001b[1;32mif\u001b[0m \u001b[0mself\u001b[0m\u001b[1;33m.\u001b[0m\u001b[0mstyle\u001b[0m\u001b[1;33m:\u001b[0m\u001b[1;33m\u001b[0m\u001b[1;33m\u001b[0m\u001b[0m\n\u001b[1;32m--> 457\u001b[1;33m                 \u001b[0mself\u001b[0m\u001b[1;33m.\u001b[0m\u001b[0m_validate_function\u001b[0m\u001b[1;33m(\u001b[0m\u001b[0mstyle_function\u001b[0m\u001b[1;33m,\u001b[0m \u001b[1;34m'style_function'\u001b[0m\u001b[1;33m)\u001b[0m\u001b[1;33m\u001b[0m\u001b[1;33m\u001b[0m\u001b[0m\n\u001b[0m\u001b[0;32m    458\u001b[0m                 \u001b[0mself\u001b[0m\u001b[1;33m.\u001b[0m\u001b[0mstyle_function\u001b[0m \u001b[1;33m=\u001b[0m \u001b[0mstyle_function\u001b[0m\u001b[1;33m\u001b[0m\u001b[1;33m\u001b[0m\u001b[0m\n\u001b[0;32m    459\u001b[0m                 \u001b[0mself\u001b[0m\u001b[1;33m.\u001b[0m\u001b[0mstyle_map\u001b[0m \u001b[1;33m=\u001b[0m \u001b[1;33m{\u001b[0m\u001b[1;33m}\u001b[0m\u001b[1;33m\u001b[0m\u001b[1;33m\u001b[0m\u001b[0m\n",
      "\u001b[1;32m~\\anaconda3\\lib\\site-packages\\folium\\features.py\u001b[0m in \u001b[0;36m_validate_function\u001b[1;34m(self, func, name)\u001b[0m\n\u001b[0;32m    518\u001b[0m         \"\"\"\n\u001b[0;32m    519\u001b[0m         \u001b[0mtest_feature\u001b[0m \u001b[1;33m=\u001b[0m \u001b[0mself\u001b[0m\u001b[1;33m.\u001b[0m\u001b[0mdata\u001b[0m\u001b[1;33m[\u001b[0m\u001b[1;34m'features'\u001b[0m\u001b[1;33m]\u001b[0m\u001b[1;33m[\u001b[0m\u001b[1;36m0\u001b[0m\u001b[1;33m]\u001b[0m\u001b[1;33m\u001b[0m\u001b[1;33m\u001b[0m\u001b[0m\n\u001b[1;32m--> 520\u001b[1;33m         \u001b[1;32mif\u001b[0m \u001b[1;32mnot\u001b[0m \u001b[0mcallable\u001b[0m\u001b[1;33m(\u001b[0m\u001b[0mfunc\u001b[0m\u001b[1;33m)\u001b[0m \u001b[1;32mor\u001b[0m \u001b[1;32mnot\u001b[0m \u001b[0misinstance\u001b[0m\u001b[1;33m(\u001b[0m\u001b[0mfunc\u001b[0m\u001b[1;33m(\u001b[0m\u001b[0mtest_feature\u001b[0m\u001b[1;33m)\u001b[0m\u001b[1;33m,\u001b[0m \u001b[0mdict\u001b[0m\u001b[1;33m)\u001b[0m\u001b[1;33m:\u001b[0m\u001b[1;33m\u001b[0m\u001b[1;33m\u001b[0m\u001b[0m\n\u001b[0m\u001b[0;32m    521\u001b[0m             raise ValueError('{} should be a function that accepts items from '\n\u001b[0;32m    522\u001b[0m                              \u001b[1;34m'data[\\'features\\'] and returns a dictionary.'\u001b[0m\u001b[1;33m\u001b[0m\u001b[1;33m\u001b[0m\u001b[0m\n",
      "\u001b[1;32m~\\anaconda3\\lib\\site-packages\\folium\\features.py\u001b[0m in \u001b[0;36mstyle_function\u001b[1;34m(x)\u001b[0m\n\u001b[0;32m   1130\u001b[0m \u001b[1;33m\u001b[0m\u001b[0m\n\u001b[0;32m   1131\u001b[0m         \u001b[1;32mdef\u001b[0m \u001b[0mstyle_function\u001b[0m\u001b[1;33m(\u001b[0m\u001b[0mx\u001b[0m\u001b[1;33m)\u001b[0m\u001b[1;33m:\u001b[0m\u001b[1;33m\u001b[0m\u001b[1;33m\u001b[0m\u001b[0m\n\u001b[1;32m-> 1132\u001b[1;33m             \u001b[0mcolor\u001b[0m\u001b[1;33m,\u001b[0m \u001b[0mopacity\u001b[0m \u001b[1;33m=\u001b[0m \u001b[0mcolor_scale_fun\u001b[0m\u001b[1;33m(\u001b[0m\u001b[0mx\u001b[0m\u001b[1;33m)\u001b[0m\u001b[1;33m\u001b[0m\u001b[1;33m\u001b[0m\u001b[0m\n\u001b[0m\u001b[0;32m   1133\u001b[0m             return {\n\u001b[0;32m   1134\u001b[0m                 \u001b[1;34m'weight'\u001b[0m\u001b[1;33m:\u001b[0m \u001b[0mline_weight\u001b[0m\u001b[1;33m,\u001b[0m\u001b[1;33m\u001b[0m\u001b[1;33m\u001b[0m\u001b[0m\n",
      "\u001b[1;32m~\\anaconda3\\lib\\site-packages\\folium\\features.py\u001b[0m in \u001b[0;36mcolor_scale_fun\u001b[1;34m(x)\u001b[0m\n\u001b[0;32m   1113\u001b[0m                 \u001b[0mkey_of_x\u001b[0m \u001b[1;33m=\u001b[0m \u001b[0mget_by_key\u001b[0m\u001b[1;33m(\u001b[0m\u001b[0mx\u001b[0m\u001b[1;33m,\u001b[0m \u001b[0mkey_on\u001b[0m\u001b[1;33m)\u001b[0m\u001b[1;33m\u001b[0m\u001b[1;33m\u001b[0m\u001b[0m\n\u001b[0;32m   1114\u001b[0m                 \u001b[1;32mif\u001b[0m \u001b[0mkey_of_x\u001b[0m \u001b[1;32mis\u001b[0m \u001b[1;32mNone\u001b[0m\u001b[1;33m:\u001b[0m\u001b[1;33m\u001b[0m\u001b[1;33m\u001b[0m\u001b[0m\n\u001b[1;32m-> 1115\u001b[1;33m                     \u001b[1;32mraise\u001b[0m \u001b[0mValueError\u001b[0m\u001b[1;33m(\u001b[0m\u001b[1;34m\"key_on `{!r}` not found in GeoJSON.\"\u001b[0m\u001b[1;33m.\u001b[0m\u001b[0mformat\u001b[0m\u001b[1;33m(\u001b[0m\u001b[0mkey_on\u001b[0m\u001b[1;33m)\u001b[0m\u001b[1;33m)\u001b[0m\u001b[1;33m\u001b[0m\u001b[1;33m\u001b[0m\u001b[0m\n\u001b[0m\u001b[0;32m   1116\u001b[0m \u001b[1;33m\u001b[0m\u001b[0m\n\u001b[0;32m   1117\u001b[0m                 \u001b[1;32mif\u001b[0m \u001b[0mkey_of_x\u001b[0m \u001b[1;32mnot\u001b[0m \u001b[1;32min\u001b[0m \u001b[0mcolor_data\u001b[0m\u001b[1;33m.\u001b[0m\u001b[0mkeys\u001b[0m\u001b[1;33m(\u001b[0m\u001b[1;33m)\u001b[0m\u001b[1;33m:\u001b[0m\u001b[1;33m\u001b[0m\u001b[1;33m\u001b[0m\u001b[0m\n",
      "\u001b[1;31mValueError\u001b[0m: key_on `'id'` not found in GeoJSON."
     ]
    }
   ],
   "source": [
    "\n",
    "import folium\n",
    "import pandas as pd\n",
    "#data=Results\n",
    "markers_geojson=r\"https://www.opendatani.gov.uk/dataset/0b04b46c-49af-45d5-b277-91b10937a01b/resource/645f8eef-8813-47a9-bb1e-a4932ada721a/download/trustboundaries.geojson\";\n",
    "TrustMap = folium.Map(location=[54.6, -7.7], tiles=\"Stamen Terrain\", zoom_start=8.45)\n",
    "#m=TrustMap\n",
    "#data.apply(lambda row:folium.CircleMarker(location=[row[\"Latitude\"], \n",
    "#                                                  row[\"Longitude\"]]).add_to(TrustMap),\n",
    "#         axis=1)\n",
    "#folium.GeoJson(markers_geojson).add_to(m)\n",
    "\n",
    "#TrustMap\n",
    "\n",
    "\n",
    "#import pandas as pd\n",
    "\n",
    "\n",
    "#url = 'https://raw.githubusercontent.com/python-visualization/folium/master/examples/data'\n",
    "#state_geo = f'{url}/us-states.json'\n",
    "#state_unemployment = f'{url}/US_Unemployment_Oct2012.csv'\n",
    "\n",
    "\n",
    "\n",
    "m = folium.Map(location=[54.6, -7.7], zoom_start=8.45)\n",
    "\n",
    "bins = list(EmergWL['% Above Four Weeks'].quantile([0, 0.25, 0.5, 0.75, 1]))\n",
    "\n",
    "\n",
    "TrustMap.choropleth(geo_data=markers_geojson, data=EmergWL,\n",
    "             columns=['Trust', '% Above Four Weeks'],\n",
    "             key_on='feature.id',\n",
    "             fill_color='YlGn', fill_opacity=0.7, line_opacity=0.2, \n",
    "             legend_name='% Above Four Weeks', reset=True)\n",
    "#'YlGn'\n",
    "\n",
    "\n",
    "folium.LayerControl().add_to(m)\n"
   ]
  },
  {
   "cell_type": "raw",
   "metadata": {
    "scrolled": false
   },
   "source": [
    "\n",
    "EmergWL['New_Hospital'].value_counts()\n",
    "\n",
    "EmergWL.hist(column='Total_sum', bins=50)\n",
    "EmergWL.hist(column='FourAndUnder_sum', bins=50)\n",
    "EmergWL.columns\n",
    "\n",
    "X = EmergWL[['FourAndUnder_sum', 'FiveToTwelve_sum', 'OverTwelve_sum', 'Total_sum']] .values #.astype(float)\n",
    "X[0:5]\n",
    "\n",
    "y = EmergWL['New_Hospital'].values\n",
    "y[0:5]\n",
    "\n",
    "X = preprocessing.StandardScaler().fit(X).transform(X.astype(float))\n",
    "X[0:5]\n",
    "\n",
    "from sklearn.model_selection import train_test_split\n",
    "X_train, X_test, y_train, y_test = train_test_split( X, y, test_size=0.2, random_state=4)\n",
    "print ('Train set:', X_train.shape,  y_train.shape)\n",
    "print ('Test set:', X_test.shape,  y_test.shape)\n",
    "\n",
    "from sklearn.neighbors import KNeighborsClassifier\n",
    "k = 40\n",
    "#Train Model and Predict  \n",
    "neigh = KNeighborsClassifier(n_neighbors = k).fit(X_train,y_train)\n",
    "neigh\n",
    "\n",
    "yhat = neigh.predict(X_test)\n",
    "yhat[0:5]\n",
    "\n",
    "from sklearn import metrics\n",
    "print(\"Train set Accuracy: \", metrics.accuracy_score(y_train, neigh.predict(X_train)))\n",
    "print(\"Test set Accuracy: \", metrics.accuracy_score(y_test, yhat))\n",
    "\n"
   ]
  },
  {
   "cell_type": "code",
   "execution_count": null,
   "metadata": {},
   "outputs": [],
   "source": [
    "Ks = 15\n",
    "mean_acc = np.zeros((Ks-1))\n",
    "std_acc = np.zeros((Ks-1))\n",
    "ConfustionMx = [];\n",
    "for n in range(1,Ks):\n",
    "    \n",
    "    #Train Model and Predict  \n",
    "    neigh = KNeighborsClassifier(n_neighbors = n).fit(X_train,y_train)\n",
    "    yhat=neigh.predict(X_test)\n",
    "    mean_acc[n-1] = metrics.accuracy_score(y_test, yhat)\n",
    "\n",
    "    \n",
    "    std_acc[n-1]=np.std(yhat==y_test)/np.sqrt(yhat.shape[0])\n",
    "\n",
    "mean_acc"
   ]
  },
  {
   "cell_type": "code",
   "execution_count": null,
   "metadata": {},
   "outputs": [],
   "source": [
    "plt.plot(range(1,Ks),mean_acc,'g')\n",
    "plt.fill_between(range(1,Ks),mean_acc - 1 * std_acc,mean_acc + 1 * std_acc, alpha=0.10)\n",
    "plt.legend(('Accuracy ', '+/- 3xstd'))\n",
    "plt.ylabel('Accuracy ')\n",
    "plt.xlabel('Number of Neighbours (K)')\n",
    "plt.tight_layout()\n",
    "plt.show()\n",
    "print( \"The best accuracy was with\", mean_acc.max(), \"with k=\", mean_acc.argmax()+1)"
   ]
  },
  {
   "cell_type": "code",
   "execution_count": null,
   "metadata": {},
   "outputs": [],
   "source": []
  },
  {
   "cell_type": "code",
   "execution_count": 26,
   "metadata": {
    "scrolled": true
   },
   "outputs": [
    {
     "name": "stdout",
     "output_type": "stream",
     "text": [
      "Train set: (1892, 4) (1892,)\n",
      "Test set: (473, 4) (473,)\n",
      "Train set Accuracy:  0.5972515856236786\n",
      "Test set Accuracy:  0.5983086680761099\n"
     ]
    },
    {
     "data": {
      "image/png": "[encoded data removed]",
      "text/plain": [
       "<Figure size 432x288 with 1 Axes>"
      ]
     },
     "metadata": {
      "needs_background": "light"
     },
     "output_type": "display_data"
    },
    {
     "data": {
      "image/png": "[encoded data removed]",
      "text/plain": [
       "<Figure size 432x288 with 1 Axes>"
      ]
     },
     "metadata": {
      "needs_background": "light"
     },
     "output_type": "display_data"
    }
   ],
   "source": [
    "\n",
    "EmergWL['New_Hospital'].value_counts()\n",
    "\n",
    "EmergWL.hist(column='Total_sum', bins=50)\n",
    "EmergWL.hist(column='FourAndUnder_sum', bins=50)\n",
    "EmergWL.columns\n",
    "\n",
    "X = EmergWL[['FourAndUnder_sum', 'FiveToTwelve_sum', 'OverTwelve_sum', 'Total_sum']] .values #.astype(float)\n",
    "X[0:5]\n",
    "\n",
    "y = EmergWL['Trust'].values\n",
    "y[0:5]\n",
    "\n",
    "X = preprocessing.StandardScaler().fit(X).transform(X.astype(float))\n",
    "X[0:5]\n",
    "\n",
    "from sklearn.model_selection import train_test_split\n",
    "X_train, X_test, y_train, y_test = train_test_split( X, y, test_size=0.2, random_state=4)\n",
    "print ('Train set:', X_train.shape,  y_train.shape)\n",
    "print ('Test set:', X_test.shape,  y_test.shape)\n",
    "\n",
    "from sklearn.neighbors import KNeighborsClassifier\n",
    "k = 40\n",
    "#Train Model and Predict  \n",
    "neigh = KNeighborsClassifier(n_neighbors = k).fit(X_train,y_train)\n",
    "neigh\n",
    "\n",
    "yhat = neigh.predict(X_test)\n",
    "yhat[0:5]\n",
    "\n",
    "from sklearn import metrics\n",
    "print(\"Train set Accuracy: \", metrics.accuracy_score(y_train, neigh.predict(X_train)))\n",
    "print(\"Test set Accuracy: \", metrics.accuracy_score(y_test, yhat))\n",
    "\n"
   ]
  },
  {
   "cell_type": "code",
   "execution_count": 27,
   "metadata": {},
   "outputs": [
    {
     "data": {
      "text/plain": [
       "array([0.56659619, 0.54545455, 0.57716702, 0.59830867, 0.59830867,\n",
       "       0.59408034, 0.61733615, 0.59196617, 0.60887949, 0.59830867,\n",
       "       0.59830867, 0.60465116, 0.60887949, 0.60887949])"
      ]
     },
     "execution_count": 27,
     "metadata": {},
     "output_type": "execute_result"
    }
   ],
   "source": [
    "Ks = 15\n",
    "mean_acc = np.zeros((Ks-1))\n",
    "std_acc = np.zeros((Ks-1))\n",
    "ConfustionMx = [];\n",
    "for n in range(1,Ks):\n",
    "    \n",
    "    #Train Model and Predict  \n",
    "    neigh = KNeighborsClassifier(n_neighbors = n).fit(X_train,y_train)\n",
    "    yhat=neigh.predict(X_test)\n",
    "    mean_acc[n-1] = metrics.accuracy_score(y_test, yhat)\n",
    "\n",
    "    \n",
    "    std_acc[n-1]=np.std(yhat==y_test)/np.sqrt(yhat.shape[0])\n",
    "\n",
    "mean_acc"
   ]
  },
  {
   "cell_type": "code",
   "execution_count": 28,
   "metadata": {
    "scrolled": true
   },
   "outputs": [
    {
     "data": {
      "image/png": "[encoded data removed]",
      "text/plain": [
       "<Figure size 432x288 with 1 Axes>"
      ]
     },
     "metadata": {
      "needs_background": "light"
     },
     "output_type": "display_data"
    },
    {
     "name": "stdout",
     "output_type": "stream",
     "text": [
      "The best accuracy was with 0.6173361522198731 with k= 7\n"
     ]
    }
   ],
   "source": [
    "plt.plot(range(1,Ks),mean_acc,'g')\n",
    "plt.fill_between(range(1,Ks),mean_acc - 1 * std_acc,mean_acc + 1 * std_acc, alpha=0.10)\n",
    "plt.legend(('Accuracy ', '+/- 3xstd'))\n",
    "plt.ylabel('Accuracy ')\n",
    "plt.xlabel('Number of Neighbours (K)')\n",
    "plt.tight_layout()\n",
    "plt.show()\n",
    "print( \"The best accuracy was with\", mean_acc.max(), \"with k=\", mean_acc.argmax()+1)"
   ]
  },
  {
   "cell_type": "code",
   "execution_count": 29,
   "metadata": {
    "scrolled": false
   },
   "outputs": [
    {
     "name": "stdout",
     "output_type": "stream",
     "text": [
      "Train set: (1892, 4) (1892,)\n",
      "Test set: (473, 4) (473,)\n",
      "Train set Accuracy:  0.5972515856236786\n",
      "Test set Accuracy:  0.5983086680761099\n"
     ]
    },
    {
     "data": {
      "image/png": "[encoded data removed]",
      "text/plain": [
       "<Figure size 432x288 with 1 Axes>"
      ]
     },
     "metadata": {
      "needs_background": "light"
     },
     "output_type": "display_data"
    },
    {
     "data": {
      "image/png": "[encoded data removed]",
      "text/plain": [
       "<Figure size 432x288 with 1 Axes>"
      ]
     },
     "metadata": {
      "needs_background": "light"
     },
     "output_type": "display_data"
    }
   ],
   "source": [
    "\n",
    "EmergWL['Trust'].value_counts()\n",
    "\n",
    "EmergWL.hist(column='Total_sum', bins=50)\n",
    "EmergWL.hist(column='FourAndUnder_sum', bins=50)\n",
    "EmergWL.columns\n",
    "\n",
    "X = EmergWL[['FourAndUnder_sum', 'FiveToTwelve_sum', 'OverTwelve_sum', 'Total_sum']] .values #.astype(float)\n",
    "X[0:5]\n",
    "\n",
    "y = EmergWL['Trust'].values\n",
    "y[0:5]\n",
    "\n",
    "X = preprocessing.StandardScaler().fit(X).transform(X.astype(float))\n",
    "X[0:5]\n",
    "\n",
    "from sklearn.model_selection import train_test_split\n",
    "X_train, X_test, y_train, y_test = train_test_split( X, y, test_size=0.2, random_state=4)\n",
    "print ('Train set:', X_train.shape,  y_train.shape)\n",
    "print ('Test set:', X_test.shape,  y_test.shape)\n",
    "\n",
    "from sklearn.neighbors import KNeighborsClassifier\n",
    "k = 40\n",
    "#Train Model and Predict  \n",
    "neigh = KNeighborsClassifier(n_neighbors = k).fit(X_train,y_train)\n",
    "neigh\n",
    "\n",
    "yhat = neigh.predict(X_test)\n",
    "yhat[0:5]\n",
    "\n",
    "from sklearn import metrics\n",
    "print(\"Train set Accuracy: \", metrics.accuracy_score(y_train, neigh.predict(X_train)))\n",
    "print(\"Test set Accuracy: \", metrics.accuracy_score(y_test, yhat))\n",
    "\n"
   ]
  },
  {
   "cell_type": "code",
   "execution_count": 30,
   "metadata": {},
   "outputs": [
    {
     "data": {
      "text/plain": [
       "array([0.56659619, 0.54545455, 0.57716702, 0.59830867, 0.59830867,\n",
       "       0.59408034, 0.61733615, 0.59196617, 0.60887949, 0.59830867,\n",
       "       0.59830867, 0.60465116, 0.60887949, 0.60887949])"
      ]
     },
     "execution_count": 30,
     "metadata": {},
     "output_type": "execute_result"
    }
   ],
   "source": [
    "Ks = 15\n",
    "mean_acc = np.zeros((Ks-1))\n",
    "std_acc = np.zeros((Ks-1))\n",
    "ConfustionMx = [];\n",
    "for n in range(1,Ks):\n",
    "    \n",
    "    #Train Model and Predict  \n",
    "    neigh = KNeighborsClassifier(n_neighbors = n).fit(X_train,y_train)\n",
    "    yhat=neigh.predict(X_test)\n",
    "    mean_acc[n-1] = metrics.accuracy_score(y_test, yhat)\n",
    "\n",
    "    \n",
    "    std_acc[n-1]=np.std(yhat==y_test)/np.sqrt(yhat.shape[0])\n",
    "\n",
    "mean_acc"
   ]
  },
  {
   "cell_type": "code",
   "execution_count": 31,
   "metadata": {},
   "outputs": [
    {
     "data": {
      "image/png": "[encoded data removed]",
      "text/plain": [
       "<Figure size 432x288 with 1 Axes>"
      ]
     },
     "metadata": {
      "needs_background": "light"
     },
     "output_type": "display_data"
    },
    {
     "name": "stdout",
     "output_type": "stream",
     "text": [
      "The best accuracy was with 0.6173361522198731 with k= 7\n"
     ]
    }
   ],
   "source": [
    "plt.plot(range(1,Ks),mean_acc,'g')\n",
    "plt.fill_between(range(1,Ks),mean_acc - 1 * std_acc,mean_acc + 1 * std_acc, alpha=0.10)\n",
    "plt.legend(('Accuracy ', '+/- 3xstd'))\n",
    "plt.ylabel('Accuracy ')\n",
    "plt.xlabel('Number of Neighbours (K)')\n",
    "plt.tight_layout()\n",
    "plt.show()\n",
    "print( \"The best accuracy was with\", mean_acc.max(), \"with k=\", mean_acc.argmax()+1)"
   ]
  },
  {
   "cell_type": "code",
   "execution_count": null,
   "metadata": {},
   "outputs": [],
   "source": []
  },
  {
   "cell_type": "code",
   "execution_count": 32,
   "metadata": {},
   "outputs": [
    {
     "data": {
      "text/html": [
       "<div>\n",
       "<style scoped>\n",
       "    .dataframe tbody tr th:only-of-type {\n",
       "        vertical-align: middle;\n",
       "    }\n",
       "\n",
       "    .dataframe tbody tr th {\n",
       "        vertical-align: top;\n",
       "    }\n",
       "\n",
       "    .dataframe thead th {\n",
       "        text-align: right;\n",
       "    }\n",
       "</style>\n",
       "<table border=\"1\" class=\"dataframe\">\n",
       "  <thead>\n",
       "    <tr style=\"text-align: right;\">\n",
       "      <th></th>\n",
       "      <th>Quarter Ending</th>\n",
       "      <th>HSC Trust</th>\n",
       "      <th>Diagnostic Service</th>\n",
       "      <th>Recommended Waiting Time</th>\n",
       "      <th>Category</th>\n",
       "      <th>0 - 6 weeks</th>\n",
       "      <th>&gt; 6 - 9 weeks</th>\n",
       "      <th>&gt; 9 - 13 weeks</th>\n",
       "      <th>&gt; 13 - 21 weeks</th>\n",
       "      <th>&gt; 21 - 26 weeks</th>\n",
       "      <th>&gt; 26 weeks</th>\n",
       "      <th>&gt; 26 - 36 weeks</th>\n",
       "      <th>&gt; 36 weeks</th>\n",
       "      <th>&gt; 36 - 52 weeks</th>\n",
       "      <th>&gt; 52 - 65 weeks</th>\n",
       "      <th>&gt; 65 - 78 weeks</th>\n",
       "      <th>&gt; 78 weeks</th>\n",
       "      <th>Total</th>\n",
       "    </tr>\n",
       "  </thead>\n",
       "  <tbody>\n",
       "    <tr>\n",
       "      <th>0</th>\n",
       "      <td>31-Mar-08</td>\n",
       "      <td>Belfast</td>\n",
       "      <td>Barium Studies</td>\n",
       "      <td>9 week</td>\n",
       "      <td>Imaging</td>\n",
       "      <td>256.0</td>\n",
       "      <td>0.0</td>\n",
       "      <td>60.0</td>\n",
       "      <td>0.0</td>\n",
       "      <td>0.0</td>\n",
       "      <td>0.0</td>\n",
       "      <td>NaN</td>\n",
       "      <td>0.0</td>\n",
       "      <td>NaN</td>\n",
       "      <td>NaN</td>\n",
       "      <td>NaN</td>\n",
       "      <td>NaN</td>\n",
       "      <td>316.0</td>\n",
       "    </tr>\n",
       "    <tr>\n",
       "      <th>1</th>\n",
       "      <td>31-Mar-08</td>\n",
       "      <td>Belfast</td>\n",
       "      <td>Colonoscopy</td>\n",
       "      <td>13 week</td>\n",
       "      <td>Endoscopy</td>\n",
       "      <td>269.0</td>\n",
       "      <td>0.0</td>\n",
       "      <td>270.0</td>\n",
       "      <td>128.0</td>\n",
       "      <td>0.0</td>\n",
       "      <td>0.0</td>\n",
       "      <td>NaN</td>\n",
       "      <td>0.0</td>\n",
       "      <td>NaN</td>\n",
       "      <td>NaN</td>\n",
       "      <td>NaN</td>\n",
       "      <td>NaN</td>\n",
       "      <td>667.0</td>\n",
       "    </tr>\n",
       "    <tr>\n",
       "      <th>2</th>\n",
       "      <td>31-Mar-08</td>\n",
       "      <td>Belfast</td>\n",
       "      <td>Computerised Tomography</td>\n",
       "      <td>9 week</td>\n",
       "      <td>Imaging</td>\n",
       "      <td>907.0</td>\n",
       "      <td>0.0</td>\n",
       "      <td>346.0</td>\n",
       "      <td>0.0</td>\n",
       "      <td>0.0</td>\n",
       "      <td>0.0</td>\n",
       "      <td>NaN</td>\n",
       "      <td>0.0</td>\n",
       "      <td>NaN</td>\n",
       "      <td>NaN</td>\n",
       "      <td>NaN</td>\n",
       "      <td>NaN</td>\n",
       "      <td>1253.0</td>\n",
       "    </tr>\n",
       "    <tr>\n",
       "      <th>3</th>\n",
       "      <td>31-Mar-08</td>\n",
       "      <td>Belfast</td>\n",
       "      <td>Cystoscopy</td>\n",
       "      <td>13 week</td>\n",
       "      <td>Endoscopy</td>\n",
       "      <td>371.0</td>\n",
       "      <td>0.0</td>\n",
       "      <td>258.0</td>\n",
       "      <td>160.0</td>\n",
       "      <td>0.0</td>\n",
       "      <td>0.0</td>\n",
       "      <td>NaN</td>\n",
       "      <td>0.0</td>\n",
       "      <td>NaN</td>\n",
       "      <td>NaN</td>\n",
       "      <td>NaN</td>\n",
       "      <td>NaN</td>\n",
       "      <td>789.0</td>\n",
       "    </tr>\n",
       "    <tr>\n",
       "      <th>4</th>\n",
       "      <td>31-Mar-08</td>\n",
       "      <td>Belfast</td>\n",
       "      <td>DEXA Scan</td>\n",
       "      <td>9 week</td>\n",
       "      <td>Imaging</td>\n",
       "      <td>281.0</td>\n",
       "      <td>0.0</td>\n",
       "      <td>325.0</td>\n",
       "      <td>0.0</td>\n",
       "      <td>0.0</td>\n",
       "      <td>0.0</td>\n",
       "      <td>NaN</td>\n",
       "      <td>0.0</td>\n",
       "      <td>NaN</td>\n",
       "      <td>NaN</td>\n",
       "      <td>NaN</td>\n",
       "      <td>NaN</td>\n",
       "      <td>606.0</td>\n",
       "    </tr>\n",
       "  </tbody>\n",
       "</table>\n",
       "</div>"
      ],
      "text/plain": [
       "  Quarter Ending HSC Trust       Diagnostic Service Recommended Waiting Time  \\\n",
       "0      31-Mar-08   Belfast           Barium Studies                   9 week   \n",
       "1      31-Mar-08   Belfast              Colonoscopy                  13 week   \n",
       "2      31-Mar-08   Belfast  Computerised Tomography                   9 week   \n",
       "3      31-Mar-08   Belfast               Cystoscopy                  13 week   \n",
       "4      31-Mar-08   Belfast                DEXA Scan                   9 week   \n",
       "\n",
       "    Category  0 - 6 weeks  > 6 - 9 weeks  > 9 - 13 weeks  > 13 - 21 weeks  \\\n",
       "0    Imaging        256.0            0.0            60.0              0.0   \n",
       "1  Endoscopy        269.0            0.0           270.0            128.0   \n",
       "2    Imaging        907.0            0.0           346.0              0.0   \n",
       "3  Endoscopy        371.0            0.0           258.0            160.0   \n",
       "4    Imaging        281.0            0.0           325.0              0.0   \n",
       "\n",
       "   > 21 - 26 weeks  > 26 weeks  > 26 - 36 weeks  > 36 weeks  > 36 - 52 weeks  \\\n",
       "0              0.0         0.0              NaN         0.0              NaN   \n",
       "1              0.0         0.0              NaN         0.0              NaN   \n",
       "2              0.0         0.0              NaN         0.0              NaN   \n",
       "3              0.0         0.0              NaN         0.0              NaN   \n",
       "4              0.0         0.0              NaN         0.0              NaN   \n",
       "\n",
       "   > 52 - 65 weeks  > 65 - 78 weeks  > 78 weeks   Total  \n",
       "0              NaN              NaN         NaN   316.0  \n",
       "1              NaN              NaN         NaN   667.0  \n",
       "2              NaN              NaN         NaN  1253.0  \n",
       "3              NaN              NaN         NaN   789.0  \n",
       "4              NaN              NaN         NaN   606.0  "
      ]
     },
     "execution_count": 32,
     "metadata": {},
     "output_type": "execute_result"
    }
   ],
   "source": [
    "\n",
    "#P=DiagnosticWT.groupby('Month')[\"% reported within 2 days\",\"% reported within 2 weeks\",\"% reported within 4 weeks\"].mean()\n",
    "#P.plot.line()\n",
    "#Q=DiagnosticWT.groupby('Category of test')[\"% reported within 2 days\",\"% reported within 2 weeks\",\"% reported within 4 weeks\"].mean()\n",
    "#Q.plot.barh()\n",
    "DiagnosticWT.head()"
   ]
  },
  {
   "cell_type": "code",
   "execution_count": 33,
   "metadata": {},
   "outputs": [
    {
     "name": "stdout",
     "output_type": "stream",
     "text": [
      "<class 'pandas.core.frame.DataFrame'>\n",
      "Int64Index: 8579 entries, 0 to 8578\n",
      "Data columns (total 18 columns):\n",
      " #   Column                    Non-Null Count  Dtype  \n",
      "---  ------                    --------------  -----  \n",
      " 0   Quarter Ending            8579 non-null   object \n",
      " 1   HSC Trust                 8579 non-null   object \n",
      " 2   Diagnostic Service        8579 non-null   object \n",
      " 3   Recommended Waiting Time  8579 non-null   object \n",
      " 4   Category                  8579 non-null   object \n",
      " 5   0 - 6 weeks               8579 non-null   float64\n",
      " 6   > 6 - 9 weeks             8579 non-null   float64\n",
      " 7   > 9 - 13 weeks            8579 non-null   float64\n",
      " 8   > 13 - 21 weeks           8579 non-null   float64\n",
      " 9   > 21 - 26 weeks           8579 non-null   float64\n",
      " 10  > 26 weeks                8579 non-null   float64\n",
      " 11  > 26 - 36 weeks           1070 non-null   float64\n",
      " 12  > 36 weeks                8579 non-null   float64\n",
      " 13  > 36 - 52 weeks           1070 non-null   float64\n",
      " 14  > 52 - 65 weeks           1070 non-null   float64\n",
      " 15  > 65 - 78 weeks           1070 non-null   float64\n",
      " 16  > 78 weeks                1070 non-null   float64\n",
      " 17  Total                     8579 non-null   float64\n",
      "dtypes: float64(13), object(5)\n",
      "memory usage: 1.2+ MB\n"
     ]
    }
   ],
   "source": [
    "DiagnosticWT.info()"
   ]
  },
  {
   "cell_type": "code",
   "execution_count": 34,
   "metadata": {},
   "outputs": [
    {
     "data": {
      "text/plain": [
       "array([[<matplotlib.axes._subplots.AxesSubplot object at 0x0000028C9A544D48>]],\n",
       "      dtype=object)"
      ]
     },
     "execution_count": 34,
     "metadata": {},
     "output_type": "execute_result"
    },
    {
     "data": {
      "image/png": "[encoded data removed]",
      "text/plain": [
       "<Figure size 432x288 with 1 Axes>"
      ]
     },
     "metadata": {
      "needs_background": "light"
     },
     "output_type": "display_data"
    }
   ],
   "source": [
    "A=DiagnosticWT.groupby('Diagnostic Service').sum()\n",
    "B=DiagnosticWT.groupby('Category').sum()\n",
    "C=DiagnosticWT.groupby('Recommended Waiting Time').sum()\n",
    "C\n",
    "#x=A[\"0-6 weeks\"]\n",
    "#y=A[\"Total\"]\n",
    "A.hist(column='Total', bins=10)\n",
    "#plt.scatter(x, y, s=area, c=colors, alpha=0.5)\n",
    "#plt.show()\n",
    "#.hist(column='0 - 6 weeks', bins=150)\n",
    "#EmergWL.hist(column='FourAndUnder_sum', bins=50)\n",
    "#A.plot.bar()"
   ]
  },
  {
   "cell_type": "code",
   "execution_count": 35,
   "metadata": {},
   "outputs": [],
   "source": [
    "#DiagnosticWT.column()"
   ]
  },
  {
   "cell_type": "code",
   "execution_count": 36,
   "metadata": {},
   "outputs": [
    {
     "name": "stderr",
     "output_type": "stream",
     "text": [
      "C:\\Users\\Pat\\anaconda3\\lib\\site-packages\\ipykernel_launcher.py:10: SettingWithCopyWarning:\n",
      "\n",
      "\n",
      "A value is trying to be set on a copy of a slice from a DataFrame.\n",
      "Try using .loc[row_indexer,col_indexer] = value instead\n",
      "\n",
      "See the caveats in the documentation: https://pandas.pydata.org/pandas-docs/stable/user_guide/indexing.html#returning-a-view-versus-a-copy\n",
      "\n"
     ]
    },
    {
     "data": {
      "text/html": [
       "<div>\n",
       "<style scoped>\n",
       "    .dataframe tbody tr th:only-of-type {\n",
       "        vertical-align: middle;\n",
       "    }\n",
       "\n",
       "    .dataframe tbody tr th {\n",
       "        vertical-align: top;\n",
       "    }\n",
       "\n",
       "    .dataframe thead th {\n",
       "        text-align: right;\n",
       "    }\n",
       "</style>\n",
       "<table border=\"1\" class=\"dataframe\">\n",
       "  <thead>\n",
       "    <tr style=\"text-align: right;\">\n",
       "      <th></th>\n",
       "      <th>Quarter Ending</th>\n",
       "      <th>HSC Trust</th>\n",
       "      <th>Diagnostic Service</th>\n",
       "      <th>Recommended Waiting Time</th>\n",
       "      <th>Category</th>\n",
       "      <th>Total</th>\n",
       "      <th>Below 9 weeks</th>\n",
       "      <th>% Below 9 weeks</th>\n",
       "      <th>Below 13 weeks</th>\n",
       "      <th>% Below 13 weeks</th>\n",
       "      <th>Below Recommended</th>\n",
       "    </tr>\n",
       "  </thead>\n",
       "  <tbody>\n",
       "    <tr>\n",
       "      <th>0</th>\n",
       "      <td>31-Mar-08</td>\n",
       "      <td>Belfast</td>\n",
       "      <td>Barium Studies</td>\n",
       "      <td>9 week</td>\n",
       "      <td>Imaging</td>\n",
       "      <td>316.0</td>\n",
       "      <td>256.0</td>\n",
       "      <td>81.012658</td>\n",
       "      <td>316.0</td>\n",
       "      <td>100.000000</td>\n",
       "      <td>81.012658</td>\n",
       "    </tr>\n",
       "    <tr>\n",
       "      <th>1</th>\n",
       "      <td>31-Mar-08</td>\n",
       "      <td>Belfast</td>\n",
       "      <td>Colonoscopy</td>\n",
       "      <td>13 week</td>\n",
       "      <td>Endoscopy</td>\n",
       "      <td>667.0</td>\n",
       "      <td>269.0</td>\n",
       "      <td>40.329835</td>\n",
       "      <td>539.0</td>\n",
       "      <td>80.809595</td>\n",
       "      <td>80.809595</td>\n",
       "    </tr>\n",
       "    <tr>\n",
       "      <th>2</th>\n",
       "      <td>31-Mar-08</td>\n",
       "      <td>Belfast</td>\n",
       "      <td>Computerised Tomography</td>\n",
       "      <td>9 week</td>\n",
       "      <td>Imaging</td>\n",
       "      <td>1253.0</td>\n",
       "      <td>907.0</td>\n",
       "      <td>72.386273</td>\n",
       "      <td>1253.0</td>\n",
       "      <td>100.000000</td>\n",
       "      <td>72.386273</td>\n",
       "    </tr>\n",
       "    <tr>\n",
       "      <th>3</th>\n",
       "      <td>31-Mar-08</td>\n",
       "      <td>Belfast</td>\n",
       "      <td>Cystoscopy</td>\n",
       "      <td>13 week</td>\n",
       "      <td>Endoscopy</td>\n",
       "      <td>789.0</td>\n",
       "      <td>371.0</td>\n",
       "      <td>47.021546</td>\n",
       "      <td>629.0</td>\n",
       "      <td>79.721166</td>\n",
       "      <td>79.721166</td>\n",
       "    </tr>\n",
       "    <tr>\n",
       "      <th>4</th>\n",
       "      <td>31-Mar-08</td>\n",
       "      <td>Belfast</td>\n",
       "      <td>DEXA Scan</td>\n",
       "      <td>9 week</td>\n",
       "      <td>Imaging</td>\n",
       "      <td>606.0</td>\n",
       "      <td>281.0</td>\n",
       "      <td>46.369637</td>\n",
       "      <td>606.0</td>\n",
       "      <td>100.000000</td>\n",
       "      <td>46.369637</td>\n",
       "    </tr>\n",
       "    <tr>\n",
       "      <th>...</th>\n",
       "      <td>...</td>\n",
       "      <td>...</td>\n",
       "      <td>...</td>\n",
       "      <td>...</td>\n",
       "      <td>...</td>\n",
       "      <td>...</td>\n",
       "      <td>...</td>\n",
       "      <td>...</td>\n",
       "      <td>...</td>\n",
       "      <td>...</td>\n",
       "      <td>...</td>\n",
       "    </tr>\n",
       "    <tr>\n",
       "      <th>8574</th>\n",
       "      <td>30-Sep-19</td>\n",
       "      <td>Western</td>\n",
       "      <td>Spirometry inc.flow volume curves</td>\n",
       "      <td>9 week</td>\n",
       "      <td>Physiological Measurement</td>\n",
       "      <td>94.0</td>\n",
       "      <td>86.0</td>\n",
       "      <td>91.489362</td>\n",
       "      <td>94.0</td>\n",
       "      <td>100.000000</td>\n",
       "      <td>91.489362</td>\n",
       "    </tr>\n",
       "    <tr>\n",
       "      <th>8575</th>\n",
       "      <td>30-Sep-19</td>\n",
       "      <td>Western</td>\n",
       "      <td>Static lung volumes</td>\n",
       "      <td>9 week</td>\n",
       "      <td>Physiological Measurement</td>\n",
       "      <td>79.0</td>\n",
       "      <td>71.0</td>\n",
       "      <td>89.873418</td>\n",
       "      <td>79.0</td>\n",
       "      <td>100.000000</td>\n",
       "      <td>89.873418</td>\n",
       "    </tr>\n",
       "    <tr>\n",
       "      <th>8576</th>\n",
       "      <td>30-Sep-19</td>\n",
       "      <td>Western</td>\n",
       "      <td>Tilt testing and autonomic function</td>\n",
       "      <td>9 week</td>\n",
       "      <td>Physiological Measurement</td>\n",
       "      <td>18.0</td>\n",
       "      <td>10.0</td>\n",
       "      <td>55.555556</td>\n",
       "      <td>14.0</td>\n",
       "      <td>77.777778</td>\n",
       "      <td>55.555556</td>\n",
       "    </tr>\n",
       "    <tr>\n",
       "      <th>8577</th>\n",
       "      <td>30-Sep-19</td>\n",
       "      <td>Western</td>\n",
       "      <td>Transfer Factor</td>\n",
       "      <td>9 week</td>\n",
       "      <td>Physiological Measurement</td>\n",
       "      <td>92.0</td>\n",
       "      <td>84.0</td>\n",
       "      <td>91.304348</td>\n",
       "      <td>92.0</td>\n",
       "      <td>100.000000</td>\n",
       "      <td>91.304348</td>\n",
       "    </tr>\n",
       "    <tr>\n",
       "      <th>8578</th>\n",
       "      <td>30-Sep-19</td>\n",
       "      <td>Western</td>\n",
       "      <td>Ureteroscopy</td>\n",
       "      <td>13 week</td>\n",
       "      <td>Endoscopy</td>\n",
       "      <td>22.0</td>\n",
       "      <td>10.0</td>\n",
       "      <td>45.454545</td>\n",
       "      <td>11.0</td>\n",
       "      <td>50.000000</td>\n",
       "      <td>50.000000</td>\n",
       "    </tr>\n",
       "  </tbody>\n",
       "</table>\n",
       "<p>8579 rows × 11 columns</p>\n",
       "</div>"
      ],
      "text/plain": [
       "     Quarter Ending HSC Trust                   Diagnostic Service  \\\n",
       "0         31-Mar-08   Belfast                       Barium Studies   \n",
       "1         31-Mar-08   Belfast                          Colonoscopy   \n",
       "2         31-Mar-08   Belfast              Computerised Tomography   \n",
       "3         31-Mar-08   Belfast                           Cystoscopy   \n",
       "4         31-Mar-08   Belfast                            DEXA Scan   \n",
       "...             ...       ...                                  ...   \n",
       "8574      30-Sep-19   Western    Spirometry inc.flow volume curves   \n",
       "8575      30-Sep-19   Western                  Static lung volumes   \n",
       "8576      30-Sep-19   Western  Tilt testing and autonomic function   \n",
       "8577      30-Sep-19   Western                      Transfer Factor   \n",
       "8578      30-Sep-19   Western                         Ureteroscopy   \n",
       "\n",
       "     Recommended Waiting Time                   Category   Total  \\\n",
       "0                      9 week                    Imaging   316.0   \n",
       "1                     13 week                  Endoscopy   667.0   \n",
       "2                      9 week                    Imaging  1253.0   \n",
       "3                     13 week                  Endoscopy   789.0   \n",
       "4                      9 week                    Imaging   606.0   \n",
       "...                       ...                        ...     ...   \n",
       "8574                   9 week  Physiological Measurement    94.0   \n",
       "8575                   9 week  Physiological Measurement    79.0   \n",
       "8576                   9 week  Physiological Measurement    18.0   \n",
       "8577                   9 week  Physiological Measurement    92.0   \n",
       "8578                  13 week                  Endoscopy    22.0   \n",
       "\n",
       "      Below 9 weeks  % Below 9 weeks  Below 13 weeks  % Below 13 weeks  \\\n",
       "0             256.0        81.012658           316.0        100.000000   \n",
       "1             269.0        40.329835           539.0         80.809595   \n",
       "2             907.0        72.386273          1253.0        100.000000   \n",
       "3             371.0        47.021546           629.0         79.721166   \n",
       "4             281.0        46.369637           606.0        100.000000   \n",
       "...             ...              ...             ...               ...   \n",
       "8574           86.0        91.489362            94.0        100.000000   \n",
       "8575           71.0        89.873418            79.0        100.000000   \n",
       "8576           10.0        55.555556            14.0         77.777778   \n",
       "8577           84.0        91.304348            92.0        100.000000   \n",
       "8578           10.0        45.454545            11.0         50.000000   \n",
       "\n",
       "      Below Recommended  \n",
       "0             81.012658  \n",
       "1             80.809595  \n",
       "2             72.386273  \n",
       "3             79.721166  \n",
       "4             46.369637  \n",
       "...                 ...  \n",
       "8574          91.489362  \n",
       "8575          89.873418  \n",
       "8576          55.555556  \n",
       "8577          91.304348  \n",
       "8578          50.000000  \n",
       "\n",
       "[8579 rows x 11 columns]"
      ]
     },
     "execution_count": 36,
     "metadata": {},
     "output_type": "execute_result"
    }
   ],
   "source": [
    "DiagnosticWT=pd.read_csv(r\"https://www.health-ni.gov.uk/sites/default/files/publications/health/hs-niwts-tables-diagnostic-waiting-times-q2-19-20.csv\");DiagnosticWT=DiagnosticWT.drop_duplicates();DiagnosticWT.replace(\".\", 0, inplace=True);DiagnosticWT=DiagnosticWT.fillna(0);DiagnosticWT.drop(DiagnosticWT.columns[DiagnosticWT.columns.str.contains('unnamed',case = False)],axis = 1, inplace = True);DiagnosticWT=DiagnosticWT.fillna(0);DiagnosticWT=DiagnosticWT.drop([8579,8623,8624,8625,8626]);DiagnosticWT.iloc[:, 5] = DiagnosticWT.iloc[:, 5].str.replace(\",\",\"\").astype(float);DiagnosticWT.iloc[:, 6] = DiagnosticWT.iloc[:, 6].str.replace(\",\",\"\").astype(float);DiagnosticWT.iloc[:, 7] = DiagnosticWT.iloc[:, 7].str.replace(\",\",\"\").astype(float); DiagnosticWT.iloc[:, 8] = DiagnosticWT.iloc[:, 8].str.replace(\",\",\"\").astype(float); DiagnosticWT.iloc[:, 10] = DiagnosticWT.iloc[:, 10].str.replace(\",\",\"\").astype(float); DiagnosticWT.iloc[:, 11] = DiagnosticWT.iloc[:, 11].str.replace(\",\",\"\").astype(float); DiagnosticWT.iloc[:, 12] = DiagnosticWT.iloc[:, 12].str.replace(\",\",\"\").astype(float);DiagnosticWT.iloc[:, 13] = DiagnosticWT.iloc[:, 13].str.replace(\",\",\"\").astype(float);DiagnosticWT.iloc[:, 14] = DiagnosticWT.iloc[:, 14].str.replace(\",\",\"\").astype(float);DiagnosticWT.iloc[:, 15] = DiagnosticWT.iloc[:, 15].str.replace(\",\",\"\").astype(float);DiagnosticWT.iloc[:, 16] = DiagnosticWT.iloc[:, 16].str.replace(\",\",\"\").astype(float);DiagnosticWT.iloc[:, 17] = DiagnosticWT.iloc[:, 17].str.replace(\",\",\"\").astype(float);DiagnosticWT.fillna(0);\n",
    "\n",
    "df=DiagnosticWT\n",
    "df['Below 9 weeks'] = df[\"> 6 - 9 weeks\"] + df[\"0 - 6 weeks\"]\n",
    "df['% Below 9 weeks'] = 100*df['Below 9 weeks'].divide(df[\"Total\"], fill_value=1)\n",
    "df['Below 13 weeks'] = df[\"> 9 - 13 weeks\"] + df['Below 9 weeks']\n",
    "df['% Below 13 weeks']= 100*df['Below 13 weeks'].divide(df[\"Total\"], fill_value=1) \n",
    "df=df.drop(df.columns[[5,6,7,8,9,10,11,12]], axis = 1, inplace = False) \n",
    "df2=df.dropna(axis='columns')\n",
    "df2['Below Recommended'] = np.where(df2[\"Recommended Waiting Time\"] == \"9 week\", df['% Below 9 weeks'],df['% Below 13 weeks'])\n",
    "df2\n",
    "\n",
    "\n",
    "\n",
    "# Visualize pairplot of df\n",
    "\n",
    "#df2.head()\n",
    "#df.info()\n",
    "#df.list()\n",
    "#plt.figure(figsize=(8,5))\n",
    "#x_data, y_data = (df2['% Below 9 weeks'].values, HSCT31DCWT['% Below 13 weeks'].values)\n",
    "#plt.plot(x_data, y_data,'ro')\n",
    "#plt.ylabel('62 days')\n",
    "#plt.xlabel('31 days')\n",
    "#plt.show()"
   ]
  },
  {
   "cell_type": "code",
   "execution_count": 37,
   "metadata": {},
   "outputs": [
    {
     "name": "stderr",
     "output_type": "stream",
     "text": [
      "C:\\Users\\Pat\\anaconda3\\lib\\site-packages\\ipykernel_launcher.py:2: SettingWithCopyWarning:\n",
      "\n",
      "\n",
      "A value is trying to be set on a copy of a slice from a DataFrame.\n",
      "Try using .loc[row_indexer,col_indexer] = value instead\n",
      "\n",
      "See the caveats in the documentation: https://pandas.pydata.org/pandas-docs/stable/user_guide/indexing.html#returning-a-view-versus-a-copy\n",
      "\n"
     ]
    }
   ],
   "source": [
    "df3=df2\n",
    "df3['Quarter Ending']=pd.to_datetime(df3['Quarter Ending'])\n",
    "#df3.to_datetime('13000101', format='%d%m%Y', errors='ignore')\n",
    "#pd.to_datetime('2010/11/12', format='%Y/%m/%d')"
   ]
  },
  {
   "cell_type": "code",
   "execution_count": 38,
   "metadata": {},
   "outputs": [
    {
     "ename": "TypeError",
     "evalue": "'AxesSubplot' object is not callable",
     "output_type": "error",
     "traceback": [
      "\u001b[1;31m---------------------------------------------------------------------------\u001b[0m",
      "\u001b[1;31mTypeError\u001b[0m                                 Traceback (most recent call last)",
      "\u001b[1;32m<ipython-input-38-294a7f5a2fb2>\u001b[0m in \u001b[0;36m<module>\u001b[1;34m\u001b[0m\n\u001b[0;32m      9\u001b[0m \u001b[1;33m\u001b[0m\u001b[0m\n\u001b[0;32m     10\u001b[0m \u001b[0mW\u001b[0m\u001b[1;33m=\u001b[0m\u001b[0mdf3\u001b[0m\u001b[1;33m.\u001b[0m\u001b[0mgroupby\u001b[0m\u001b[1;33m(\u001b[0m\u001b[1;34m\"Quarter Ending\"\u001b[0m\u001b[1;33m)\u001b[0m\u001b[1;33m.\u001b[0m\u001b[0mmean\u001b[0m\u001b[1;33m(\u001b[0m\u001b[1;33m)\u001b[0m\u001b[1;33m\u001b[0m\u001b[1;33m\u001b[0m\u001b[0m\n\u001b[1;32m---> 11\u001b[1;33m \u001b[0mW\u001b[0m\u001b[1;33m.\u001b[0m\u001b[0mplot\u001b[0m\u001b[1;33m.\u001b[0m\u001b[0mline\u001b[0m\u001b[1;33m(\u001b[0m\u001b[0my\u001b[0m\u001b[1;33m=\u001b[0m\u001b[1;34m'Below Recommended'\u001b[0m\u001b[1;33m)\u001b[0m\u001b[1;33m(\u001b[0m\u001b[0msubplots\u001b[0m\u001b[1;33m=\u001b[0m\u001b[1;32mTrue\u001b[0m\u001b[1;33m)\u001b[0m\u001b[1;33m\u001b[0m\u001b[1;33m\u001b[0m\u001b[0m\n\u001b[0m\u001b[0;32m     12\u001b[0m \u001b[1;31m#P=df2.groupby(['Recommended Waiting Time','Diagnostic Service']).size().reset_index().groupby('Diagnostic Service')[[0]].max()\u001b[0m\u001b[1;33m\u001b[0m\u001b[1;33m\u001b[0m\u001b[1;33m\u001b[0m\u001b[0m\n\u001b[0;32m     13\u001b[0m \u001b[1;31m#P\u001b[0m\u001b[1;33m\u001b[0m\u001b[1;33m\u001b[0m\u001b[1;33m\u001b[0m\u001b[0m\n",
      "\u001b[1;31mTypeError\u001b[0m: 'AxesSubplot' object is not callable"
     ]
    },
    {
     "data": {
      "image/png": "[encoded data removed]",
      "text/plain": [
       "<Figure size 432x288 with 1 Axes>"
      ]
     },
     "metadata": {
      "needs_background": "light"
     },
     "output_type": "display_data"
    },
    {
     "data": {
      "image/png": "[encoded data removed]",
      "text/plain": [
       "<Figure size 432x288 with 1 Axes>"
      ]
     },
     "metadata": {
      "needs_background": "light"
     },
     "output_type": "display_data"
    },
    {
     "data": {
      "image/png": "[encoded data removed]",
      "text/plain": [
       "<Figure size 432x288 with 1 Axes>"
      ]
     },
     "metadata": {
      "needs_background": "light"
     },
     "output_type": "display_data"
    }
   ],
   "source": [
    "df2\n",
    "V=df2.groupby(\"HSC Trust\").mean()\n",
    "V.plot.bar(y='Below Recommended')\n",
    "\n",
    "#df2\n",
    "W=df2.groupby(\"Category\").mean()\n",
    "W.plot.bar(y='Below Recommended')\n",
    "\n",
    "\n",
    "W=df3.groupby(\"Quarter Ending\").mean()\n",
    "W.plot.line(y='Below Recommended')(subplots=True)\n",
    "#P=df2.groupby(['Recommended Waiting Time','Diagnostic Service']).size().reset_index().groupby('Diagnostic Service')[[0]].max()\n",
    "#P\n",
    "#sns.pairplot(P, hue='rating')"
   ]
  },
  {
   "cell_type": "code",
   "execution_count": null,
   "metadata": {},
   "outputs": [],
   "source": [
    "#df.drop(df.columns[[6,7,8]], axis = 1, inplace = True) "
   ]
  },
  {
   "cell_type": "code",
   "execution_count": 39,
   "metadata": {},
   "outputs": [
    {
     "data": {
      "text/html": [
       "<div>\n",
       "<style scoped>\n",
       "    .dataframe tbody tr th:only-of-type {\n",
       "        vertical-align: middle;\n",
       "    }\n",
       "\n",
       "    .dataframe tbody tr th {\n",
       "        vertical-align: top;\n",
       "    }\n",
       "\n",
       "    .dataframe thead th {\n",
       "        text-align: right;\n",
       "    }\n",
       "</style>\n",
       "<table border=\"1\" class=\"dataframe\">\n",
       "  <thead>\n",
       "    <tr style=\"text-align: right;\">\n",
       "      <th></th>\n",
       "      <th>Month</th>\n",
       "      <th>HSC Trust</th>\n",
       "      <th>Category of test</th>\n",
       "      <th>Test</th>\n",
       "      <th>Priority</th>\n",
       "      <th>0-2 days</th>\n",
       "      <th>3-7 days</th>\n",
       "      <th>8-14 days</th>\n",
       "      <th>15-21 days</th>\n",
       "      <th>22-28 days</th>\n",
       "      <th>&gt;28 days</th>\n",
       "      <th>Total</th>\n",
       "      <th>% reported within 2 days</th>\n",
       "      <th>% reported within 2 weeks</th>\n",
       "      <th>% reported within 4 weeks</th>\n",
       "      <th>&gt;28 days\\t</th>\n",
       "    </tr>\n",
       "  </thead>\n",
       "  <tbody>\n",
       "    <tr>\n",
       "      <th>0</th>\n",
       "      <td>2010-10-31</td>\n",
       "      <td>Belfast</td>\n",
       "      <td>IMAGING</td>\n",
       "      <td>BARIUM ENEMA</td>\n",
       "      <td>ROUTINE</td>\n",
       "      <td>88</td>\n",
       "      <td>9</td>\n",
       "      <td>4</td>\n",
       "      <td>1</td>\n",
       "      <td>15</td>\n",
       "      <td>5</td>\n",
       "      <td>122</td>\n",
       "      <td>0.0</td>\n",
       "      <td>82.8</td>\n",
       "      <td>95.9</td>\n",
       "      <td>5</td>\n",
       "    </tr>\n",
       "    <tr>\n",
       "      <th>1</th>\n",
       "      <td>2010-10-31</td>\n",
       "      <td>Belfast</td>\n",
       "      <td>IMAGING</td>\n",
       "      <td>BARIUM ENEMA</td>\n",
       "      <td>URGENT</td>\n",
       "      <td>9</td>\n",
       "      <td>3</td>\n",
       "      <td>0</td>\n",
       "      <td>0</td>\n",
       "      <td>0</td>\n",
       "      <td>0</td>\n",
       "      <td>12</td>\n",
       "      <td>75.0</td>\n",
       "      <td>0.0</td>\n",
       "      <td>0.0</td>\n",
       "      <td>0</td>\n",
       "    </tr>\n",
       "    <tr>\n",
       "      <th>2</th>\n",
       "      <td>2010-10-31</td>\n",
       "      <td>Belfast</td>\n",
       "      <td>IMAGING</td>\n",
       "      <td>COMPUTERISED TOMOGRAPHY</td>\n",
       "      <td>ROUTINE</td>\n",
       "      <td>1521</td>\n",
       "      <td>218</td>\n",
       "      <td>83</td>\n",
       "      <td>7</td>\n",
       "      <td>127</td>\n",
       "      <td>31</td>\n",
       "      <td>1987</td>\n",
       "      <td>0.0</td>\n",
       "      <td>91.7</td>\n",
       "      <td>98.4</td>\n",
       "      <td>31</td>\n",
       "    </tr>\n",
       "    <tr>\n",
       "      <th>3</th>\n",
       "      <td>2010-10-31</td>\n",
       "      <td>Belfast</td>\n",
       "      <td>IMAGING</td>\n",
       "      <td>COMPUTERISED TOMOGRAPHY</td>\n",
       "      <td>URGENT</td>\n",
       "      <td>279</td>\n",
       "      <td>43</td>\n",
       "      <td>18</td>\n",
       "      <td>2</td>\n",
       "      <td>10</td>\n",
       "      <td>4</td>\n",
       "      <td>356</td>\n",
       "      <td>78.4</td>\n",
       "      <td>0.0</td>\n",
       "      <td>0.0</td>\n",
       "      <td>4</td>\n",
       "    </tr>\n",
       "    <tr>\n",
       "      <th>4</th>\n",
       "      <td>2010-10-31</td>\n",
       "      <td>Belfast</td>\n",
       "      <td>IMAGING</td>\n",
       "      <td>DEXA SCAN</td>\n",
       "      <td>ROUTINE</td>\n",
       "      <td>0</td>\n",
       "      <td>0</td>\n",
       "      <td>1</td>\n",
       "      <td>2</td>\n",
       "      <td>1</td>\n",
       "      <td>6</td>\n",
       "      <td>10</td>\n",
       "      <td>0.0</td>\n",
       "      <td>10.0</td>\n",
       "      <td>40.0</td>\n",
       "      <td>6</td>\n",
       "    </tr>\n",
       "  </tbody>\n",
       "</table>\n",
       "</div>"
      ],
      "text/plain": [
       "       Month HSC Trust Category of test                     Test Priority  \\\n",
       "0 2010-10-31   Belfast          IMAGING             BARIUM ENEMA  ROUTINE   \n",
       "1 2010-10-31   Belfast          IMAGING             BARIUM ENEMA   URGENT   \n",
       "2 2010-10-31   Belfast          IMAGING  COMPUTERISED TOMOGRAPHY  ROUTINE   \n",
       "3 2010-10-31   Belfast          IMAGING  COMPUTERISED TOMOGRAPHY   URGENT   \n",
       "4 2010-10-31   Belfast          IMAGING                DEXA SCAN  ROUTINE   \n",
       "\n",
       "   0-2 days  3-7 days  8-14 days  15-21 days  22-28 days >28 days  Total  \\\n",
       "0        88         9          4           1          15        5    122   \n",
       "1         9         3          0           0           0        0     12   \n",
       "2      1521       218         83           7         127       31   1987   \n",
       "3       279        43         18           2          10        4    356   \n",
       "4         0         0          1           2           1        6     10   \n",
       "\n",
       "   % reported within 2 days  % reported within 2 weeks  \\\n",
       "0                       0.0                       82.8   \n",
       "1                      75.0                        0.0   \n",
       "2                       0.0                       91.7   \n",
       "3                      78.4                        0.0   \n",
       "4                       0.0                       10.0   \n",
       "\n",
       "   % reported within 4 weeks  >28 days\\t  \n",
       "0                       95.9           5  \n",
       "1                        0.0           0  \n",
       "2                       98.4          31  \n",
       "3                        0.0           4  \n",
       "4                       40.0           6  "
      ]
     },
     "execution_count": 39,
     "metadata": {},
     "output_type": "execute_result"
    }
   ],
   "source": [
    "\n",
    "DiagnosticRTT['Month']=pd.to_datetime(DiagnosticRTT['Month'])\n",
    "DiagnosticRTT.head()"
   ]
  },
  {
   "cell_type": "code",
   "execution_count": 40,
   "metadata": {},
   "outputs": [
    {
     "name": "stderr",
     "output_type": "stream",
     "text": [
      "C:\\Users\\Pat\\anaconda3\\lib\\site-packages\\ipykernel_launcher.py:2: FutureWarning:\n",
      "\n",
      "Indexing with multiple keys (implicitly converted to a tuple of keys) will be deprecated, use a list instead.\n",
      "\n",
      "C:\\Users\\Pat\\anaconda3\\lib\\site-packages\\ipykernel_launcher.py:4: FutureWarning:\n",
      "\n",
      "Indexing with multiple keys (implicitly converted to a tuple of keys) will be deprecated, use a list instead.\n",
      "\n"
     ]
    },
    {
     "data": {
      "text/plain": [
       "<matplotlib.axes._subplots.AxesSubplot at 0x28c9a830f48>"
      ]
     },
     "execution_count": 40,
     "metadata": {},
     "output_type": "execute_result"
    },
    {
     "data": {
      "image/png": "[encoded data removed]",
      "text/plain": [
       "<Figure size 432x288 with 1 Axes>"
      ]
     },
     "metadata": {
      "needs_background": "light"
     },
     "output_type": "display_data"
    },
    {
     "data": {
      "image/png": "[encoded data removed]",
      "text/plain": [
       "<Figure size 432x288 with 1 Axes>"
      ]
     },
     "metadata": {
      "needs_background": "light"
     },
     "output_type": "display_data"
    }
   ],
   "source": [
    "#df3['Quarter Ending']=pd.to_datetime(df3['Quarter Ending'])\n",
    "P=DiagnosticRTT.groupby('Month')[\"% reported within 2 days\",\"% reported within 2 weeks\",\"% reported within 4 weeks\"].mean()\n",
    "P.plot.line()\n",
    "Q=DiagnosticRTT.groupby('Category of test')[\"% reported within 2 days\",\"% reported within 2 weeks\",\"% reported within 4 weeks\"].mean()\n",
    "Q.plot.barh()"
   ]
  },
  {
   "cell_type": "code",
   "execution_count": 41,
   "metadata": {},
   "outputs": [
    {
     "name": "stderr",
     "output_type": "stream",
     "text": [
      "C:\\Users\\Pat\\anaconda3\\lib\\site-packages\\ipykernel_launcher.py:6: FutureWarning:\n",
      "\n",
      "Indexing with multiple keys (implicitly converted to a tuple of keys) will be deprecated, use a list instead.\n",
      "\n",
      "C:\\Users\\Pat\\anaconda3\\lib\\site-packages\\ipykernel_launcher.py:8: FutureWarning:\n",
      "\n",
      "Indexing with multiple keys (implicitly converted to a tuple of keys) will be deprecated, use a list instead.\n",
      "\n"
     ]
    },
    {
     "data": {
      "text/plain": [
       "<matplotlib.axes._subplots.AxesSubplot at 0x28c9b955c88>"
      ]
     },
     "execution_count": 41,
     "metadata": {},
     "output_type": "execute_result"
    },
    {
     "data": {
      "image/png": "[encoded data removed]",
      "text/plain": [
       "<Figure size 432x288 with 1 Axes>"
      ]
     },
     "metadata": {
      "needs_background": "light"
     },
     "output_type": "display_data"
    },
    {
     "data": {
      "image/png": "[encoded data removed]",
      "text/plain": [
       "<Figure size 432x288 with 1 Axes>"
      ]
     },
     "metadata": {
      "needs_background": "light"
     },
     "output_type": "display_data"
    }
   ],
   "source": [
    "#DiagnosticRTT.head()\n",
    "\n",
    "#R=DiagnosticRTT.groupby('Test')[\"% reported within 2 days\",\"% reported within 2 weeks\",\"% reported within 4 weeks\"].mean()\n",
    "#R.plot.barh()\n",
    "#R.plot.kde()\n",
    "S=DiagnosticRTT.groupby('HSC Trust')[\"% reported within 2 days\",\"% reported within 2 weeks\",\"% reported within 4 weeks\"].mean()\n",
    "S.plot.bar()\n",
    "T=DiagnosticRTT.groupby('Priority')[\"% reported within 2 days\",\"% reported within 2 weeks\",\"% reported within 4 weeks\"].mean()\n",
    "T.plot.bar()\n",
    "\n"
   ]
  },
  {
   "cell_type": "code",
   "execution_count": 42,
   "metadata": {},
   "outputs": [],
   "source": [
    "\n",
    "X=EmergWL.groupby('New_Hospital')\n",
    "\n",
    "\n",
    "\n",
    "#.describe()\n",
    "#EmergWL = EmergWL.replace(\"Royal Victoria & Royal Victoria (ENT & RAES)\",\n",
    "#                          \"The Royal\", \n",
    "#                          inplace=True)\n",
    "#EmergWL.describe()"
   ]
  },
  {
   "cell_type": "markdown",
   "metadata": {},
   "source": [
    "## Clean the Inpatient and Outpatient lists"
   ]
  },
  {
   "cell_type": "code",
   "execution_count": 43,
   "metadata": {},
   "outputs": [
    {
     "ename": "SyntaxError",
     "evalue": "can't assign to function call (<ipython-input-43-a85d778983cf>, line 10)",
     "output_type": "error",
     "traceback": [
      "\u001b[1;36m  File \u001b[1;32m\"<ipython-input-43-a85d778983cf>\"\u001b[1;36m, line \u001b[1;32m10\u001b[0m\n\u001b[1;33m    CentralCOPWL=CentralCOPWL.drop([66,67,68,69,70,71]),CentralCOPWL=CentralCOPWL.dropna(axis='columns')\u001b[0m\n\u001b[1;37m                ^\u001b[0m\n\u001b[1;31mSyntaxError\u001b[0m\u001b[1;31m:\u001b[0m can't assign to function call\n"
     ]
    }
   ],
   "source": [
    "FirstCOPWL = pd.read_csv(r\"https://www.health-ni.gov.uk/sites/default/files/publications/health/hs-niwts-tables-outpatients-q2-19-20.csv\")\n",
    "#Remove footer data\n",
    "FirstCOPWL=FirstCOPWL.drop([6134,6135,6136,6137,6138])\n",
    "FirstCOPWL.replace(\"--\", 0, inplace=True)\n",
    "#FirstCOPWL[\"0 - 6 weeks\"] = pd.to_numeric(FirstCOPWL[\"0 - 6 weeks\"])\n",
    "\n",
    "\n",
    "CentralCOPWL = pd.read_csv(r\"https://www.health-ni.gov.uk/sites/default/files/publications/health/hs-niwts-tables-outpatients-centralisation-q2-19-20.csv\")\n",
    "#Remove footer data\n",
    "CentralCOPWL=CentralCOPWL.drop([66,67,68,69,70,71]),CentralCOPWL=CentralCOPWL.dropna(axis='columns')\n",
    "OrigCCOPWL=CentralCOPWL\n",
    "CentralCOPWL.replace(\"--\", 0, inplace=True)\n",
    "\n",
    "\n",
    "#CentralCOPWL[\"Total Waiting \"] = CentralCOPWL[\"Total Waiting \"].str.replace(\",\",\"\").astype(float)\n",
    "#CentralCOPWL[\" > 18 weeks \"] = CentralCOPWL[\" > 18 weeks \"].astype(float)\n",
    "#CentralCOPWL['Below 18 weeks']= CentralCOPWL.iloc[:, 4:9].sum(axis=1)\n",
    "#CentralCOPWL['Below 18 weeksB']= CentralCOPWL.iloc[:, 4:9].sum(axis=1)\n",
    "\n",
    "#CentralCOPWL.drop(CentralCOPWL.columns[[4,5,6,7,8,9,10,11]], axis = 1, inplace = True) \n",
    "#CentralCOPWL['Above 18 weeks']= CentralCOPWL.iloc[:,-2:-1].subtract(axis=1)\n",
    "#CentralCOPWL.drop(columns =[\"Treatment Month\"], inplace = True) \n",
    "#CentralCOPWL['Above 18 weeks'] = CentralCOPWL['Total Waiting '].sub(CentralCOPWL['Below 18 weeks'], axis = 0) \n",
    "CentralCOPWL\n",
    "\n",
    "ICATSWL=pd.read_csv(r\"https://www.health-ni.gov.uk/sites/default/files/publications/health/hs-niwts-tables-icats-q2-19-20.csv\")\n",
    "ICATSWLA=ICATSWL.drop_duplicates();ICATSWL=ICATSWLA.drop([689,691,692,693,694]);ICATSWL=ICATSWL.dropna(axis='columns');ICATSWL=ICATSWL.fillna(0)\n",
    "ICATSWL.replace(\"--\", 0, inplace=True)\n",
    "#Remove footer data\n",
    "\n",
    "DayCaseIPWL=pd.read_csv(r\"https://www.health-ni.gov.uk/sites/default/files/publications/health/hs-niwts-tables-day-cases-q2-19-20.csv\")\n",
    "#Remove footer data\n",
    "DayCaseIPWL=DayCaseIPWL.drop([4399,4400,4401,4402,4403,4404,4405,4406,4407,4408,4409,4410,4411,4412]);DayCaseIPWL.drop(DayCaseIPWL.columns[DayCaseIPWL.columns.str.contains('unnamed',case = False)],axis = 1, inplace = True);DayCaseIPWL.replace(\"--\", 0, inplace=True);DayCaseIPWL.fillna(0)\n",
    "#TotalIPWL.drop(TotalIPWL.columns[TotalIPWL.columns.str.contains('unnamed',case = False)],axis = 1, inplace = True)\n",
    "\n",
    "\n",
    "AdminIPWL=pd.read_csv(r\"https://www.health-ni.gov.uk/sites/default/files/publications/health/hs-niwts-tables-inpatients-q2-19-20.csv\")\n",
    "#Remove footer data\n",
    "AdminIPWL=AdminIPWL.drop([2994,2995,2996,2997,2998,2999,3000,3001,3002,3003,3004,3005]);AdminIPWL=AdminIPWL.dropna(axis='columns');AdminIPWL=AdminIPWL.fillna(0);AdminIPWL.drop(AdminIPWL.columns[AdminIPWL.columns.str.contains('unnamed',case = False)],axis = 1, inplace = True)\n",
    "\n",
    "AdminIPWL[\"0 - 6 weeks\"] = AdminIPWL[\"Total\"].str.replace(\",\",\"\").astype(int);AdminIPWL[\"> 6 - 13 weeks\"] = AdminIPWL[\"> 6 - 13 weeks\"].str.replace(\",\",\"\").astype(int);AdminIPWL[\"> 13 - 21 weeks\"] = AdminIPWL[\"> 13 - 21 weeks\"].str.replace(\",\",\"\").astype(int);AdminIPWL[\"> 21 - 26 weeks\"] = AdminIPWL[\"> 21 - 26 weeks\"].str.replace(\",\",\"\").astype(int);AdminIPWL[\"Total\"] = AdminIPWL[\"Total\"].str.replace(\",\",\"\").astype(int)\n",
    "\n",
    "TotalIPWL=pd.read_csv(r\"https://www.health-ni.gov.uk/sites/default/files/publications/health/hs-niwts-tables-total-waiting-q2-19-20.csv\");TotalIPWL=TotalIPWL.drop([4550,4551,4552,4553,4554,4555,4556,4557,4558,4559,4560,4561]);TotalIPWL=TotalIPWL.fillna(0);TotalIPWL.drop(TotalIPWL.columns[TotalIPWL.columns.str.contains('unnamed',case = False)],axis = 1, inplace = True);TotalIPWL[\"Total\"] = TotalIPWL[\"Total\"].str.replace(\",\",\"\").astype(int)\n",
    "print(\"All In and Out Patient Data Imported\")"
   ]
  },
  {
   "cell_type": "code",
   "execution_count": null,
   "metadata": {},
   "outputs": [],
   "source": [
    "CentralCOPWL = pd.read_csv(r\"https://www.health-ni.gov.uk/sites/default/files/publications/health/hs-niwts-tables-outpatients-centralisation-q2-19-20.csv\");CentralCOPWL=CentralCOPWL.drop([66,67,68,69,70,71]);CentralCOPWL=CentralCOPWL.dropna(axis='columns');OrigCCOPWL=CentralCOPWL;CentralCOPWL.replace(\"--\", 0, inplace=True);CentralCOPWL[\"Total Waiting \"] = CentralCOPWL[\"Total Waiting \"].str.replace(\",\",\"\").astype(float);CentralCOPWL['Below 18 weeks']= CentralCOPWL.iloc[:, 4:9].sum(axis=1);CentralCOPWL.drop(CentralCOPWL.columns[[4,5,6,7,8,9,10,11]], axis = 1, inplace = True);CentralCOPWL['Above 18 weeks'] = CentralCOPWL['Total Waiting '].sub(CentralCOPWL['Below 18 weeks'], axis = 0) \n",
    "CentralCOPWL['Quarter Ending']=pd.to_datetime(CentralCOPWL['Quarter Ending'])\n",
    "CentralCOPWL['% Below 18 weeks'] = 100*CentralCOPWL['Below 18 weeks'].divide(CentralCOPWL[\"Total Waiting \"], fill_value=1)\n",
    "CentralCOPWL['% Above 18 weeks'] = 100*CentralCOPWL['Above 18 weeks'].divide(CentralCOPWL[\"Total Waiting \"], fill_value=1)\n",
    "#.info()\n",
    "\n",
    "A=CentralCOPWL.groupby(['HSC Trust'])[\"% Below 18 weeks\",\"% Above 18 weeks\"].mean()\n",
    "#\n",
    "A.plot.barh()\n",
    "A.info()\n",
    "#CentralCOPWL.groupby['Quarter Ending'].mean()\n"
   ]
  },
  {
   "cell_type": "code",
   "execution_count": 44,
   "metadata": {},
   "outputs": [],
   "source": [
    "FirstCOPWL = pd.read_csv(r\"https://www.health-ni.gov.uk/sites/default/files/publications/health/hs-niwts-tables-outpatients-q2-19-20.csv\")\n",
    "#Remove footer data\n",
    "FirstCOPWL=FirstCOPWL.drop([6134,6135,6136,6137,6138])\n",
    "FirstCOPWL.replace(\"--\", 0, inplace=True)\n",
    "#FirstCOPWL[\"Quarter Ending\"]=pd.to_datetime(FirstCOPWL[\"Quarter Ending\"])\n",
    "FirstCOPWL[\"0 - 6 weeks\"] = FirstCOPWL[\"0 - 6 weeks\"].str.replace(\",\",\"\").astype(int)\n",
    "FirstCOPWL[\"> 6 - 9 weeks\"] = FirstCOPWL[\"> 6 - 9 weeks\"].str.replace(\",\",\"\").astype(int)\n",
    "FirstCOPWL[\"> 9 - 12 weeks\"] = FirstCOPWL[\"> 9 - 12 weeks\"].str.replace(\",\",\"\").astype(float)\n",
    "#FirstCOPWL[\"> 9 - 13 weeks\"] = FirstCOPWL[\"> 9 - 13 weeks\"].str.replace(\",\",\"\").astype(float)\n",
    "#FirstCOPWL[\"> 12-15 weeks\"] = FirstCOPWL[\"> 12-15 weeks\"].str.replace(\",\",\"\").astype(float)\n",
    "FirstCOPWL[\"> 13 - 26 weeks\"] = FirstCOPWL[\"> 13 - 26 weeks\"].str.replace(\",\",\"\").astype(float)\n",
    "FirstCOPWL[\"> 26 weeks\"] = FirstCOPWL[\"> 26 weeks\"].str.replace(\",\",\"\").astype(float)\n"
   ]
  },
  {
   "cell_type": "code",
   "execution_count": 45,
   "metadata": {},
   "outputs": [
    {
     "name": "stdout",
     "output_type": "stream",
     "text": [
      "All In and Out Patient Data Imported\n"
     ]
    }
   ],
   "source": [
    "ICATSWL=pd.read_csv(r\"https://www.health-ni.gov.uk/sites/default/files/publications/health/hs-niwts-tables-icats-q2-19-20.csv\")\n",
    "ICATSWLA=ICATSWL.drop_duplicates();ICATSWL=ICATSWLA.drop([689,691,692,693,694]);ICATSWL=ICATSWL.dropna(axis='columns');ICATSWL=ICATSWL.fillna(0)\n",
    "ICATSWL.replace(\"--\", 0, inplace=True)\n",
    "ICATSWL['Quarter Ending']=pd.to_datetime(ICATSWL['Quarter Ending'])\n",
    "#Remove footer data\n",
    "\n",
    "DayCaseIPWL=pd.read_csv(r\"https://www.health-ni.gov.uk/sites/default/files/publications/health/hs-niwts-tables-day-cases-q2-19-20.csv\")\n",
    "#Remove footer data\n",
    "DayCaseIPWL=DayCaseIPWL.drop([4399,4400,4401,4402,4403,4404,4405,4406,4407,4408,4409,4410,4411,4412]);DayCaseIPWL.drop(DayCaseIPWL.columns[DayCaseIPWL.columns.str.contains('unnamed',case = False)],axis = 1, inplace = True);DayCaseIPWL.replace(\"--\", 0, inplace=True);DayCaseIPWL.fillna(0)\n",
    "#TotalIPWL.drop(TotalIPWL.columns[TotalIPWL.columns.str.contains('unnamed',case = False)],axis = 1, inplace = True)\n",
    "#DayCaseIPWL['Quarter Ending']=pd.to_datetime(DayCaseIPWL['Quarter Ending'])\n",
    "\n",
    "AdminIPWL=pd.read_csv(r\"https://www.health-ni.gov.uk/sites/default/files/publications/health/hs-niwts-tables-inpatients-q2-19-20.csv\")\n",
    "#Remove footer data\n",
    "AdminIPWL=AdminIPWL.drop([2994,2995,2996,2997,2998,2999,3000,3001,3002,3003,3004,3005]);AdminIPWL=AdminIPWL.dropna(axis='columns');AdminIPWL=AdminIPWL.fillna(0);AdminIPWL.drop(AdminIPWL.columns[AdminIPWL.columns.str.contains('unnamed',case = False)],axis = 1, inplace = True)\n",
    "#AdminIPWL['Quarter Ending']=pd.to_datetime(AdminIPWL['Quarter Ending'])\n",
    "AdminIPWL[\"0 - 6 weeks\"] = AdminIPWL[\"Total\"].str.replace(\",\",\"\").astype(int);AdminIPWL[\"> 6 - 13 weeks\"] = AdminIPWL[\"> 6 - 13 weeks\"].str.replace(\",\",\"\").astype(int);AdminIPWL[\"> 13 - 21 weeks\"] = AdminIPWL[\"> 13 - 21 weeks\"].str.replace(\",\",\"\").astype(int);AdminIPWL[\"> 21 - 26 weeks\"] = AdminIPWL[\"> 21 - 26 weeks\"].str.replace(\",\",\"\").astype(int);AdminIPWL[\"Total\"] = AdminIPWL[\"Total\"].str.replace(\",\",\"\").astype(int)\n",
    "\n",
    "TotalIPWL=pd.read_csv(r\"https://www.health-ni.gov.uk/sites/default/files/publications/health/hs-niwts-tables-total-waiting-q2-19-20.csv\");TotalIPWL=TotalIPWL.drop([4550,4551,4552,4553,4554,4555,4556,4557,4558,4559,4560,4561]);TotalIPWL=TotalIPWL.fillna(0);TotalIPWL.drop(TotalIPWL.columns[TotalIPWL.columns.str.contains('unnamed',case = False)],axis = 1, inplace = True);TotalIPWL[\"Total\"] = TotalIPWL[\"Total\"].str.replace(\",\",\"\").astype(int)\n",
    "print(\"All In and Out Patient Data Imported\")"
   ]
  },
  {
   "cell_type": "code",
   "execution_count": 46,
   "metadata": {},
   "outputs": [
    {
     "data": {
      "text/html": [
       "<div>\n",
       "<style scoped>\n",
       "    .dataframe tbody tr th:only-of-type {\n",
       "        vertical-align: middle;\n",
       "    }\n",
       "\n",
       "    .dataframe tbody tr th {\n",
       "        vertical-align: top;\n",
       "    }\n",
       "\n",
       "    .dataframe thead th {\n",
       "        text-align: right;\n",
       "    }\n",
       "</style>\n",
       "<table border=\"1\" class=\"dataframe\">\n",
       "  <thead>\n",
       "    <tr style=\"text-align: right;\">\n",
       "      <th></th>\n",
       "      <th>Quarter Ending</th>\n",
       "      <th>HSCTrust</th>\n",
       "      <th>Specialty</th>\n",
       "      <th>Programme of Care</th>\n",
       "      <th>0 - 6 weeks</th>\n",
       "      <th>&gt; 6 - 13 weeks</th>\n",
       "      <th>&gt; 13 - 21 weeks</th>\n",
       "      <th>&gt; 21 - 26 weeks</th>\n",
       "      <th>&gt; 26 weeks</th>\n",
       "      <th>&gt;26-52 weeks</th>\n",
       "      <th>&gt;52 weeks</th>\n",
       "      <th>&gt; 26-30 weeks</th>\n",
       "      <th>&gt; 30 weeks</th>\n",
       "      <th>&gt;30-36 weeks</th>\n",
       "      <th>&gt; 26 - 36 weeks</th>\n",
       "      <th>&gt; 36 weeks</th>\n",
       "      <th>Total</th>\n",
       "    </tr>\n",
       "  </thead>\n",
       "  <tbody>\n",
       "    <tr>\n",
       "      <th>4545</th>\n",
       "      <td>30-Sep-2019</td>\n",
       "      <td>Western</td>\n",
       "      <td>Ophthalmology</td>\n",
       "      <td>Acute Services</td>\n",
       "      <td>418</td>\n",
       "      <td>392</td>\n",
       "      <td>438</td>\n",
       "      <td>246</td>\n",
       "      <td>1437</td>\n",
       "      <td>1225</td>\n",
       "      <td>212</td>\n",
       "      <td>0</td>\n",
       "      <td>0</td>\n",
       "      <td>0</td>\n",
       "      <td>0</td>\n",
       "      <td>0</td>\n",
       "      <td>2931</td>\n",
       "    </tr>\n",
       "    <tr>\n",
       "      <th>4546</th>\n",
       "      <td>30-Sep-2019</td>\n",
       "      <td>Western</td>\n",
       "      <td>Oral Surgery</td>\n",
       "      <td>Acute Services</td>\n",
       "      <td>125</td>\n",
       "      <td>68</td>\n",
       "      <td>69</td>\n",
       "      <td>21</td>\n",
       "      <td>208</td>\n",
       "      <td>72</td>\n",
       "      <td>136</td>\n",
       "      <td>0</td>\n",
       "      <td>0</td>\n",
       "      <td>0</td>\n",
       "      <td>0</td>\n",
       "      <td>0</td>\n",
       "      <td>491</td>\n",
       "    </tr>\n",
       "    <tr>\n",
       "      <th>4547</th>\n",
       "      <td>30-Sep-2019</td>\n",
       "      <td>Western</td>\n",
       "      <td>Pain Management</td>\n",
       "      <td>Acute Services</td>\n",
       "      <td>59</td>\n",
       "      <td>38</td>\n",
       "      <td>38</td>\n",
       "      <td>21</td>\n",
       "      <td>213</td>\n",
       "      <td>121</td>\n",
       "      <td>92</td>\n",
       "      <td>0</td>\n",
       "      <td>0</td>\n",
       "      <td>0</td>\n",
       "      <td>0</td>\n",
       "      <td>0</td>\n",
       "      <td>369</td>\n",
       "    </tr>\n",
       "    <tr>\n",
       "      <th>4548</th>\n",
       "      <td>30-Sep-2019</td>\n",
       "      <td>Western</td>\n",
       "      <td>T &amp; O Surgery</td>\n",
       "      <td>Acute Services</td>\n",
       "      <td>327</td>\n",
       "      <td>248</td>\n",
       "      <td>296</td>\n",
       "      <td>207</td>\n",
       "      <td>3520</td>\n",
       "      <td>889</td>\n",
       "      <td>2631</td>\n",
       "      <td>0</td>\n",
       "      <td>0</td>\n",
       "      <td>0</td>\n",
       "      <td>0</td>\n",
       "      <td>0</td>\n",
       "      <td>4598</td>\n",
       "    </tr>\n",
       "    <tr>\n",
       "      <th>4549</th>\n",
       "      <td>30-Sep-2019</td>\n",
       "      <td>Western</td>\n",
       "      <td>Urology</td>\n",
       "      <td>Acute Services</td>\n",
       "      <td>349</td>\n",
       "      <td>155</td>\n",
       "      <td>126</td>\n",
       "      <td>84</td>\n",
       "      <td>710</td>\n",
       "      <td>421</td>\n",
       "      <td>289</td>\n",
       "      <td>0</td>\n",
       "      <td>0</td>\n",
       "      <td>0</td>\n",
       "      <td>0</td>\n",
       "      <td>0</td>\n",
       "      <td>1424</td>\n",
       "    </tr>\n",
       "  </tbody>\n",
       "</table>\n",
       "</div>"
      ],
      "text/plain": [
       "     Quarter Ending  HSCTrust        Specialty Programme of Care 0 - 6 weeks  \\\n",
       "4545     30-Sep-2019  Western    Ophthalmology    Acute Services         418   \n",
       "4546     30-Sep-2019  Western     Oral Surgery    Acute Services         125   \n",
       "4547     30-Sep-2019  Western  Pain Management    Acute Services          59   \n",
       "4548     30-Sep-2019  Western    T & O Surgery    Acute Services         327   \n",
       "4549     30-Sep-2019  Western          Urology    Acute Services         349   \n",
       "\n",
       "     > 6 - 13 weeks > 13 - 21 weeks > 21 - 26 weeks > 26 weeks >26-52 weeks  \\\n",
       "4545            392             438             246       1437         1225   \n",
       "4546             68              69              21        208           72   \n",
       "4547             38              38              21        213          121   \n",
       "4548            248             296             207       3520          889   \n",
       "4549            155             126              84        710          421   \n",
       "\n",
       "     >52 weeks > 26-30 weeks > 30 weeks >30-36 weeks > 26 - 36 weeks  \\\n",
       "4545       212             0          0            0               0   \n",
       "4546       136             0          0            0               0   \n",
       "4547        92             0          0            0               0   \n",
       "4548      2631             0          0            0               0   \n",
       "4549       289             0          0            0               0   \n",
       "\n",
       "     > 36 weeks  Total  \n",
       "4545          0   2931  \n",
       "4546          0    491  \n",
       "4547          0    369  \n",
       "4548          0   4598  \n",
       "4549          0   1424  "
      ]
     },
     "execution_count": 46,
     "metadata": {},
     "output_type": "execute_result"
    }
   ],
   "source": [
    "#DayCaseIPWL['Quarter Ending']=pd.to_datetime(DayCaseIPWL['Quarter Ending'])\n",
    "DayCaseIPWL.head()\n",
    "#TotalIPWL['Quarter Ending']=pd.to_datetime(TotalIPWL['Quarter Ending'])\n",
    "TotalIPWL.tail()"
   ]
  },
  {
   "cell_type": "code",
   "execution_count": 47,
   "metadata": {},
   "outputs": [
    {
     "ename": "AttributeError",
     "evalue": "'DataFrameGroupBy' object has no attribute 'means'",
     "output_type": "error",
     "traceback": [
      "\u001b[1;31m---------------------------------------------------------------------------\u001b[0m",
      "\u001b[1;31mAttributeError\u001b[0m                            Traceback (most recent call last)",
      "\u001b[1;32m<ipython-input-47-f604c1b6f3b8>\u001b[0m in \u001b[0;36m<module>\u001b[1;34m\u001b[0m\n\u001b[1;32m----> 1\u001b[1;33m \u001b[0mTotalIPWL\u001b[0m\u001b[1;33m.\u001b[0m\u001b[0mgroupby\u001b[0m\u001b[1;33m(\u001b[0m\u001b[1;34m\"Specialty\"\u001b[0m\u001b[1;33m)\u001b[0m\u001b[1;33m.\u001b[0m\u001b[0mmeans\u001b[0m\u001b[1;33m(\u001b[0m\u001b[1;33m)\u001b[0m\u001b[1;33m\u001b[0m\u001b[1;33m\u001b[0m\u001b[0m\n\u001b[0m",
      "\u001b[1;32m~\\anaconda3\\lib\\site-packages\\pandas\\core\\groupby\\groupby.py\u001b[0m in \u001b[0;36m__getattr__\u001b[1;34m(self, attr)\u001b[0m\n\u001b[0;32m    578\u001b[0m \u001b[1;33m\u001b[0m\u001b[0m\n\u001b[0;32m    579\u001b[0m         raise AttributeError(\n\u001b[1;32m--> 580\u001b[1;33m             \u001b[1;34mf\"'{type(self).__name__}' object has no attribute '{attr}'\"\u001b[0m\u001b[1;33m\u001b[0m\u001b[1;33m\u001b[0m\u001b[0m\n\u001b[0m\u001b[0;32m    581\u001b[0m         )\n\u001b[0;32m    582\u001b[0m \u001b[1;33m\u001b[0m\u001b[0m\n",
      "\u001b[1;31mAttributeError\u001b[0m: 'DataFrameGroupBy' object has no attribute 'means'"
     ]
    }
   ],
   "source": [
    "TotalIPWL.groupby(\"Specialty\").means()"
   ]
  },
  {
   "cell_type": "markdown",
   "metadata": {},
   "source": [
    "## Clean the Cancer Waiting Lists"
   ]
  },
  {
   "cell_type": "code",
   "execution_count": null,
   "metadata": {},
   "outputs": [],
   "source": [
    "HSCT31DCWT=pd.read_csv(r\"https://www.health-ni.gov.uk/sites/default/files/publications/health/hs-niwts-cwt-31-day-wait-by-trust-q1-19-20.csv\")\n",
    "HSCT31DCWT=HSCT31DCWT.dropna(axis='columns')\n",
    "new=HSCT31DCWT[\"Treatment Month\"].str.split(\"-\", n = 1, expand = True) \n",
    "HSCT31DCWT[\"Treatment_Month\"]= new[0] ;HSCT31DCWT[\"Treatment Year\"]= '20' + new[1]\n",
    "HSCT31DCWT.drop(columns =[\"Treatment Month\"], inplace = True) \n",
    "HSCT31DCWT = HSCT31DCWT[['Treatment_Month', 'Treatment Year', 'HSC Trust', '% treated within 31 days']]\n",
    "\n",
    "\n",
    "HSCT62DCWT=pd.read_csv(r\"https://www.health-ni.gov.uk/sites/default/files/publications/health/hs-niwts-cwt-62-day-wait-by-trust-q1-19-20.csv\")\n",
    "#remove NA columns\n",
    "HSCT62DCWT=HSCT62DCWT.dropna(axis='columns')\n",
    "new=HSCT62DCWT[\"Treatment Month\"].str.split(\"-\", n = 1, expand = True) \n",
    "HSCT62DCWT[\"Treatment_Month\"]= new[0] \n",
    "HSCT62DCWT[\"Treatment Year\"]= '20' + new[1]\n",
    "HSCT62DCWT.drop(columns =[\"Treatment Month\"], inplace = True) \n",
    "HSCT62DCWT = HSCT62DCWT[['Treatment_Month', 'Treatment Year', 'HSC Trust', '% treated within 62 days']]\n",
    "\n",
    "\n",
    "TS31DCWT=pd.read_csv(r\"https://www.health-ni.gov.uk/sites/default/files/publications/health/hs-niwts-cwt-31-day-wait-by-tumour-q1-19-20.csv\")  \n",
    "TS31DCWT.drop(TS31DCWT.columns[TS31DCWT.columns.str.contains('unnamed',case = False)],axis = 1, inplace = True)\n",
    "TS31DCWT.replace(\"--\", \n",
    "           0, \n",
    "           inplace=True)\n",
    "TS31DCWT.replace(\"-\", \n",
    "           0.0, \n",
    "           inplace=True)\n",
    "#TS31DCWT=TS31DCWT.dropna(axis='columns')\n",
    "new=TS31DCWT[\"Treatment Month\"].str.split(\"-\", n = 1, expand = True) \n",
    "TS31DCWT[\"Treatment_Month\"]= new[0] \n",
    "TS31DCWT[\"Treatment Year\"]= '20' + new[1]\n",
    "TS31DCWT.drop(columns =[\"Treatment Month\"], inplace = True) \n",
    "TS31DCWT= TS31DCWT[['Treatment_Month', 'Treatment Year', 'Tumour Site', '% treated within 31 days']]\n",
    "\n",
    "TS62DCWT=pd.read_csv(r\"https://www.health-ni.gov.uk/sites/default/files/publications/health/hs-niwts-cwt-62-day-wait-by-tumour-q1-19-20.csv\")\n",
    "TS62DCWT.drop(TS62DCWT.columns[TS62DCWT.columns.str.contains('unnamed',case = False)],axis = 1, inplace = True)\n",
    "TS62DCWT.replace(\"--\", \n",
    "           0, \n",
    "           inplace=True)\n",
    "TS62DCWT.replace(\"-\", \n",
    "           0, \n",
    "           inplace=True)\n",
    "new=TS62DCWT[\"Treatment Month\"].str.split(\"-\", n = 1, expand = True) \n",
    "TS62DCWT[\"Treatment_Month\"]= new[0] \n",
    "TS62DCWT[\"Treatment Year\"]= '20' + new[1]\n",
    "TS62DCWT.drop(columns =[\"Treatment Month\"], inplace = True) \n",
    "TS62DCWT= TS62DCWT[['Treatment_Month', 'Treatment Year', 'Tumour Site', '% treated within 62 days']]\n",
    "#TS62DCWT=TS62DCWT.dropna(axis='columns')\n",
    "\n",
    "\n",
    "CWT14D=pd.read_csv(r\"https://www.health-ni.gov.uk/sites/default/files/publications/health/hs-niwts-cwt-14-day-wait-q1-19-20.csv\")\n",
    "CWT14D=CWT14D.dropna(axis='columns')\n",
    "new2=CWT14D[\"Month Seen\"].str.split(\"-\", n = 1, expand = True) \n",
    "CWT14D[\"Month_Seen\"]= new[0] \n",
    "CWT14D[\"Year Seen\"]= '20' + new[1]\n",
    "CWT14D.drop(columns =[\"Month Seen\"], inplace = True) \n",
    "CWT14D = CWT14D[['Month_Seen', 'Year Seen', 'HSC Trust', '% seen within 14 days']]\n",
    "\n",
    "\n",
    "print(\"All Cancer Data Imported\")"
   ]
  },
  {
   "cell_type": "code",
   "execution_count": null,
   "metadata": {},
   "outputs": [],
   "source": [
    "HSCT31DCWT.head()\n",
    "test=HSCT31DCWT.groupby([\"HSC Trust\"]).mean()\n",
    "test.plot.bar()\n",
    "\n",
    "\n",
    "#TwentySixtoMax = DayCaseIPWL['> 26-30 weeks'] + DayCaseIPWL['>26-52 weeks'] + DayCaseIPWL['>30-36 weeks'] + DayCaseIPWL['> 26 - 36 weeks']\n",
    "#Max=DayCaseIPWL['> 26 weeks'] + DayCaseIPWL['>52 weeks'] + DayCaseIPWL['> 36 weeks'] \n",
    "\n",
    "\n",
    "#DayCaseIPWL['Max'] = DayCaseIPWL.loc[:,'> 26 weeks'].add(DayCaseIPWL.loc[:,'> 36 weeks'])\n",
    "#DayCaseIPWL['Max'] = DayCaseIPWL.loc[:,['> 26 weeks','> 36 weeks','>52 weeks']].sum(axis=1)\n",
    "#DayCaseIPWL['Max']  = DayCaseIPWL.apply(lambda x: x['> 26 weeks'] +x['> 36 weeks'], axis=1)\n",
    "#DayCaseIPWL.describe()\n",
    "#df.loc[:,'> 26-30 weeks'] = df.loc[:,'> 26-30 weeks'] = df.loc[:,'budget'].add(df.loc[:,'actual'])\n",
    "#DayCaseIPWL=DayCaseIPWL.dropna(axis='columns')\n",
    "#DayCaseIPWL=DayCaseIPWL.dropna(axis='columns')\n",
    "#new3=DayCaseIPWL[\"Quarter Ending\"].str.split(\"-\", n = 1, expand = True) \n",
    "#DayCaseIPWL[\"QE Day\"]= new2[0] \n",
    "#DayCaseIPWL[\"QE Month\"]= new2[1]\n",
    "#DayCaseIPWL[\"QE Year\"]= new2[2]\n",
    "#DayCaseIPWL.drop(columns =[\"Quarter Ending\"], inplace = True) \n",
    "#DayCaseIPWL = DayCaseIPWL[['QE Month','QE Year', 'HSC Trust','Specialty','Programme of Care','0 - 6 weeks','6 - 13 weeks','> 13 - 21 weeks','> 21 - 26 weeks','Total']]\n"
   ]
  },
  {
   "cell_type": "code",
   "execution_count": null,
   "metadata": {},
   "outputs": [],
   "source": [
    "new2=TS62DCWT[['Tumour Site', '% treated within 62 days']]\n",
    "new2[pd.to_numeric(new2['% treated within 62 days'], errors='coerce').notnull()]\n",
    "new2\n",
    "C=new2.groupby(['Tumour Site'])\n",
    "\n"
   ]
  },
  {
   "cell_type": "markdown",
   "metadata": {},
   "source": [
    "## Graphical Experiments"
   ]
  },
  {
   "cell_type": "code",
   "execution_count": null,
   "metadata": {},
   "outputs": [],
   "source": [
    "new2=TS62DCWT[['Tumour Site', '% treated within 62 days']]\n",
    "new2[pd.to_numeric(new2['% treated within 62 days'], errors='coerce').notnull()]\n",
    "new2\n",
    "C=new2.groupby(['Tumour Site'])\n",
    "\n"
   ]
  },
  {
   "cell_type": "code",
   "execution_count": null,
   "metadata": {},
   "outputs": [],
   "source": [
    "TS31DCWT=pd.read_csv(r\"https://www.health-ni.gov.uk/sites/default/files/publications/health/hs-niwts-cwt-31-day-wait-by-tumour-q1-19-20.csv\")  \n",
    "TS31DCWT.drop(TS31DCWT.columns[TS31DCWT.columns.str.contains('unnamed',case = False)],axis = 1, inplace = True)\n",
    "TS31DCWT.replace(\"--\", \n",
    "           0, \n",
    "           inplace=True)\n",
    "TS31DCWT.replace(\"-\", \n",
    "           0.0, \n",
    "           inplace=True)\n",
    "#TS31DCWT=TS31DCWT.dropna(axis='columns')\n",
    "new=TS31DCWT[\"Treatment Month\"].str.split(\"-\", n = 1, expand = True) \n",
    "TS31DCWT[\"Treatment_Month\"]= new[0] \n",
    "TS31DCWT[\"Treatment Year\"]= '20' + new[1]\n",
    "TS31DCWT.drop(columns =[\"Treatment Month\"], inplace = True) \n",
    "TS31DCWT= TS31DCWT[['Treatment_Month', 'Treatment Year', 'Tumour Site', '% treated within 31 days']]\n",
    "#A=TS31DCWT.groupby(['% treated within 31 days'])\n",
    "#A.describe()\n",
    "A=TS31DCWT.groupby(['Tumour Site'])\n",
    "A.head()\n"
   ]
  },
  {
   "cell_type": "code",
   "execution_count": 48,
   "metadata": {},
   "outputs": [
    {
     "ename": "NameError",
     "evalue": "name 'HSCT31DCWT' is not defined",
     "output_type": "error",
     "traceback": [
      "\u001b[1;31m---------------------------------------------------------------------------\u001b[0m",
      "\u001b[1;31mNameError\u001b[0m                                 Traceback (most recent call last)",
      "\u001b[1;32m<ipython-input-48-5d4c10dd27a2>\u001b[0m in \u001b[0;36m<module>\u001b[1;34m\u001b[0m\n\u001b[0;32m      1\u001b[0m \u001b[1;31m#CANCER WAITING TIMES\u001b[0m\u001b[1;33m\u001b[0m\u001b[1;33m\u001b[0m\u001b[1;33m\u001b[0m\u001b[0m\n\u001b[1;32m----> 2\u001b[1;33m \u001b[0mA\u001b[0m\u001b[1;33m=\u001b[0m\u001b[0mHSCT31DCWT\u001b[0m\u001b[1;33m.\u001b[0m\u001b[0mgroupby\u001b[0m\u001b[1;33m(\u001b[0m\u001b[1;33m[\u001b[0m\u001b[1;34m'HSC Trust'\u001b[0m\u001b[1;33m]\u001b[0m\u001b[1;33m)\u001b[0m\u001b[1;33m.\u001b[0m\u001b[0mmean\u001b[0m\u001b[1;33m(\u001b[0m\u001b[1;33m)\u001b[0m\u001b[1;33m\u001b[0m\u001b[1;33m\u001b[0m\u001b[0m\n\u001b[0m\u001b[0;32m      3\u001b[0m \u001b[0mB\u001b[0m\u001b[1;33m=\u001b[0m\u001b[0mHSCT62DCWT\u001b[0m\u001b[1;33m.\u001b[0m\u001b[0mgroupby\u001b[0m\u001b[1;33m(\u001b[0m\u001b[1;33m[\u001b[0m\u001b[1;34m'HSC Trust'\u001b[0m\u001b[1;33m]\u001b[0m\u001b[1;33m)\u001b[0m\u001b[1;33m.\u001b[0m\u001b[0mmean\u001b[0m\u001b[1;33m(\u001b[0m\u001b[1;33m)\u001b[0m\u001b[1;33m\u001b[0m\u001b[1;33m\u001b[0m\u001b[0m\n\u001b[0;32m      4\u001b[0m \u001b[0mC\u001b[0m\u001b[1;33m=\u001b[0m\u001b[0mCWT14D\u001b[0m\u001b[1;33m.\u001b[0m\u001b[0mgroupby\u001b[0m\u001b[1;33m(\u001b[0m\u001b[1;33m[\u001b[0m\u001b[1;34m'HSC Trust'\u001b[0m\u001b[1;33m]\u001b[0m\u001b[1;33m)\u001b[0m\u001b[1;33m.\u001b[0m\u001b[0mmean\u001b[0m\u001b[1;33m(\u001b[0m\u001b[1;33m)\u001b[0m\u001b[1;33m\u001b[0m\u001b[1;33m\u001b[0m\u001b[0m\n\u001b[0;32m      5\u001b[0m \u001b[1;31m#A.plot.bar()\u001b[0m\u001b[1;33m\u001b[0m\u001b[1;33m\u001b[0m\u001b[1;33m\u001b[0m\u001b[0m\n",
      "\u001b[1;31mNameError\u001b[0m: name 'HSCT31DCWT' is not defined"
     ]
    }
   ],
   "source": [
    "#CANCER WAITING TIMES\n",
    "A=HSCT31DCWT.groupby(['HSC Trust']).mean()\n",
    "B=HSCT62DCWT.groupby(['HSC Trust']).mean()\n",
    "C=CWT14D.groupby(['HSC Trust']).mean()\n",
    "#A.plot.bar()\n",
    "#B.plot.bar()\n",
    "join = pd.concat([C,A,B], axis=1, join='inner')\n",
    "join.plot.barh()\n",
    "print(\"Graphs of the Cancer waiting times by Trust\")"
   ]
  },
  {
   "cell_type": "code",
   "execution_count": 49,
   "metadata": {},
   "outputs": [
    {
     "ename": "NameError",
     "evalue": "name 'HSCT31DCWT' is not defined",
     "output_type": "error",
     "traceback": [
      "\u001b[1;31m---------------------------------------------------------------------------\u001b[0m",
      "\u001b[1;31mNameError\u001b[0m                                 Traceback (most recent call last)",
      "\u001b[1;32m<ipython-input-49-32f2bbc0763f>\u001b[0m in \u001b[0;36m<module>\u001b[1;34m\u001b[0m\n\u001b[0;32m      2\u001b[0m \u001b[1;31m#df.month = pd.to_datetime(df.month, unit='s')\u001b[0m\u001b[1;33m\u001b[0m\u001b[1;33m\u001b[0m\u001b[1;33m\u001b[0m\u001b[0m\n\u001b[0;32m      3\u001b[0m \u001b[1;31m#['Treatment Month']\u001b[0m\u001b[1;33m\u001b[0m\u001b[1;33m\u001b[0m\u001b[1;33m\u001b[0m\u001b[0m\n\u001b[1;32m----> 4\u001b[1;33m \u001b[0mA\u001b[0m\u001b[1;33m=\u001b[0m\u001b[0mHSCT31DCWT\u001b[0m\u001b[1;33m.\u001b[0m\u001b[0mgroupby\u001b[0m\u001b[1;33m(\u001b[0m\u001b[1;33m[\u001b[0m\u001b[1;34m'Treatment Year'\u001b[0m\u001b[1;33m]\u001b[0m\u001b[1;33m)\u001b[0m\u001b[1;33m.\u001b[0m\u001b[0mmean\u001b[0m\u001b[1;33m(\u001b[0m\u001b[1;33m)\u001b[0m\u001b[1;33m\u001b[0m\u001b[1;33m\u001b[0m\u001b[0m\n\u001b[0m\u001b[0;32m      5\u001b[0m \u001b[0mB\u001b[0m\u001b[1;33m=\u001b[0m\u001b[0mHSCT62DCWT\u001b[0m\u001b[1;33m.\u001b[0m\u001b[0mgroupby\u001b[0m\u001b[1;33m(\u001b[0m\u001b[1;33m[\u001b[0m\u001b[1;34m'Treatment Year'\u001b[0m\u001b[1;33m]\u001b[0m\u001b[1;33m)\u001b[0m\u001b[1;33m.\u001b[0m\u001b[0mmean\u001b[0m\u001b[1;33m(\u001b[0m\u001b[1;33m)\u001b[0m\u001b[1;33m\u001b[0m\u001b[1;33m\u001b[0m\u001b[0m\n\u001b[0;32m      6\u001b[0m \u001b[0mC\u001b[0m\u001b[1;33m=\u001b[0m\u001b[0mCWT14D\u001b[0m\u001b[1;33m.\u001b[0m\u001b[0mgroupby\u001b[0m\u001b[1;33m(\u001b[0m\u001b[1;33m[\u001b[0m\u001b[1;34m'Year Seen'\u001b[0m\u001b[1;33m]\u001b[0m\u001b[1;33m)\u001b[0m\u001b[1;33m.\u001b[0m\u001b[0mmean\u001b[0m\u001b[1;33m(\u001b[0m\u001b[1;33m)\u001b[0m\u001b[1;33m\u001b[0m\u001b[1;33m\u001b[0m\u001b[0m\n",
      "\u001b[1;31mNameError\u001b[0m: name 'HSCT31DCWT' is not defined"
     ]
    }
   ],
   "source": [
    "#CANCER WAITING TIMES\n",
    "#df.month = pd.to_datetime(df.month, unit='s')\n",
    "#['Treatment Month']\n",
    "A=HSCT31DCWT.groupby(['Treatment Year']).mean()\n",
    "B=HSCT62DCWT.groupby(['Treatment Year']).mean()\n",
    "C=CWT14D.groupby(['Year Seen']).mean()\n",
    "D = pd.concat([C,A,B], axis=1, join='inner')\n",
    "D.plot.line()\n",
    "print(\"Graphs of the Cancer waiting times by Treatment Time\")\n",
    "\n",
    "\n",
    "\n",
    "#plt.zlabel('14 days')"
   ]
  },
  {
   "cell_type": "code",
   "execution_count": 50,
   "metadata": {},
   "outputs": [
    {
     "ename": "NameError",
     "evalue": "name 'HSCT62DCWT' is not defined",
     "output_type": "error",
     "traceback": [
      "\u001b[1;31m---------------------------------------------------------------------------\u001b[0m",
      "\u001b[1;31mNameError\u001b[0m                                 Traceback (most recent call last)",
      "\u001b[1;32m<ipython-input-50-3ca856545da4>\u001b[0m in \u001b[0;36m<module>\u001b[1;34m\u001b[0m\n\u001b[0;32m      1\u001b[0m \u001b[0mplt\u001b[0m\u001b[1;33m.\u001b[0m\u001b[0mfigure\u001b[0m\u001b[1;33m(\u001b[0m\u001b[0mfigsize\u001b[0m\u001b[1;33m=\u001b[0m\u001b[1;33m(\u001b[0m\u001b[1;36m8\u001b[0m\u001b[1;33m,\u001b[0m\u001b[1;36m5\u001b[0m\u001b[1;33m)\u001b[0m\u001b[1;33m)\u001b[0m\u001b[1;33m\u001b[0m\u001b[1;33m\u001b[0m\u001b[0m\n\u001b[1;32m----> 2\u001b[1;33m \u001b[0mx_data\u001b[0m\u001b[1;33m,\u001b[0m \u001b[0my_data\u001b[0m \u001b[1;33m=\u001b[0m \u001b[1;33m(\u001b[0m\u001b[0mHSCT62DCWT\u001b[0m\u001b[1;33m[\u001b[0m\u001b[1;34m\"% treated within 62 days\"\u001b[0m\u001b[1;33m]\u001b[0m\u001b[1;33m.\u001b[0m\u001b[0mvalues\u001b[0m\u001b[1;33m,\u001b[0m \u001b[0mHSCT31DCWT\u001b[0m\u001b[1;33m[\u001b[0m\u001b[1;34m\"% treated within 31 days\"\u001b[0m\u001b[1;33m]\u001b[0m\u001b[1;33m.\u001b[0m\u001b[0mvalues\u001b[0m\u001b[1;33m)\u001b[0m\u001b[1;33m\u001b[0m\u001b[1;33m\u001b[0m\u001b[0m\n\u001b[0m\u001b[0;32m      3\u001b[0m \u001b[0mplt\u001b[0m\u001b[1;33m.\u001b[0m\u001b[0mplot\u001b[0m\u001b[1;33m(\u001b[0m\u001b[0mx_data\u001b[0m\u001b[1;33m,\u001b[0m \u001b[0my_data\u001b[0m\u001b[1;33m,\u001b[0m\u001b[1;34m'ro'\u001b[0m\u001b[1;33m)\u001b[0m\u001b[1;33m\u001b[0m\u001b[1;33m\u001b[0m\u001b[0m\n\u001b[0;32m      4\u001b[0m \u001b[0mplt\u001b[0m\u001b[1;33m.\u001b[0m\u001b[0mylabel\u001b[0m\u001b[1;33m(\u001b[0m\u001b[1;34m'62 days'\u001b[0m\u001b[1;33m)\u001b[0m\u001b[1;33m\u001b[0m\u001b[1;33m\u001b[0m\u001b[0m\n\u001b[0;32m      5\u001b[0m \u001b[0mplt\u001b[0m\u001b[1;33m.\u001b[0m\u001b[0mxlabel\u001b[0m\u001b[1;33m(\u001b[0m\u001b[1;34m'31 days'\u001b[0m\u001b[1;33m)\u001b[0m\u001b[1;33m\u001b[0m\u001b[1;33m\u001b[0m\u001b[0m\n",
      "\u001b[1;31mNameError\u001b[0m: name 'HSCT62DCWT' is not defined"
     ]
    },
    {
     "data": {
      "text/plain": [
       "<Figure size 576x360 with 0 Axes>"
      ]
     },
     "metadata": {},
     "output_type": "display_data"
    }
   ],
   "source": [
    "\n",
    "plt.figure(figsize=(8,5))\n",
    "x_data, y_data = (HSCT62DCWT[\"% treated within 62 days\"].values, HSCT31DCWT[\"% treated within 31 days\"].values)\n",
    "plt.plot(x_data, y_data,'ro')\n",
    "plt.ylabel('62 days')\n",
    "plt.xlabel('31 days')\n",
    "plt.show()\n",
    "\n",
    "\n",
    "plt.figure(figsize=(8,5))\n",
    "x_data, y_data = (HSCT31DCWT[\"% treated within 31 days\"].values, CWT14D['% seen within 14 days'].values)\n",
    "plt.plot(x_data, y_data, 'go')\n",
    "plt.ylabel('62 days')\n",
    "plt.xlabel('14 days')\n",
    "plt.show()\n",
    "\n",
    "\n",
    "plt.figure(figsize=(8,5))\n",
    "x_data, y_data = (HSCT62DCWT[\"% treated within 62 days\"].values, CWT14D['% seen within 14 days'].values)\n",
    "plt.plot(x_data, y_data, 'bo')\n",
    "plt.ylabel('62 days')\n",
    "plt.xlabel('14 days')\n",
    "plt.show()\n",
    "\n",
    "#sns.regplot(x='x_data', y='y_data', data=df)"
   ]
  },
  {
   "cell_type": "code",
   "execution_count": 51,
   "metadata": {},
   "outputs": [
    {
     "ename": "NameError",
     "evalue": "name 'HSCT31DCWT' is not defined",
     "output_type": "error",
     "traceback": [
      "\u001b[1;31m---------------------------------------------------------------------------\u001b[0m",
      "\u001b[1;31mNameError\u001b[0m                                 Traceback (most recent call last)",
      "\u001b[1;32m<ipython-input-51-c1d5e4199013>\u001b[0m in \u001b[0;36m<module>\u001b[1;34m\u001b[0m\n\u001b[1;32m----> 1\u001b[1;33m \u001b[0mHSCT31DCWT\u001b[0m\u001b[1;33m.\u001b[0m\u001b[0minfo\u001b[0m\u001b[1;33m(\u001b[0m\u001b[1;33m)\u001b[0m\u001b[1;33m\u001b[0m\u001b[1;33m\u001b[0m\u001b[0m\n\u001b[0m\u001b[0;32m      2\u001b[0m \u001b[0mHSCT62DCWT\u001b[0m\u001b[1;33m.\u001b[0m\u001b[0minfo\u001b[0m\u001b[1;33m(\u001b[0m\u001b[1;33m)\u001b[0m\u001b[1;33m\u001b[0m\u001b[1;33m\u001b[0m\u001b[0m\n",
      "\u001b[1;31mNameError\u001b[0m: name 'HSCT31DCWT' is not defined"
     ]
    }
   ],
   "source": [
    "HSCT31DCWT.info()\n",
    "HSCT62DCWT.info()"
   ]
  },
  {
   "cell_type": "code",
   "execution_count": 52,
   "metadata": {},
   "outputs": [
    {
     "ename": "NameError",
     "evalue": "name 'HSCT31DCWT' is not defined",
     "output_type": "error",
     "traceback": [
      "\u001b[1;31m---------------------------------------------------------------------------\u001b[0m",
      "\u001b[1;31mNameError\u001b[0m                                 Traceback (most recent call last)",
      "\u001b[1;32m<ipython-input-52-451d0ce945b5>\u001b[0m in \u001b[0;36m<module>\u001b[1;34m\u001b[0m\n\u001b[0;32m      8\u001b[0m \u001b[1;33m\u001b[0m\u001b[0m\n\u001b[0;32m      9\u001b[0m \u001b[1;33m\u001b[0m\u001b[0m\n\u001b[1;32m---> 10\u001b[1;33m Data = {'x': HSCT31DCWT[\"% treated within 31 days\"].values,\n\u001b[0m\u001b[0;32m     11\u001b[0m         \u001b[1;34m'y'\u001b[0m\u001b[1;33m:\u001b[0m \u001b[0mHSCT62DCWT\u001b[0m\u001b[1;33m[\u001b[0m\u001b[1;34m\"% treated within 62 days\"\u001b[0m\u001b[1;33m]\u001b[0m\u001b[1;33m.\u001b[0m\u001b[0mvalues\u001b[0m\u001b[1;33m,\u001b[0m\u001b[1;33m\u001b[0m\u001b[1;33m\u001b[0m\u001b[0m\n\u001b[0;32m     12\u001b[0m         \u001b[1;34m'z'\u001b[0m\u001b[1;33m:\u001b[0m \u001b[0mCWT14D\u001b[0m\u001b[1;33m[\u001b[0m\u001b[1;34m'% seen within 14 days'\u001b[0m\u001b[1;33m]\u001b[0m\u001b[1;33m\u001b[0m\u001b[1;33m\u001b[0m\u001b[0m\n",
      "\u001b[1;31mNameError\u001b[0m: name 'HSCT31DCWT' is not defined"
     ]
    }
   ],
   "source": [
    "from pandas import DataFrame\n",
    "import matplotlib.pyplot as plt\n",
    "from sklearn.cluster import KMeans\n",
    "\n",
    "n_clusters=3\n",
    "#Data =x_data, y_data = (HSCT31DCWT[\"% treated within 31 days\"].values, CWT14D['% seen within 14 days'].values)\n",
    "#x_data, y_data = (HSCT62DCWT[\"% treated within 62 days\"].values, HSCT31DCWT[\"% treated within 31 days\"].values)\n",
    "\n",
    "\n",
    "Data = {'x': HSCT31DCWT[\"% treated within 31 days\"].values,\n",
    "        'y': HSCT62DCWT[\"% treated within 62 days\"].values,\n",
    "        'z': CWT14D['% seen within 14 days']\n",
    "       }\n",
    "  \n",
    "df = DataFrame(Data,columns=['x','y'])\n",
    "\n",
    "df1 = DataFrame(Data,columns=['x','z'])\n",
    "df2 = DataFrame(Data,columns=['y','z'])\n",
    "  \n",
    "kmeans = KMeans(n_clusters).fit(df)\n",
    "centroids = kmeans.cluster_centers_\n",
    "print(centroids)\n",
    "\n",
    "plt.scatter(df['x'], df['y'], c= kmeans.labels_.astype(float), s=50, alpha=0.5)\n",
    "plt.scatter(centroids[:, 0], centroids[:, 1], c='green', s=50)\n",
    "plt.show()\n",
    "\n",
    "  \n",
    "kmeans = KMeans(n_clusters).fit(df1)\n",
    "centroids = kmeans.cluster_centers_\n",
    "print(centroids)\n",
    "\n",
    "plt.scatter(df1['x'], df1['z'], c= kmeans.labels_.astype(float), s=50, alpha=0.5)\n",
    "plt.scatter(centroids[:, 0], centroids[:, 1], c='blue', s=50)\n",
    "plt.show()\n",
    "\n",
    "kmeans = KMeans(n_clusters).fit(df2)\n",
    "centroids = kmeans.cluster_centers_\n",
    "print(centroids)\n",
    "\n",
    "plt.scatter(df2['y'], df2['z'], c= kmeans.labels_.astype(float), s=50, alpha=0.5)\n",
    "plt.scatter(centroids[:, 0], centroids[:, 1], c='red', s=50)\n",
    "plt.show()\n"
   ]
  },
  {
   "cell_type": "code",
   "execution_count": null,
   "metadata": {},
   "outputs": [],
   "source": [
    "pip install sklearn"
   ]
  },
  {
   "cell_type": "code",
   "execution_count": null,
   "metadata": {},
   "outputs": [],
   "source": []
  },
  {
   "cell_type": "code",
   "execution_count": 53,
   "metadata": {},
   "outputs": [
    {
     "data": {
      "text/plain": [
       "LinearRegression(copy_X=True, fit_intercept=True, n_jobs=None, normalize=False)"
      ]
     },
     "execution_count": 53,
     "metadata": {},
     "output_type": "execute_result"
    }
   ],
   "source": [
    "from sklearn.linear_model import LinearRegression\n",
    "lm = LinearRegression()\n",
    "lm"
   ]
  },
  {
   "cell_type": "code",
   "execution_count": 54,
   "metadata": {},
   "outputs": [],
   "source": [
    "#X=HSCT62DCWT[\"% treated within 62 days\"]\n",
    "#Y=CWT14D['% seen within 14 days\"]\n",
    "#lm.fit(X,Y)"
   ]
  },
  {
   "cell_type": "code",
   "execution_count": 55,
   "metadata": {},
   "outputs": [
    {
     "ename": "NameError",
     "evalue": "name 'HSCT31DCWT' is not defined",
     "output_type": "error",
     "traceback": [
      "\u001b[1;31m---------------------------------------------------------------------------\u001b[0m",
      "\u001b[1;31mNameError\u001b[0m                                 Traceback (most recent call last)",
      "\u001b[1;32m<ipython-input-55-4df51122b5cb>\u001b[0m in \u001b[0;36m<module>\u001b[1;34m\u001b[0m\n\u001b[0;32m      7\u001b[0m \u001b[1;31m#HSCT31DCWT = HSCT31DCWT[['Treatment_Month', 'Treatment Year', 'HSC Trust', '% treated within 31 days']]\u001b[0m\u001b[1;33m\u001b[0m\u001b[1;33m\u001b[0m\u001b[1;33m\u001b[0m\u001b[0m\n\u001b[0;32m      8\u001b[0m \u001b[1;33m\u001b[0m\u001b[0m\n\u001b[1;32m----> 9\u001b[1;33m \u001b[0mE\u001b[0m\u001b[1;33m=\u001b[0m\u001b[0mHSCT31DCWT\u001b[0m\u001b[1;33m.\u001b[0m\u001b[0mgroupby\u001b[0m\u001b[1;33m(\u001b[0m\u001b[1;33m[\u001b[0m\u001b[1;34m'Treatment Year'\u001b[0m\u001b[1;33m]\u001b[0m\u001b[1;33m)\u001b[0m\u001b[1;33m.\u001b[0m\u001b[0mmean\u001b[0m\u001b[1;33m(\u001b[0m\u001b[1;33m)\u001b[0m\u001b[1;33m\u001b[0m\u001b[1;33m\u001b[0m\u001b[0m\n\u001b[0m\u001b[0;32m     10\u001b[0m \u001b[1;31m#E.plot.line()\u001b[0m\u001b[1;33m\u001b[0m\u001b[1;33m\u001b[0m\u001b[1;33m\u001b[0m\u001b[0m\n\u001b[0;32m     11\u001b[0m \u001b[0mF\u001b[0m\u001b[1;33m=\u001b[0m\u001b[0mHSCT31DCWT\u001b[0m\u001b[1;33m.\u001b[0m\u001b[0mgroupby\u001b[0m\u001b[1;33m(\u001b[0m\u001b[1;33m[\u001b[0m\u001b[1;34m'HSC Trust'\u001b[0m\u001b[1;33m]\u001b[0m\u001b[1;33m)\u001b[0m\u001b[1;33m.\u001b[0m\u001b[0mmean\u001b[0m\u001b[1;33m(\u001b[0m\u001b[1;33m)\u001b[0m\u001b[1;33m\u001b[0m\u001b[1;33m\u001b[0m\u001b[0m\n",
      "\u001b[1;31mNameError\u001b[0m: name 'HSCT31DCWT' is not defined"
     ]
    }
   ],
   "source": [
    "#HSCT31DCWT=pd.read_csv(r\"https://www.health-ni.gov.uk/sites/default/files/publications/health/hs-niwts-cwt-31-day-wait-by-trust-q1-19-20.csv\")\n",
    "#HSCT31DCWT=HSCT31DCWT.dropna(axis='columns')\n",
    "#new=HSCT31DCWT[\"Treatment Month\"].str.split(\"-\", n = 1, expand = True) \n",
    "#HSCT31DCWT[\"Treatment_Month\"]= new[0] \n",
    "#HSCT31DCWT[\"Treatment Year\"]= '20' + new[1]\n",
    "#HSCT31DCWT.drop(columns =[\"Treatment Month\"], inplace = True) \n",
    "#HSCT31DCWT = HSCT31DCWT[['Treatment_Month', 'Treatment Year', 'HSC Trust', '% treated within 31 days']]\n",
    "\n",
    "E=HSCT31DCWT.groupby(['Treatment Year']).mean()\n",
    "#E.plot.line()\n",
    "F=HSCT31DCWT.groupby(['HSC Trust']).mean()\n",
    "#F.plot.bar()\n",
    "G=HSCT62DCWT.groupby(['Treatment Year']).mean()\n",
    "#G.plot.line()\n",
    "H=HSCT62DCWT.groupby(['HSC Trust']).mean()\n",
    "#H.plot.bar()\n",
    "\n",
    "J = pd.concat([E,G], axis=1, join='inner')\n",
    "J.plot.line()\n",
    "\n",
    "K = pd.concat([F,H], axis=1, join='inner')\n",
    "K.plot.bar()\n",
    "\n"
   ]
  },
  {
   "cell_type": "code",
   "execution_count": 56,
   "metadata": {
    "scrolled": true
   },
   "outputs": [
    {
     "name": "stdout",
     "output_type": "stream",
     "text": [
      "Requirement already satisfied: folium in c:\\users\\pat\\anaconda3\\lib\\site-packages (0.10.1)\n",
      "Requirement already satisfied: jinja2>=2.9 in c:\\users\\pat\\anaconda3\\lib\\site-packages (from folium) (2.11.1)\n",
      "Requirement already satisfied: branca>=0.3.0 in c:\\users\\pat\\anaconda3\\lib\\site-packages (from folium) (0.4.0)\n",
      "Requirement already satisfied: numpy in c:\\users\\pat\\anaconda3\\lib\\site-packages (from folium) (1.18.1)\n",
      "Requirement already satisfied: requests in c:\\users\\pat\\anaconda3\\lib\\site-packages (from folium) (2.22.0)\n",
      "Requirement already satisfied: MarkupSafe>=0.23 in c:\\users\\pat\\anaconda3\\lib\\site-packages (from jinja2>=2.9->folium) (1.1.1)\n",
      "Requirement already satisfied: six in c:\\users\\pat\\anaconda3\\lib\\site-packages (from branca>=0.3.0->folium) (1.14.0)\n",
      "Requirement already satisfied: idna<2.9,>=2.5 in c:\\users\\pat\\anaconda3\\lib\\site-packages (from requests->folium) (2.8)\n",
      "Requirement already satisfied: certifi>=2017.4.17 in c:\\users\\pat\\anaconda3\\lib\\site-packages (from requests->folium) (2019.11.28)\n",
      "Requirement already satisfied: chardet<3.1.0,>=3.0.2 in c:\\users\\pat\\anaconda3\\lib\\site-packages (from requests->folium) (3.0.4)\n",
      "Requirement already satisfied: urllib3!=1.25.0,!=1.25.1,<1.26,>=1.21.1 in c:\\users\\pat\\anaconda3\\lib\\site-packages (from requests->folium) (1.25.8)\n",
      "Note: you may need to restart the kernel to use updated packages.\n"
     ]
    }
   ],
   "source": [
    "pip install folium"
   ]
  },
  {
   "cell_type": "code",
   "execution_count": 57,
   "metadata": {},
   "outputs": [
    {
     "name": "stdout",
     "output_type": "stream",
     "text": [
      "['Southern' 'Belfast' 'Western' 'Southern' 'Southern']\n",
      "3691         Southern\n",
      "6578    South Eastern\n",
      "6270          Belfast\n",
      "6656         Northern\n",
      "8448         Southern\n",
      "Name: HSC Trust, dtype: object\n",
      "DecisionTrees's Accuracy:  0.33668341708542715\n"
     ]
    }
   ],
   "source": [
    "import numpy as np \n",
    "import pandas as pd\n",
    "from sklearn.tree import DecisionTreeClassifier\n",
    "\n",
    "\n",
    "# now, read data using pandas dataframe:    \n",
    "my_data = DiagnosticRTT\n",
    "my_data[0:5]\n",
    "\n",
    "# Remove the column containing the target name since it doesn't contain numeric values.\n",
    "X = my_data[['% reported within 2 days','% reported within 2 weeks','% reported within 4 weeks','>28 days\\t']].values\n",
    "X[0:5]\n",
    "\n",
    "# As you may figure out, some features in this dataset are categorical such as Sex or BP.\n",
    "from sklearn import preprocessing\n",
    "#le_Pri = preprocessing.LabelEncoder()\n",
    "#le_Pri.fit(['ROUTINE','URGENT'])\n",
    "#X[:,1] = le_Pri.transform(X[:,1]) \n",
    "\n",
    "\n",
    "#le_BP = preprocessing.LabelEncoder()\n",
    "#le_BP.fit([ 'LOW', 'NORMAL', 'HIGH'])\n",
    "#X[:,2] = le_BP.transform(X[:,2])\n",
    "\n",
    "\n",
    "#le_Chol = preprocessing.LabelEncoder()\n",
    "#le_Chol.fit([ 'NORMAL', 'HIGH'])\n",
    "#X[:,3] = le_Chol.transform(X[:,3]) \n",
    "\n",
    "#X[0:5]\n",
    "\n",
    "# Now we can fill the target variable.\n",
    "y = my_data[\"HSC Trust\"]\n",
    "y[0:5]\n",
    "\n",
    "# Setting up the Decision Tree\n",
    "# We will be using train/test split on our decision tree. \n",
    "# Let's import train_test_split from sklearn.cross_validation.\n",
    "\n",
    "from sklearn.model_selection import train_test_split\n",
    "\n",
    "X_trainset, X_testset, y_trainset, y_testset = train_test_split(X, y, test_size=0.3, random_state=3)\n",
    "\n",
    "# Modeling\n",
    "# We will first create an instance of the DecisionTreeClassifier called drugTree.\n",
    "# Inside of the classifier, specify criterion=\"entropy\" so we can see the information gain of each node.\n",
    "\n",
    "trustTree = DecisionTreeClassifier(criterion=\"entropy\", max_depth = 4)\n",
    "trustTree # it shows the default parameters\n",
    "\n",
    "# Next, we will fit the data with the training feature matrix X_trainset and training response vector y_trainset\n",
    "trustTree.fit(X_trainset,y_trainset)\n",
    "\n",
    "# Prediction\n",
    "# Let's make some predictions on the testing dataset and store it into a variable called predTree.\n",
    "\n",
    "predTree = trustTree.predict(X_testset)\n",
    "\n",
    "# You can print out predTree and y_testset if you want to visually compare the prediction to the actual values.\n",
    "\n",
    "print (predTree [0:5])\n",
    "print (y_testset [0:5])\n",
    "\n",
    "# Evaluation\n",
    "# Next, let's import metrics from sklearn and check the accuracy of our model.\n",
    "\n",
    "from sklearn import metrics\n",
    "import matplotlib.pyplot as plt\n",
    "print(\"DecisionTrees's Accuracy: \", metrics.accuracy_score(y_testset, predTree))"
   ]
  },
  {
   "cell_type": "code",
   "execution_count": 58,
   "metadata": {},
   "outputs": [],
   "source": [
    "#import folium\n",
    "#TrustMap = folium.Map(location=[54.6, -7.7], tiles = \"Stamen Terrain\", zoom_start=8.45)\n",
    "#TrustMap"
   ]
  },
  {
   "cell_type": "code",
   "execution_count": 59,
   "metadata": {},
   "outputs": [],
   "source": [
    "#import geopandas as gpd\n",
    "#import matplotlib.pyplot as plt"
   ]
  },
  {
   "cell_type": "code",
   "execution_count": null,
   "metadata": {},
   "outputs": [],
   "source": []
  },
  {
   "cell_type": "code",
   "execution_count": null,
   "metadata": {},
   "outputs": [],
   "source": []
  }
 ],
 "metadata": {
  "kernelspec": {
   "display_name": "Python 3",
   "language": "python",
   "name": "python3"
  },
  "language_info": {
   "codemirror_mode": {
    "name": "ipython",
    "version": 3
   },
   "file_extension": ".py",
   "mimetype": "text/x-python",
   "name": "python",
   "nbconvert_exporter": "python",
   "pygments_lexer": "ipython3",
   "version": "3.7.6"
  }
 },
 "nbformat": 4,
 "nbformat_minor": 4
}
